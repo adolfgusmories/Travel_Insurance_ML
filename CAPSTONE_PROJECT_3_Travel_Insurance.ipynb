{
 "cells": [
  {
   "cell_type": "code",
   "execution_count": 540,
   "metadata": {},
   "outputs": [],
   "source": [
    "import numpy as np \n",
    "import pandas as pd \n",
    "import matplotlib.pyplot as plt \n",
    "import seaborn as sns\n",
    "\n",
    "from sklearn import metrics\n",
    "from sklearn.model_selection import train_test_split\n",
    "\n",
    "# Preprocessing\n",
    "import category_encoders as ce\n",
    "from sklearn.preprocessing import OneHotEncoder\n",
    "from sklearn.impute import SimpleImputer\n",
    "from sklearn.experimental import enable_iterative_imputer\n",
    "from sklearn.impute import IterativeImputer\n",
    "from sklearn.preprocessing import StandardScaler, RobustScaler, MinMaxScaler, PolynomialFeatures\n",
    "\n",
    "from imblearn.over_sampling import RandomOverSampler, SMOTE\n",
    "from imblearn.under_sampling import RandomUnderSampler, NearMiss\n",
    "\n",
    "from imblearn.pipeline import Pipeline\n",
    "from sklearn.compose import ColumnTransformer\n",
    "\n",
    "# Model\n",
    "from sklearn.linear_model import LogisticRegression\n",
    "from sklearn.neighbors import KNeighborsClassifier\n",
    "from sklearn.tree import DecisionTreeClassifier\n",
    "\n",
    "# Metric\n",
    "from sklearn.model_selection import cross_val_score, StratifiedKFold, cross_val_predict\n",
    "from sklearn.model_selection import GridSearchCV, RandomizedSearchCV\n",
    "from sklearn.metrics import accuracy_score, confusion_matrix, recall_score, precision_score, classification_report, f1_score, make_scorer, fbeta_score\n",
    "from sklearn.metrics import roc_curve, roc_auc_score, plot_roc_curve, precision_recall_curve, average_precision_score, plot_precision_recall_curve\n",
    "\n",
    "# Ensemble (Various Type)\n",
    "from sklearn.ensemble import VotingClassifier, StackingClassifier\n",
    "\n",
    "# Ensemble (Similar Type)\n",
    "from sklearn.ensemble import BaggingClassifier, RandomForestClassifier\n",
    "from sklearn.ensemble import AdaBoostClassifier, GradientBoostingClassifier\n",
    "\n",
    "from scipy.stats import kruskal, mannwhitneyu\n",
    "\n",
    "# Converter Country to Continent\n",
    "import country_converter as coco\n",
    "\n",
    "import warnings\n",
    "warnings.filterwarnings('ignore')"
   ]
  },
  {
   "cell_type": "markdown",
   "metadata": {},
   "source": [
    "# **TRAVEL INSURANCE**\n",
    "## Machine Learning Analytics by Sinabutar Yohanes Adolf Gusmories\n",
    "------------"
   ]
  },
  {
   "cell_type": "markdown",
   "metadata": {},
   "source": [
    "# `BUSINESS PROBLEM`"
   ]
  },
  {
   "cell_type": "markdown",
   "metadata": {},
   "source": [
    "> **Context**\n",
    "\n",
    "Asuransi perjalanan adalah jenis asuransi yang memberikan perlindungan selama kita melakukan perjalanan baik dalam negeri maupun luar negeri. Beberapa negara bahkan telah mewajibkan para *travelers* untuk memiliki asuransi perjalanan, misalnya negara-negara di Eropa dan Amerika. Besarnya premi tergantung dari pertanggungan yang diinginkan, lama perjalanan, dan tujuan perjalanan. Suatu perusahaan yang bergerak di bidang asuransi perjalanan ingin mengetahui pemegang polis yang akan mengajukan klaim asuransi untuk pertanggungan. Data pemegang polis pada perusahaan asuransi merupakan data historis yang terdiri dari destinasi, produk asuransi, dan sebagainya.\n",
    "\n",
    "Target :\n",
    "\n",
    "0 : Tidak klaim asuransi perjalanan\n",
    "\n",
    "1 : Klaim asuransi perjalanan"
   ]
  },
  {
   "cell_type": "markdown",
   "metadata": {},
   "source": [
    "> **Project Background**\n",
    "\n",
    "Klaim asuransi perjalanan membutuhkan persiapan dana oleh perusahaan bilamana pemegang polis meminta pertanggungan. Perusahaan ingin meningkatkan efisiensi cadangan dana untuk alokasi terhadap pemegang polis yang mengajukan klaim, sehingga alokasi dana untuk pertanggungan tidak berlebih yang menyebabkan arus kas perusahaan tidak *liquid*\n"
   ]
  },
  {
   "cell_type": "markdown",
   "metadata": {},
   "source": [
    "> **Goals**\n",
    "\n",
    "Berdasarkan permasalahan tersebut, perusahaan ingin memprediksi kemungkinan pemegang polis asuransi akan klaim tanggungan atau tidak, sehingga alokasi dana tanggungan dapat disesuaikan oleh perusahaan dengan baik. Dari hal tersebut, perusahaan juga ingin mengetahui faktor atau ciri-ciri apa saja yang membuat pemegang polis mengajukan untuk klaim asuransi\n"
   ]
  },
  {
   "cell_type": "markdown",
   "metadata": {},
   "source": [
    "> **Analytical Approach**\n",
    "\n",
    "Analisis ini akan menemukan pola customer yang mengajukan klaim asuransi perjalanan dan yang tidak. Sehingga dibutuhkan model klasifikasi machine learning yang akan membantu perusahaan untuk dapat memprediksi probabilitas customer yang mengajukan klaim atau tidak. Dalam penggunaan kas perusahaan ini diasumsikan jika perusahaan akan mengalokasikan dana customer yang tidak klaim ke instrumen asuransi seperti Obligasi Negara dengan *capital gain* 6% per tahun."
   ]
  },
  {
   "cell_type": "markdown",
   "metadata": {},
   "source": [
    "> **Metric Evaluation**\n",
    "\n",
    "![](confusion%20matrix.png)\n",
    "\n",
    "Type 1 error : False Positive  \n",
    "Konsekuensi: Kehilangan potensi *capital gain* investasi 6% YoY\n",
    "\n",
    "Type 2 error : False Negative  \n",
    "Konsekuensi: Adanya kerugian akibat membutuhkan dana mendadak, karena ternyata pemegang polis melakukan klaim sementara dana untuk pemegang polis ini belum disediakan sebelumnya\n",
    "\n",
    "Berdasarkan konsekuensinya, maka sebisa mungkin yang akan kita lakukan adalah membuat model yang dapat mengurangi probabilitas terjadinya kekurangan cadangan kas yang sewaktu-waktu digunakan untuk pemegang polis yang klaim asuransi, tetapi tanpa mengurangi potensi *capital gain* investasi. Jadi kita ingin sebanyak mungkin prediksi kelas positif yang benar, dengan sesedikit mungkin prediksi *false negative*. Jadi nanti metric utama yang akan kita gunakan adalah **f2_score** karena akan menekan kelas *false negative* namun tetap tidak mengabaikan *false positive*.\n",
    "\n",
    "Dalam hasil metric nantinya akan dilakukan perhitungan banyaknya cadangan kas yang harus disiapkan, dengan asumsi jumlah nominal klaim asuransi perjalanan tiap pemegang polis yaitu rata-rata dari total `Net Sales`"
   ]
  },
  {
   "cell_type": "markdown",
   "metadata": {},
   "source": [
    "# `DATA UNDERSTANDING`"
   ]
  },
  {
   "cell_type": "markdown",
   "metadata": {},
   "source": [
    "## `FEATURES`\n",
    "| **Attribute** | **Description** |\n",
    "| --- | --- |\n",
    "| Agency | Name of agency. |\n",
    "| Agency Type | Type of travel insurance agencies. |\n",
    "| Distribution Channel | Channel of travel insurance agencies. |\n",
    "| Product Name | Name of the travel insurance products. |\n",
    "| Gender | Gender of insured. |\n",
    "| Duration | Duration of travel. |\n",
    "| Destination | Destination of travel. |\n",
    "| Net Sales | Amount of sales of travel insurance policies. |\n",
    "| Commission (in value) | Commission received for travel insurance agency. |\n",
    "| Age | Age of insured. |\n",
    "| Claim | Claim status. |"
   ]
  },
  {
   "cell_type": "code",
   "execution_count": 4,
   "metadata": {},
   "outputs": [
    {
     "data": {
      "text/html": [
       "<div>\n",
       "<style scoped>\n",
       "    .dataframe tbody tr th:only-of-type {\n",
       "        vertical-align: middle;\n",
       "    }\n",
       "\n",
       "    .dataframe tbody tr th {\n",
       "        vertical-align: top;\n",
       "    }\n",
       "\n",
       "    .dataframe thead th {\n",
       "        text-align: right;\n",
       "    }\n",
       "</style>\n",
       "<table border=\"1\" class=\"dataframe\">\n",
       "  <thead>\n",
       "    <tr style=\"text-align: right;\">\n",
       "      <th></th>\n",
       "      <th>Agency</th>\n",
       "      <th>Agency Type</th>\n",
       "      <th>Distribution Channel</th>\n",
       "      <th>Product Name</th>\n",
       "      <th>Gender</th>\n",
       "      <th>Duration</th>\n",
       "      <th>Destination</th>\n",
       "      <th>Net Sales</th>\n",
       "      <th>Commision (in value)</th>\n",
       "      <th>Age</th>\n",
       "      <th>Claim</th>\n",
       "    </tr>\n",
       "  </thead>\n",
       "  <tbody>\n",
       "    <tr>\n",
       "      <th>0</th>\n",
       "      <td>C2B</td>\n",
       "      <td>Airlines</td>\n",
       "      <td>Online</td>\n",
       "      <td>Annual Silver Plan</td>\n",
       "      <td>F</td>\n",
       "      <td>365</td>\n",
       "      <td>SINGAPORE</td>\n",
       "      <td>216.0</td>\n",
       "      <td>54.00</td>\n",
       "      <td>57</td>\n",
       "      <td>No</td>\n",
       "    </tr>\n",
       "    <tr>\n",
       "      <th>1</th>\n",
       "      <td>EPX</td>\n",
       "      <td>Travel Agency</td>\n",
       "      <td>Online</td>\n",
       "      <td>Cancellation Plan</td>\n",
       "      <td>NaN</td>\n",
       "      <td>4</td>\n",
       "      <td>MALAYSIA</td>\n",
       "      <td>10.0</td>\n",
       "      <td>0.00</td>\n",
       "      <td>33</td>\n",
       "      <td>No</td>\n",
       "    </tr>\n",
       "    <tr>\n",
       "      <th>2</th>\n",
       "      <td>JZI</td>\n",
       "      <td>Airlines</td>\n",
       "      <td>Online</td>\n",
       "      <td>Basic Plan</td>\n",
       "      <td>M</td>\n",
       "      <td>19</td>\n",
       "      <td>INDIA</td>\n",
       "      <td>22.0</td>\n",
       "      <td>7.70</td>\n",
       "      <td>26</td>\n",
       "      <td>No</td>\n",
       "    </tr>\n",
       "    <tr>\n",
       "      <th>3</th>\n",
       "      <td>EPX</td>\n",
       "      <td>Travel Agency</td>\n",
       "      <td>Online</td>\n",
       "      <td>2 way Comprehensive Plan</td>\n",
       "      <td>NaN</td>\n",
       "      <td>20</td>\n",
       "      <td>UNITED STATES</td>\n",
       "      <td>112.0</td>\n",
       "      <td>0.00</td>\n",
       "      <td>59</td>\n",
       "      <td>No</td>\n",
       "    </tr>\n",
       "    <tr>\n",
       "      <th>4</th>\n",
       "      <td>C2B</td>\n",
       "      <td>Airlines</td>\n",
       "      <td>Online</td>\n",
       "      <td>Bronze Plan</td>\n",
       "      <td>M</td>\n",
       "      <td>8</td>\n",
       "      <td>SINGAPORE</td>\n",
       "      <td>16.0</td>\n",
       "      <td>4.00</td>\n",
       "      <td>28</td>\n",
       "      <td>No</td>\n",
       "    </tr>\n",
       "    <tr>\n",
       "      <th>...</th>\n",
       "      <td>...</td>\n",
       "      <td>...</td>\n",
       "      <td>...</td>\n",
       "      <td>...</td>\n",
       "      <td>...</td>\n",
       "      <td>...</td>\n",
       "      <td>...</td>\n",
       "      <td>...</td>\n",
       "      <td>...</td>\n",
       "      <td>...</td>\n",
       "      <td>...</td>\n",
       "    </tr>\n",
       "    <tr>\n",
       "      <th>44323</th>\n",
       "      <td>EPX</td>\n",
       "      <td>Travel Agency</td>\n",
       "      <td>Online</td>\n",
       "      <td>2 way Comprehensive Plan</td>\n",
       "      <td>NaN</td>\n",
       "      <td>14</td>\n",
       "      <td>CHINA</td>\n",
       "      <td>30.0</td>\n",
       "      <td>0.00</td>\n",
       "      <td>36</td>\n",
       "      <td>Yes</td>\n",
       "    </tr>\n",
       "    <tr>\n",
       "      <th>44324</th>\n",
       "      <td>CWT</td>\n",
       "      <td>Travel Agency</td>\n",
       "      <td>Online</td>\n",
       "      <td>Rental Vehicle Excess Insurance</td>\n",
       "      <td>NaN</td>\n",
       "      <td>17</td>\n",
       "      <td>AUSTRALIA</td>\n",
       "      <td>79.2</td>\n",
       "      <td>47.52</td>\n",
       "      <td>47</td>\n",
       "      <td>No</td>\n",
       "    </tr>\n",
       "    <tr>\n",
       "      <th>44325</th>\n",
       "      <td>TST</td>\n",
       "      <td>Travel Agency</td>\n",
       "      <td>Offline</td>\n",
       "      <td>Travel Cruise Protect</td>\n",
       "      <td>M</td>\n",
       "      <td>64</td>\n",
       "      <td>THAILAND</td>\n",
       "      <td>30.0</td>\n",
       "      <td>10.50</td>\n",
       "      <td>50</td>\n",
       "      <td>No</td>\n",
       "    </tr>\n",
       "    <tr>\n",
       "      <th>44326</th>\n",
       "      <td>EPX</td>\n",
       "      <td>Travel Agency</td>\n",
       "      <td>Online</td>\n",
       "      <td>2 way Comprehensive Plan</td>\n",
       "      <td>NaN</td>\n",
       "      <td>51</td>\n",
       "      <td>CHINA</td>\n",
       "      <td>36.0</td>\n",
       "      <td>0.00</td>\n",
       "      <td>36</td>\n",
       "      <td>No</td>\n",
       "    </tr>\n",
       "    <tr>\n",
       "      <th>44327</th>\n",
       "      <td>CWT</td>\n",
       "      <td>Travel Agency</td>\n",
       "      <td>Online</td>\n",
       "      <td>Rental Vehicle Excess Insurance</td>\n",
       "      <td>NaN</td>\n",
       "      <td>172</td>\n",
       "      <td>SINGAPORE</td>\n",
       "      <td>0.0</td>\n",
       "      <td>17.82</td>\n",
       "      <td>31</td>\n",
       "      <td>No</td>\n",
       "    </tr>\n",
       "  </tbody>\n",
       "</table>\n",
       "<p>44328 rows × 11 columns</p>\n",
       "</div>"
      ],
      "text/plain": [
       "      Agency    Agency Type Distribution Channel  \\\n",
       "0        C2B       Airlines               Online   \n",
       "1        EPX  Travel Agency               Online   \n",
       "2        JZI       Airlines               Online   \n",
       "3        EPX  Travel Agency               Online   \n",
       "4        C2B       Airlines               Online   \n",
       "...      ...            ...                  ...   \n",
       "44323    EPX  Travel Agency               Online   \n",
       "44324    CWT  Travel Agency               Online   \n",
       "44325    TST  Travel Agency              Offline   \n",
       "44326    EPX  Travel Agency               Online   \n",
       "44327    CWT  Travel Agency               Online   \n",
       "\n",
       "                          Product Name Gender  Duration    Destination  \\\n",
       "0                   Annual Silver Plan      F       365      SINGAPORE   \n",
       "1                    Cancellation Plan    NaN         4       MALAYSIA   \n",
       "2                           Basic Plan      M        19          INDIA   \n",
       "3             2 way Comprehensive Plan    NaN        20  UNITED STATES   \n",
       "4                          Bronze Plan      M         8      SINGAPORE   \n",
       "...                                ...    ...       ...            ...   \n",
       "44323         2 way Comprehensive Plan    NaN        14          CHINA   \n",
       "44324  Rental Vehicle Excess Insurance    NaN        17      AUSTRALIA   \n",
       "44325            Travel Cruise Protect      M        64       THAILAND   \n",
       "44326         2 way Comprehensive Plan    NaN        51          CHINA   \n",
       "44327  Rental Vehicle Excess Insurance    NaN       172      SINGAPORE   \n",
       "\n",
       "       Net Sales  Commision (in value)  Age Claim  \n",
       "0          216.0                 54.00   57    No  \n",
       "1           10.0                  0.00   33    No  \n",
       "2           22.0                  7.70   26    No  \n",
       "3          112.0                  0.00   59    No  \n",
       "4           16.0                  4.00   28    No  \n",
       "...          ...                   ...  ...   ...  \n",
       "44323       30.0                  0.00   36   Yes  \n",
       "44324       79.2                 47.52   47    No  \n",
       "44325       30.0                 10.50   50    No  \n",
       "44326       36.0                  0.00   36    No  \n",
       "44327        0.0                 17.82   31    No  \n",
       "\n",
       "[44328 rows x 11 columns]"
      ]
     },
     "execution_count": 4,
     "metadata": {},
     "output_type": "execute_result"
    }
   ],
   "source": [
    "df = pd.read_csv('data_travel_insurance.csv')\n",
    "df"
   ]
  },
  {
   "cell_type": "code",
   "execution_count": 5,
   "metadata": {},
   "outputs": [
    {
     "name": "stdout",
     "output_type": "stream",
     "text": [
      "<class 'pandas.core.frame.DataFrame'>\n",
      "RangeIndex: 44328 entries, 0 to 44327\n",
      "Data columns (total 11 columns):\n",
      " #   Column                Non-Null Count  Dtype  \n",
      "---  ------                --------------  -----  \n",
      " 0   Agency                44328 non-null  object \n",
      " 1   Agency Type           44328 non-null  object \n",
      " 2   Distribution Channel  44328 non-null  object \n",
      " 3   Product Name          44328 non-null  object \n",
      " 4   Gender                12681 non-null  object \n",
      " 5   Duration              44328 non-null  int64  \n",
      " 6   Destination           44328 non-null  object \n",
      " 7   Net Sales             44328 non-null  float64\n",
      " 8   Commision (in value)  44328 non-null  float64\n",
      " 9   Age                   44328 non-null  int64  \n",
      " 10  Claim                 44328 non-null  object \n",
      "dtypes: float64(2), int64(2), object(7)\n",
      "memory usage: 3.7+ MB\n"
     ]
    }
   ],
   "source": [
    "df.info()"
   ]
  },
  {
   "cell_type": "code",
   "execution_count": 6,
   "metadata": {},
   "outputs": [
    {
     "data": {
      "text/plain": [
       "Agency                      0\n",
       "Agency Type                 0\n",
       "Distribution Channel        0\n",
       "Product Name                0\n",
       "Gender                  31647\n",
       "Duration                    0\n",
       "Destination                 0\n",
       "Net Sales                   0\n",
       "Commision (in value)        0\n",
       "Age                         0\n",
       "Claim                       0\n",
       "dtype: int64"
      ]
     },
     "execution_count": 6,
     "metadata": {},
     "output_type": "execute_result"
    }
   ],
   "source": [
    "# Menampilkan jumlah missing value pada tiap feature\n",
    "df.isna().sum()"
   ]
  },
  {
   "cell_type": "code",
   "execution_count": 7,
   "metadata": {},
   "outputs": [
    {
     "name": "stdout",
     "output_type": "stream",
     "text": [
      "(44328, 11)\n"
     ]
    },
    {
     "data": {
      "text/html": [
       "<div>\n",
       "<style scoped>\n",
       "    .dataframe tbody tr th:only-of-type {\n",
       "        vertical-align: middle;\n",
       "    }\n",
       "\n",
       "    .dataframe tbody tr th {\n",
       "        vertical-align: top;\n",
       "    }\n",
       "\n",
       "    .dataframe thead th {\n",
       "        text-align: right;\n",
       "    }\n",
       "</style>\n",
       "<table border=\"1\" class=\"dataframe\">\n",
       "  <thead>\n",
       "    <tr style=\"text-align: right;\">\n",
       "      <th></th>\n",
       "      <th>dataFeatures</th>\n",
       "      <th>dataType</th>\n",
       "      <th>null</th>\n",
       "      <th>unique</th>\n",
       "      <th>uniqueSample</th>\n",
       "    </tr>\n",
       "  </thead>\n",
       "  <tbody>\n",
       "    <tr>\n",
       "      <th>0</th>\n",
       "      <td>Agency</td>\n",
       "      <td>object</td>\n",
       "      <td>0</td>\n",
       "      <td>16</td>\n",
       "      <td>[TTW, ART]</td>\n",
       "    </tr>\n",
       "    <tr>\n",
       "      <th>1</th>\n",
       "      <td>Agency Type</td>\n",
       "      <td>object</td>\n",
       "      <td>0</td>\n",
       "      <td>2</td>\n",
       "      <td>[Airlines, Travel Agency]</td>\n",
       "    </tr>\n",
       "    <tr>\n",
       "      <th>2</th>\n",
       "      <td>Distribution Channel</td>\n",
       "      <td>object</td>\n",
       "      <td>0</td>\n",
       "      <td>2</td>\n",
       "      <td>[Online, Offline]</td>\n",
       "    </tr>\n",
       "    <tr>\n",
       "      <th>3</th>\n",
       "      <td>Product Name</td>\n",
       "      <td>object</td>\n",
       "      <td>0</td>\n",
       "      <td>26</td>\n",
       "      <td>[Travel Cruise Protect, Annual Silver Plan]</td>\n",
       "    </tr>\n",
       "    <tr>\n",
       "      <th>4</th>\n",
       "      <td>Gender</td>\n",
       "      <td>object</td>\n",
       "      <td>31647</td>\n",
       "      <td>2</td>\n",
       "      <td>[M, nan]</td>\n",
       "    </tr>\n",
       "    <tr>\n",
       "      <th>5</th>\n",
       "      <td>Duration</td>\n",
       "      <td>int64</td>\n",
       "      <td>0</td>\n",
       "      <td>437</td>\n",
       "      <td>[512, 240]</td>\n",
       "    </tr>\n",
       "    <tr>\n",
       "      <th>6</th>\n",
       "      <td>Destination</td>\n",
       "      <td>object</td>\n",
       "      <td>0</td>\n",
       "      <td>138</td>\n",
       "      <td>[CYPRUS, TRINIDAD AND TOBAGO]</td>\n",
       "    </tr>\n",
       "    <tr>\n",
       "      <th>7</th>\n",
       "      <td>Net Sales</td>\n",
       "      <td>float64</td>\n",
       "      <td>0</td>\n",
       "      <td>1006</td>\n",
       "      <td>[116.5, 3.03]</td>\n",
       "    </tr>\n",
       "    <tr>\n",
       "      <th>8</th>\n",
       "      <td>Commision (in value)</td>\n",
       "      <td>float64</td>\n",
       "      <td>0</td>\n",
       "      <td>915</td>\n",
       "      <td>[118.0, 15.0]</td>\n",
       "    </tr>\n",
       "    <tr>\n",
       "      <th>9</th>\n",
       "      <td>Age</td>\n",
       "      <td>int64</td>\n",
       "      <td>0</td>\n",
       "      <td>89</td>\n",
       "      <td>[33, 7]</td>\n",
       "    </tr>\n",
       "    <tr>\n",
       "      <th>10</th>\n",
       "      <td>Claim</td>\n",
       "      <td>object</td>\n",
       "      <td>0</td>\n",
       "      <td>2</td>\n",
       "      <td>[Yes, No]</td>\n",
       "    </tr>\n",
       "  </tbody>\n",
       "</table>\n",
       "</div>"
      ],
      "text/plain": [
       "            dataFeatures dataType   null  unique  \\\n",
       "0                 Agency   object      0      16   \n",
       "1            Agency Type   object      0       2   \n",
       "2   Distribution Channel   object      0       2   \n",
       "3           Product Name   object      0      26   \n",
       "4                 Gender   object  31647       2   \n",
       "5               Duration    int64      0     437   \n",
       "6            Destination   object      0     138   \n",
       "7              Net Sales  float64      0    1006   \n",
       "8   Commision (in value)  float64      0     915   \n",
       "9                    Age    int64      0      89   \n",
       "10                 Claim   object      0       2   \n",
       "\n",
       "                                   uniqueSample  \n",
       "0                                    [TTW, ART]  \n",
       "1                     [Airlines, Travel Agency]  \n",
       "2                             [Online, Offline]  \n",
       "3   [Travel Cruise Protect, Annual Silver Plan]  \n",
       "4                                      [M, nan]  \n",
       "5                                    [512, 240]  \n",
       "6                 [CYPRUS, TRINIDAD AND TOBAGO]  \n",
       "7                                 [116.5, 3.03]  \n",
       "8                                 [118.0, 15.0]  \n",
       "9                                       [33, 7]  \n",
       "10                                    [Yes, No]  "
      ]
     },
     "execution_count": 7,
     "metadata": {},
     "output_type": "execute_result"
    }
   ],
   "source": [
    "# Menampilkan ringkasan \n",
    "listItem = []\n",
    "for col in df.columns :\n",
    "    listItem.append([col, df[col].dtype, df[col].isna().sum(),\n",
    "                    df[col].nunique(), list(df[col].drop_duplicates().sample(2).values)]);\n",
    "\n",
    "dfDesc = pd.DataFrame(columns=['dataFeatures', 'dataType', 'null', 'unique', 'uniqueSample'],\n",
    "                     data=listItem)\n",
    "print(df.shape)\n",
    "dfDesc"
   ]
  },
  {
   "cell_type": "markdown",
   "metadata": {},
   "source": [
    "Summary Features<br>\n",
    "Dari data tersebut dapat terlihat bahwa *missing value* berada pada kolom `Gender`, namun dalam proses analisis machine learning kali ini secara domain tidak ada pengaruh jenis kelamin terhadap kolom target (`Claim`). Karena apabila dilibatkan maka akan terjadi unsur subjektivitas dalam proses klaim asuransi. Selain itu, jumlah missing value yang banyak sekitar **62%** akan sulit diinterpretasikan jika menggunakan data kolom lainnya karena jenis kelamin merupakan faktor yang sifatnya *independent* / tidak dipengaruhi oleh aspek lainnya.\n",
    "\n",
    "Oleh karena itu kolom `Gender` akan di *drop*"
   ]
  },
  {
   "cell_type": "code",
   "execution_count": 8,
   "metadata": {},
   "outputs": [],
   "source": [
    "# Drop kolom Gender\n",
    "df = df.drop(columns=['Gender'])"
   ]
  },
  {
   "cell_type": "markdown",
   "metadata": {},
   "source": [
    "# `DATA CLEANING`"
   ]
  },
  {
   "cell_type": "code",
   "execution_count": 9,
   "metadata": {},
   "outputs": [
    {
     "data": {
      "text/html": [
       "<div>\n",
       "<style scoped>\n",
       "    .dataframe tbody tr th:only-of-type {\n",
       "        vertical-align: middle;\n",
       "    }\n",
       "\n",
       "    .dataframe tbody tr th {\n",
       "        vertical-align: top;\n",
       "    }\n",
       "\n",
       "    .dataframe thead th {\n",
       "        text-align: right;\n",
       "    }\n",
       "</style>\n",
       "<table border=\"1\" class=\"dataframe\">\n",
       "  <thead>\n",
       "    <tr style=\"text-align: right;\">\n",
       "      <th></th>\n",
       "      <th>Agency</th>\n",
       "      <th>Agency Type</th>\n",
       "      <th>Distribution Channel</th>\n",
       "      <th>Product Name</th>\n",
       "      <th>Duration</th>\n",
       "      <th>Destination</th>\n",
       "      <th>Net Sales</th>\n",
       "      <th>Commision (in value)</th>\n",
       "      <th>Age</th>\n",
       "      <th>Claim</th>\n",
       "    </tr>\n",
       "  </thead>\n",
       "  <tbody>\n",
       "    <tr>\n",
       "      <th>count</th>\n",
       "      <td>44328</td>\n",
       "      <td>44328</td>\n",
       "      <td>44328</td>\n",
       "      <td>44328</td>\n",
       "      <td>44328.000000</td>\n",
       "      <td>44328</td>\n",
       "      <td>44328.000000</td>\n",
       "      <td>44328.000000</td>\n",
       "      <td>44328.000000</td>\n",
       "      <td>44328</td>\n",
       "    </tr>\n",
       "    <tr>\n",
       "      <th>unique</th>\n",
       "      <td>16</td>\n",
       "      <td>2</td>\n",
       "      <td>2</td>\n",
       "      <td>26</td>\n",
       "      <td>NaN</td>\n",
       "      <td>138</td>\n",
       "      <td>NaN</td>\n",
       "      <td>NaN</td>\n",
       "      <td>NaN</td>\n",
       "      <td>2</td>\n",
       "    </tr>\n",
       "    <tr>\n",
       "      <th>top</th>\n",
       "      <td>EPX</td>\n",
       "      <td>Travel Agency</td>\n",
       "      <td>Online</td>\n",
       "      <td>Cancellation Plan</td>\n",
       "      <td>NaN</td>\n",
       "      <td>SINGAPORE</td>\n",
       "      <td>NaN</td>\n",
       "      <td>NaN</td>\n",
       "      <td>NaN</td>\n",
       "      <td>No</td>\n",
       "    </tr>\n",
       "    <tr>\n",
       "      <th>freq</th>\n",
       "      <td>24656</td>\n",
       "      <td>32113</td>\n",
       "      <td>43572</td>\n",
       "      <td>12979</td>\n",
       "      <td>NaN</td>\n",
       "      <td>9267</td>\n",
       "      <td>NaN</td>\n",
       "      <td>NaN</td>\n",
       "      <td>NaN</td>\n",
       "      <td>43651</td>\n",
       "    </tr>\n",
       "    <tr>\n",
       "      <th>mean</th>\n",
       "      <td>NaN</td>\n",
       "      <td>NaN</td>\n",
       "      <td>NaN</td>\n",
       "      <td>NaN</td>\n",
       "      <td>49.424292</td>\n",
       "      <td>NaN</td>\n",
       "      <td>40.550948</td>\n",
       "      <td>9.707692</td>\n",
       "      <td>39.925600</td>\n",
       "      <td>NaN</td>\n",
       "    </tr>\n",
       "    <tr>\n",
       "      <th>std</th>\n",
       "      <td>NaN</td>\n",
       "      <td>NaN</td>\n",
       "      <td>NaN</td>\n",
       "      <td>NaN</td>\n",
       "      <td>109.153961</td>\n",
       "      <td>NaN</td>\n",
       "      <td>48.661970</td>\n",
       "      <td>19.625637</td>\n",
       "      <td>13.954926</td>\n",
       "      <td>NaN</td>\n",
       "    </tr>\n",
       "    <tr>\n",
       "      <th>min</th>\n",
       "      <td>NaN</td>\n",
       "      <td>NaN</td>\n",
       "      <td>NaN</td>\n",
       "      <td>NaN</td>\n",
       "      <td>-1.000000</td>\n",
       "      <td>NaN</td>\n",
       "      <td>-357.500000</td>\n",
       "      <td>0.000000</td>\n",
       "      <td>0.000000</td>\n",
       "      <td>NaN</td>\n",
       "    </tr>\n",
       "    <tr>\n",
       "      <th>25%</th>\n",
       "      <td>NaN</td>\n",
       "      <td>NaN</td>\n",
       "      <td>NaN</td>\n",
       "      <td>NaN</td>\n",
       "      <td>9.000000</td>\n",
       "      <td>NaN</td>\n",
       "      <td>18.000000</td>\n",
       "      <td>0.000000</td>\n",
       "      <td>35.000000</td>\n",
       "      <td>NaN</td>\n",
       "    </tr>\n",
       "    <tr>\n",
       "      <th>50%</th>\n",
       "      <td>NaN</td>\n",
       "      <td>NaN</td>\n",
       "      <td>NaN</td>\n",
       "      <td>NaN</td>\n",
       "      <td>22.000000</td>\n",
       "      <td>NaN</td>\n",
       "      <td>26.500000</td>\n",
       "      <td>0.000000</td>\n",
       "      <td>36.000000</td>\n",
       "      <td>NaN</td>\n",
       "    </tr>\n",
       "    <tr>\n",
       "      <th>75%</th>\n",
       "      <td>NaN</td>\n",
       "      <td>NaN</td>\n",
       "      <td>NaN</td>\n",
       "      <td>NaN</td>\n",
       "      <td>53.000000</td>\n",
       "      <td>NaN</td>\n",
       "      <td>48.000000</td>\n",
       "      <td>11.550000</td>\n",
       "      <td>43.000000</td>\n",
       "      <td>NaN</td>\n",
       "    </tr>\n",
       "    <tr>\n",
       "      <th>max</th>\n",
       "      <td>NaN</td>\n",
       "      <td>NaN</td>\n",
       "      <td>NaN</td>\n",
       "      <td>NaN</td>\n",
       "      <td>4881.000000</td>\n",
       "      <td>NaN</td>\n",
       "      <td>810.000000</td>\n",
       "      <td>283.500000</td>\n",
       "      <td>118.000000</td>\n",
       "      <td>NaN</td>\n",
       "    </tr>\n",
       "  </tbody>\n",
       "</table>\n",
       "</div>"
      ],
      "text/plain": [
       "       Agency    Agency Type Distribution Channel       Product Name  \\\n",
       "count   44328          44328                44328              44328   \n",
       "unique     16              2                    2                 26   \n",
       "top       EPX  Travel Agency               Online  Cancellation Plan   \n",
       "freq    24656          32113                43572              12979   \n",
       "mean      NaN            NaN                  NaN                NaN   \n",
       "std       NaN            NaN                  NaN                NaN   \n",
       "min       NaN            NaN                  NaN                NaN   \n",
       "25%       NaN            NaN                  NaN                NaN   \n",
       "50%       NaN            NaN                  NaN                NaN   \n",
       "75%       NaN            NaN                  NaN                NaN   \n",
       "max       NaN            NaN                  NaN                NaN   \n",
       "\n",
       "            Duration Destination     Net Sales  Commision (in value)  \\\n",
       "count   44328.000000       44328  44328.000000          44328.000000   \n",
       "unique           NaN         138           NaN                   NaN   \n",
       "top              NaN   SINGAPORE           NaN                   NaN   \n",
       "freq             NaN        9267           NaN                   NaN   \n",
       "mean       49.424292         NaN     40.550948              9.707692   \n",
       "std       109.153961         NaN     48.661970             19.625637   \n",
       "min        -1.000000         NaN   -357.500000              0.000000   \n",
       "25%         9.000000         NaN     18.000000              0.000000   \n",
       "50%        22.000000         NaN     26.500000              0.000000   \n",
       "75%        53.000000         NaN     48.000000             11.550000   \n",
       "max      4881.000000         NaN    810.000000            283.500000   \n",
       "\n",
       "                 Age  Claim  \n",
       "count   44328.000000  44328  \n",
       "unique           NaN      2  \n",
       "top              NaN     No  \n",
       "freq             NaN  43651  \n",
       "mean       39.925600    NaN  \n",
       "std        13.954926    NaN  \n",
       "min         0.000000    NaN  \n",
       "25%        35.000000    NaN  \n",
       "50%        36.000000    NaN  \n",
       "75%        43.000000    NaN  \n",
       "max       118.000000    NaN  "
      ]
     },
     "execution_count": 9,
     "metadata": {},
     "output_type": "execute_result"
    }
   ],
   "source": [
    "df.describe(include='all')"
   ]
  },
  {
   "cell_type": "markdown",
   "metadata": {},
   "source": [
    "## `Negative Values`\n",
    "Dari deskripsi diatas terlihat bahwa ada nilai negatif pada kolom `Duration` dan `Net Sales`, namun nilai ini tidak relevan jika terdapat nilai negatif. Karena itu mari kita lihat data dari kolom tersebut yang menampilkan nilai negatif."
   ]
  },
  {
   "cell_type": "code",
   "execution_count": 10,
   "metadata": {},
   "outputs": [
    {
     "data": {
      "text/html": [
       "<div>\n",
       "<style scoped>\n",
       "    .dataframe tbody tr th:only-of-type {\n",
       "        vertical-align: middle;\n",
       "    }\n",
       "\n",
       "    .dataframe tbody tr th {\n",
       "        vertical-align: top;\n",
       "    }\n",
       "\n",
       "    .dataframe thead th {\n",
       "        text-align: right;\n",
       "    }\n",
       "</style>\n",
       "<table border=\"1\" class=\"dataframe\">\n",
       "  <thead>\n",
       "    <tr style=\"text-align: right;\">\n",
       "      <th></th>\n",
       "      <th>Agency</th>\n",
       "      <th>Agency Type</th>\n",
       "      <th>Distribution Channel</th>\n",
       "      <th>Product Name</th>\n",
       "      <th>Duration</th>\n",
       "      <th>Destination</th>\n",
       "      <th>Net Sales</th>\n",
       "      <th>Commision (in value)</th>\n",
       "      <th>Age</th>\n",
       "      <th>Claim</th>\n",
       "    </tr>\n",
       "  </thead>\n",
       "  <tbody>\n",
       "    <tr>\n",
       "      <th>26228</th>\n",
       "      <td>JZI</td>\n",
       "      <td>Airlines</td>\n",
       "      <td>Online</td>\n",
       "      <td>Basic Plan</td>\n",
       "      <td>-1</td>\n",
       "      <td>MALAYSIA</td>\n",
       "      <td>18.0</td>\n",
       "      <td>6.3</td>\n",
       "      <td>118</td>\n",
       "      <td>No</td>\n",
       "    </tr>\n",
       "    <tr>\n",
       "      <th>26494</th>\n",
       "      <td>JZI</td>\n",
       "      <td>Airlines</td>\n",
       "      <td>Online</td>\n",
       "      <td>Basic Plan</td>\n",
       "      <td>-1</td>\n",
       "      <td>BRUNEI DARUSSALAM</td>\n",
       "      <td>18.0</td>\n",
       "      <td>6.3</td>\n",
       "      <td>118</td>\n",
       "      <td>No</td>\n",
       "    </tr>\n",
       "  </tbody>\n",
       "</table>\n",
       "</div>"
      ],
      "text/plain": [
       "      Agency Agency Type Distribution Channel Product Name  Duration  \\\n",
       "26228    JZI    Airlines               Online   Basic Plan        -1   \n",
       "26494    JZI    Airlines               Online   Basic Plan        -1   \n",
       "\n",
       "             Destination  Net Sales  Commision (in value)  Age Claim  \n",
       "26228           MALAYSIA       18.0                   6.3  118    No  \n",
       "26494  BRUNEI DARUSSALAM       18.0                   6.3  118    No  "
      ]
     },
     "execution_count": 10,
     "metadata": {},
     "output_type": "execute_result"
    }
   ],
   "source": [
    "# Kolom Duration bernilai negatif\n",
    "df[df['Duration'] < 0]"
   ]
  },
  {
   "cell_type": "markdown",
   "metadata": {},
   "source": [
    "Negative Value in `Duration`<br>\n",
    "Secara harfiah tidak mungkin durasi perjalanan pada kolom `Duration` itu negatif, karena kolom ini berkaitan dengan waktu yang seharusnya tidak bernilai negatif. Karena itu data yang bernilai negatif ini akan dihapus"
   ]
  },
  {
   "cell_type": "code",
   "execution_count": 11,
   "metadata": {},
   "outputs": [],
   "source": [
    "# Menghapus data Duration bernilai negatif\n",
    "df.drop(df[df['Duration'] < 0].index, inplace=True)"
   ]
  },
  {
   "cell_type": "markdown",
   "metadata": {},
   "source": [
    "Negative Value in `Net Sales`<br>\n",
    "Berikut data yang menampilkan nilai negatif pada kolom `Net Sales`"
   ]
  },
  {
   "cell_type": "code",
   "execution_count": 12,
   "metadata": {},
   "outputs": [
    {
     "data": {
      "text/html": [
       "<div>\n",
       "<style scoped>\n",
       "    .dataframe tbody tr th:only-of-type {\n",
       "        vertical-align: middle;\n",
       "    }\n",
       "\n",
       "    .dataframe tbody tr th {\n",
       "        vertical-align: top;\n",
       "    }\n",
       "\n",
       "    .dataframe thead th {\n",
       "        text-align: right;\n",
       "    }\n",
       "</style>\n",
       "<table border=\"1\" class=\"dataframe\">\n",
       "  <thead>\n",
       "    <tr style=\"text-align: right;\">\n",
       "      <th></th>\n",
       "      <th>Agency</th>\n",
       "      <th>Agency Type</th>\n",
       "      <th>Distribution Channel</th>\n",
       "      <th>Product Name</th>\n",
       "      <th>Duration</th>\n",
       "      <th>Destination</th>\n",
       "      <th>Net Sales</th>\n",
       "      <th>Commision (in value)</th>\n",
       "      <th>Age</th>\n",
       "      <th>Claim</th>\n",
       "    </tr>\n",
       "  </thead>\n",
       "  <tbody>\n",
       "    <tr>\n",
       "      <th>94</th>\n",
       "      <td>C2B</td>\n",
       "      <td>Airlines</td>\n",
       "      <td>Online</td>\n",
       "      <td>Annual Silver Plan</td>\n",
       "      <td>365</td>\n",
       "      <td>SINGAPORE</td>\n",
       "      <td>-216.75</td>\n",
       "      <td>54.19</td>\n",
       "      <td>36</td>\n",
       "      <td>No</td>\n",
       "    </tr>\n",
       "    <tr>\n",
       "      <th>116</th>\n",
       "      <td>CWT</td>\n",
       "      <td>Travel Agency</td>\n",
       "      <td>Online</td>\n",
       "      <td>Rental Vehicle Excess Insurance</td>\n",
       "      <td>430</td>\n",
       "      <td>AUSTRALIA</td>\n",
       "      <td>-59.40</td>\n",
       "      <td>35.64</td>\n",
       "      <td>41</td>\n",
       "      <td>No</td>\n",
       "    </tr>\n",
       "    <tr>\n",
       "      <th>121</th>\n",
       "      <td>CWT</td>\n",
       "      <td>Travel Agency</td>\n",
       "      <td>Online</td>\n",
       "      <td>Rental Vehicle Excess Insurance</td>\n",
       "      <td>77</td>\n",
       "      <td>JAPAN</td>\n",
       "      <td>-29.70</td>\n",
       "      <td>17.82</td>\n",
       "      <td>59</td>\n",
       "      <td>No</td>\n",
       "    </tr>\n",
       "    <tr>\n",
       "      <th>199</th>\n",
       "      <td>EPX</td>\n",
       "      <td>Travel Agency</td>\n",
       "      <td>Online</td>\n",
       "      <td>Cancellation Plan</td>\n",
       "      <td>29</td>\n",
       "      <td>HONG KONG</td>\n",
       "      <td>-12.00</td>\n",
       "      <td>0.00</td>\n",
       "      <td>36</td>\n",
       "      <td>No</td>\n",
       "    </tr>\n",
       "    <tr>\n",
       "      <th>241</th>\n",
       "      <td>CWT</td>\n",
       "      <td>Travel Agency</td>\n",
       "      <td>Online</td>\n",
       "      <td>Rental Vehicle Excess Insurance</td>\n",
       "      <td>57</td>\n",
       "      <td>AUSTRALIA</td>\n",
       "      <td>-59.40</td>\n",
       "      <td>35.64</td>\n",
       "      <td>28</td>\n",
       "      <td>No</td>\n",
       "    </tr>\n",
       "    <tr>\n",
       "      <th>...</th>\n",
       "      <td>...</td>\n",
       "      <td>...</td>\n",
       "      <td>...</td>\n",
       "      <td>...</td>\n",
       "      <td>...</td>\n",
       "      <td>...</td>\n",
       "      <td>...</td>\n",
       "      <td>...</td>\n",
       "      <td>...</td>\n",
       "      <td>...</td>\n",
       "    </tr>\n",
       "    <tr>\n",
       "      <th>43694</th>\n",
       "      <td>EPX</td>\n",
       "      <td>Travel Agency</td>\n",
       "      <td>Online</td>\n",
       "      <td>2 way Comprehensive Plan</td>\n",
       "      <td>140</td>\n",
       "      <td>UNITED STATES</td>\n",
       "      <td>-98.00</td>\n",
       "      <td>0.00</td>\n",
       "      <td>29</td>\n",
       "      <td>No</td>\n",
       "    </tr>\n",
       "    <tr>\n",
       "      <th>43743</th>\n",
       "      <td>CWT</td>\n",
       "      <td>Travel Agency</td>\n",
       "      <td>Online</td>\n",
       "      <td>Rental Vehicle Excess Insurance</td>\n",
       "      <td>23</td>\n",
       "      <td>MALAYSIA</td>\n",
       "      <td>-29.70</td>\n",
       "      <td>17.82</td>\n",
       "      <td>29</td>\n",
       "      <td>No</td>\n",
       "    </tr>\n",
       "    <tr>\n",
       "      <th>43751</th>\n",
       "      <td>EPX</td>\n",
       "      <td>Travel Agency</td>\n",
       "      <td>Online</td>\n",
       "      <td>2 way Comprehensive Plan</td>\n",
       "      <td>147</td>\n",
       "      <td>SPAIN</td>\n",
       "      <td>-68.00</td>\n",
       "      <td>0.00</td>\n",
       "      <td>36</td>\n",
       "      <td>No</td>\n",
       "    </tr>\n",
       "    <tr>\n",
       "      <th>43858</th>\n",
       "      <td>EPX</td>\n",
       "      <td>Travel Agency</td>\n",
       "      <td>Online</td>\n",
       "      <td>Cancellation Plan</td>\n",
       "      <td>49</td>\n",
       "      <td>UNITED KINGDOM</td>\n",
       "      <td>-68.00</td>\n",
       "      <td>0.00</td>\n",
       "      <td>36</td>\n",
       "      <td>No</td>\n",
       "    </tr>\n",
       "    <tr>\n",
       "      <th>43922</th>\n",
       "      <td>CWT</td>\n",
       "      <td>Travel Agency</td>\n",
       "      <td>Online</td>\n",
       "      <td>Rental Vehicle Excess Insurance</td>\n",
       "      <td>186</td>\n",
       "      <td>AUSTRALIA</td>\n",
       "      <td>-99.00</td>\n",
       "      <td>59.40</td>\n",
       "      <td>34</td>\n",
       "      <td>No</td>\n",
       "    </tr>\n",
       "  </tbody>\n",
       "</table>\n",
       "<p>483 rows × 10 columns</p>\n",
       "</div>"
      ],
      "text/plain": [
       "      Agency    Agency Type Distribution Channel  \\\n",
       "94       C2B       Airlines               Online   \n",
       "116      CWT  Travel Agency               Online   \n",
       "121      CWT  Travel Agency               Online   \n",
       "199      EPX  Travel Agency               Online   \n",
       "241      CWT  Travel Agency               Online   \n",
       "...      ...            ...                  ...   \n",
       "43694    EPX  Travel Agency               Online   \n",
       "43743    CWT  Travel Agency               Online   \n",
       "43751    EPX  Travel Agency               Online   \n",
       "43858    EPX  Travel Agency               Online   \n",
       "43922    CWT  Travel Agency               Online   \n",
       "\n",
       "                          Product Name  Duration     Destination  Net Sales  \\\n",
       "94                  Annual Silver Plan       365       SINGAPORE    -216.75   \n",
       "116    Rental Vehicle Excess Insurance       430       AUSTRALIA     -59.40   \n",
       "121    Rental Vehicle Excess Insurance        77           JAPAN     -29.70   \n",
       "199                  Cancellation Plan        29       HONG KONG     -12.00   \n",
       "241    Rental Vehicle Excess Insurance        57       AUSTRALIA     -59.40   \n",
       "...                                ...       ...             ...        ...   \n",
       "43694         2 way Comprehensive Plan       140   UNITED STATES     -98.00   \n",
       "43743  Rental Vehicle Excess Insurance        23        MALAYSIA     -29.70   \n",
       "43751         2 way Comprehensive Plan       147           SPAIN     -68.00   \n",
       "43858                Cancellation Plan        49  UNITED KINGDOM     -68.00   \n",
       "43922  Rental Vehicle Excess Insurance       186       AUSTRALIA     -99.00   \n",
       "\n",
       "       Commision (in value)  Age Claim  \n",
       "94                    54.19   36    No  \n",
       "116                   35.64   41    No  \n",
       "121                   17.82   59    No  \n",
       "199                    0.00   36    No  \n",
       "241                   35.64   28    No  \n",
       "...                     ...  ...   ...  \n",
       "43694                  0.00   29    No  \n",
       "43743                 17.82   29    No  \n",
       "43751                  0.00   36    No  \n",
       "43858                  0.00   36    No  \n",
       "43922                 59.40   34    No  \n",
       "\n",
       "[483 rows x 10 columns]"
      ]
     },
     "execution_count": 12,
     "metadata": {},
     "output_type": "execute_result"
    }
   ],
   "source": [
    "# Kolom Net Sales bernilai negatif\n",
    "df[df['Net Sales'] < 0]"
   ]
  },
  {
   "cell_type": "code",
   "execution_count": 13,
   "metadata": {},
   "outputs": [
    {
     "data": {
      "text/plain": [
       "array(['No'], dtype=object)"
      ]
     },
     "execution_count": 13,
     "metadata": {},
     "output_type": "execute_result"
    }
   ],
   "source": [
    "# Status klaim pada data yang memiliki nilai negatif pada kolom Net Sales\n",
    "df[df['Net Sales'] < 0]['Claim'].unique()"
   ]
  },
  {
   "cell_type": "markdown",
   "metadata": {},
   "source": [
    "Begitu pula dengan kolom `Net Sales` yang merupakan hasil penjualan dari produk jasa asuransi ini. Jika diasumsikan bernilai negatif berarti pihak perusahaan memberikan hasil penjualannya terhadap customer, yang mana tidak relevan jika bernilai negatif dan juga bukan merupakan dekripsi dari keuntungan atau kerugian. Selain itu jika diasumsikan dipengaruhi oleh kolom `Claim` status, data yang bernilai negatif ini tidak mengajukan klaim asuransi perjalanan.\n",
    "Oleh karena itu, data yang memiliki nilai negatif pada kolom `Net Sales` ini akan dihapus karena jumlah data ini hanya sebanyak **1%** dari total data."
   ]
  },
  {
   "cell_type": "code",
   "execution_count": 14,
   "metadata": {},
   "outputs": [],
   "source": [
    "# Mengahpus kolom Net Sales bernilai negatif\n",
    "df.drop(df[df['Net Sales'] < 0].index, inplace=True)"
   ]
  },
  {
   "cell_type": "markdown",
   "metadata": {},
   "source": [
    "## `Outliers`\n",
    "Mengecek outliers pada kolom numerical"
   ]
  },
  {
   "cell_type": "code",
   "execution_count": 15,
   "metadata": {},
   "outputs": [
    {
     "data": {
      "text/plain": [
       "['Agency',\n",
       " 'Agency Type',\n",
       " 'Distribution Channel',\n",
       " 'Product Name',\n",
       " 'Destination',\n",
       " 'Claim']"
      ]
     },
     "execution_count": 15,
     "metadata": {},
     "output_type": "execute_result"
    }
   ],
   "source": [
    "# Kolom kategorikal\n",
    "cat_features = [feature for feature in df.columns if (df[feature].dtypes == 'O')]\n",
    "cat_features"
   ]
  },
  {
   "cell_type": "code",
   "execution_count": 16,
   "metadata": {},
   "outputs": [
    {
     "data": {
      "text/plain": [
       "['Duration', 'Net Sales', 'Commision (in value)', 'Age']"
      ]
     },
     "execution_count": 16,
     "metadata": {},
     "output_type": "execute_result"
    }
   ],
   "source": [
    "# Kolom numerikal\n",
    "num_features = [feature for feature in df.columns if ((df[feature].dtypes != 'O') & (feature not in ['charges']))]\n",
    "num_features"
   ]
  },
  {
   "cell_type": "code",
   "execution_count": 17,
   "metadata": {},
   "outputs": [
    {
     "data": {
      "image/png": "[encoded data removed]",
      "text/plain": [
       "<Figure size 1728x864 with 4 Axes>"
      ]
     },
     "metadata": {
      "needs_background": "light"
     },
     "output_type": "display_data"
    }
   ],
   "source": [
    "# Menampilkan boxplot kolom numerikal\n",
    "plot_number = 1\n",
    "plt.figure(figsize=(24,12))\n",
    "for kolom in num_features:\n",
    "    plt.subplot(2,2,plot_number)\n",
    "    sns.boxplot(data=df, x=kolom)\n",
    "    plt.title(kolom)\n",
    "    \n",
    "\n",
    "    plot_number +=1"
   ]
  },
  {
   "cell_type": "markdown",
   "metadata": {},
   "source": [
    "Summary boxplot<br>\n",
    "Dari boxplot dapat terlihat extreme outliers:<br>\n",
    "    - `Duration` : Durasi perjalanan di atas 4000<br>\n",
    "    - `Net Sales` : Penjualan di atas 650<br>\n",
    "    - `Commision (in value)` : Komisi di atas 250<br>\n",
    "    - `Age`: Usia di atas 100"
   ]
  },
  {
   "cell_type": "code",
   "execution_count": 18,
   "metadata": {},
   "outputs": [
    {
     "data": {
      "text/html": [
       "<div>\n",
       "<style scoped>\n",
       "    .dataframe tbody tr th:only-of-type {\n",
       "        vertical-align: middle;\n",
       "    }\n",
       "\n",
       "    .dataframe tbody tr th {\n",
       "        vertical-align: top;\n",
       "    }\n",
       "\n",
       "    .dataframe thead th {\n",
       "        text-align: right;\n",
       "    }\n",
       "</style>\n",
       "<table border=\"1\" class=\"dataframe\">\n",
       "  <thead>\n",
       "    <tr style=\"text-align: right;\">\n",
       "      <th></th>\n",
       "      <th>Agency</th>\n",
       "      <th>Agency Type</th>\n",
       "      <th>Distribution Channel</th>\n",
       "      <th>Product Name</th>\n",
       "      <th>Duration</th>\n",
       "      <th>Destination</th>\n",
       "      <th>Net Sales</th>\n",
       "      <th>Commision (in value)</th>\n",
       "      <th>Age</th>\n",
       "      <th>Claim</th>\n",
       "    </tr>\n",
       "  </thead>\n",
       "  <tbody>\n",
       "    <tr>\n",
       "      <th>87</th>\n",
       "      <td>SSI</td>\n",
       "      <td>Airlines</td>\n",
       "      <td>Online</td>\n",
       "      <td>Ticket Protector</td>\n",
       "      <td>4736</td>\n",
       "      <td>SINGAPORE</td>\n",
       "      <td>0.32</td>\n",
       "      <td>0.09</td>\n",
       "      <td>48</td>\n",
       "      <td>No</td>\n",
       "    </tr>\n",
       "    <tr>\n",
       "      <th>4678</th>\n",
       "      <td>SSI</td>\n",
       "      <td>Airlines</td>\n",
       "      <td>Online</td>\n",
       "      <td>Ticket Protector</td>\n",
       "      <td>4857</td>\n",
       "      <td>SINGAPORE</td>\n",
       "      <td>0.32</td>\n",
       "      <td>0.09</td>\n",
       "      <td>48</td>\n",
       "      <td>No</td>\n",
       "    </tr>\n",
       "    <tr>\n",
       "      <th>10172</th>\n",
       "      <td>SSI</td>\n",
       "      <td>Airlines</td>\n",
       "      <td>Online</td>\n",
       "      <td>Ticket Protector</td>\n",
       "      <td>4815</td>\n",
       "      <td>SINGAPORE</td>\n",
       "      <td>0.32</td>\n",
       "      <td>0.09</td>\n",
       "      <td>48</td>\n",
       "      <td>No</td>\n",
       "    </tr>\n",
       "    <tr>\n",
       "      <th>12140</th>\n",
       "      <td>SSI</td>\n",
       "      <td>Airlines</td>\n",
       "      <td>Online</td>\n",
       "      <td>Ticket Protector</td>\n",
       "      <td>4652</td>\n",
       "      <td>SINGAPORE</td>\n",
       "      <td>0.32</td>\n",
       "      <td>0.09</td>\n",
       "      <td>48</td>\n",
       "      <td>No</td>\n",
       "    </tr>\n",
       "    <tr>\n",
       "      <th>19497</th>\n",
       "      <td>SSI</td>\n",
       "      <td>Airlines</td>\n",
       "      <td>Online</td>\n",
       "      <td>Ticket Protector</td>\n",
       "      <td>4881</td>\n",
       "      <td>SINGAPORE</td>\n",
       "      <td>0.13</td>\n",
       "      <td>0.04</td>\n",
       "      <td>48</td>\n",
       "      <td>No</td>\n",
       "    </tr>\n",
       "    <tr>\n",
       "      <th>20038</th>\n",
       "      <td>SSI</td>\n",
       "      <td>Airlines</td>\n",
       "      <td>Online</td>\n",
       "      <td>Ticket Protector</td>\n",
       "      <td>4844</td>\n",
       "      <td>SINGAPORE</td>\n",
       "      <td>0.32</td>\n",
       "      <td>0.09</td>\n",
       "      <td>48</td>\n",
       "      <td>No</td>\n",
       "    </tr>\n",
       "    <tr>\n",
       "      <th>22215</th>\n",
       "      <td>SSI</td>\n",
       "      <td>Airlines</td>\n",
       "      <td>Online</td>\n",
       "      <td>Ticket Protector</td>\n",
       "      <td>4580</td>\n",
       "      <td>SINGAPORE</td>\n",
       "      <td>0.32</td>\n",
       "      <td>0.09</td>\n",
       "      <td>48</td>\n",
       "      <td>No</td>\n",
       "    </tr>\n",
       "    <tr>\n",
       "      <th>25606</th>\n",
       "      <td>SSI</td>\n",
       "      <td>Airlines</td>\n",
       "      <td>Online</td>\n",
       "      <td>Ticket Protector</td>\n",
       "      <td>4685</td>\n",
       "      <td>SINGAPORE</td>\n",
       "      <td>0.32</td>\n",
       "      <td>0.09</td>\n",
       "      <td>48</td>\n",
       "      <td>No</td>\n",
       "    </tr>\n",
       "    <tr>\n",
       "      <th>28032</th>\n",
       "      <td>SSI</td>\n",
       "      <td>Airlines</td>\n",
       "      <td>Online</td>\n",
       "      <td>Ticket Protector</td>\n",
       "      <td>4829</td>\n",
       "      <td>SINGAPORE</td>\n",
       "      <td>0.32</td>\n",
       "      <td>0.09</td>\n",
       "      <td>48</td>\n",
       "      <td>No</td>\n",
       "    </tr>\n",
       "    <tr>\n",
       "      <th>37207</th>\n",
       "      <td>SSI</td>\n",
       "      <td>Airlines</td>\n",
       "      <td>Online</td>\n",
       "      <td>Ticket Protector</td>\n",
       "      <td>4609</td>\n",
       "      <td>SINGAPORE</td>\n",
       "      <td>0.32</td>\n",
       "      <td>0.09</td>\n",
       "      <td>48</td>\n",
       "      <td>No</td>\n",
       "    </tr>\n",
       "    <tr>\n",
       "      <th>38536</th>\n",
       "      <td>SSI</td>\n",
       "      <td>Airlines</td>\n",
       "      <td>Online</td>\n",
       "      <td>Ticket Protector</td>\n",
       "      <td>4784</td>\n",
       "      <td>SINGAPORE</td>\n",
       "      <td>0.32</td>\n",
       "      <td>0.09</td>\n",
       "      <td>48</td>\n",
       "      <td>No</td>\n",
       "    </tr>\n",
       "    <tr>\n",
       "      <th>42584</th>\n",
       "      <td>SSI</td>\n",
       "      <td>Airlines</td>\n",
       "      <td>Online</td>\n",
       "      <td>Ticket Protector</td>\n",
       "      <td>4831</td>\n",
       "      <td>SINGAPORE</td>\n",
       "      <td>0.32</td>\n",
       "      <td>0.09</td>\n",
       "      <td>48</td>\n",
       "      <td>No</td>\n",
       "    </tr>\n",
       "    <tr>\n",
       "      <th>42717</th>\n",
       "      <td>SSI</td>\n",
       "      <td>Airlines</td>\n",
       "      <td>Online</td>\n",
       "      <td>Ticket Protector</td>\n",
       "      <td>4847</td>\n",
       "      <td>SINGAPORE</td>\n",
       "      <td>0.32</td>\n",
       "      <td>0.09</td>\n",
       "      <td>48</td>\n",
       "      <td>No</td>\n",
       "    </tr>\n",
       "  </tbody>\n",
       "</table>\n",
       "</div>"
      ],
      "text/plain": [
       "      Agency Agency Type Distribution Channel      Product Name  Duration  \\\n",
       "87       SSI    Airlines               Online  Ticket Protector      4736   \n",
       "4678     SSI    Airlines               Online  Ticket Protector      4857   \n",
       "10172    SSI    Airlines               Online  Ticket Protector      4815   \n",
       "12140    SSI    Airlines               Online  Ticket Protector      4652   \n",
       "19497    SSI    Airlines               Online  Ticket Protector      4881   \n",
       "20038    SSI    Airlines               Online  Ticket Protector      4844   \n",
       "22215    SSI    Airlines               Online  Ticket Protector      4580   \n",
       "25606    SSI    Airlines               Online  Ticket Protector      4685   \n",
       "28032    SSI    Airlines               Online  Ticket Protector      4829   \n",
       "37207    SSI    Airlines               Online  Ticket Protector      4609   \n",
       "38536    SSI    Airlines               Online  Ticket Protector      4784   \n",
       "42584    SSI    Airlines               Online  Ticket Protector      4831   \n",
       "42717    SSI    Airlines               Online  Ticket Protector      4847   \n",
       "\n",
       "      Destination  Net Sales  Commision (in value)  Age Claim  \n",
       "87      SINGAPORE       0.32                  0.09   48    No  \n",
       "4678    SINGAPORE       0.32                  0.09   48    No  \n",
       "10172   SINGAPORE       0.32                  0.09   48    No  \n",
       "12140   SINGAPORE       0.32                  0.09   48    No  \n",
       "19497   SINGAPORE       0.13                  0.04   48    No  \n",
       "20038   SINGAPORE       0.32                  0.09   48    No  \n",
       "22215   SINGAPORE       0.32                  0.09   48    No  \n",
       "25606   SINGAPORE       0.32                  0.09   48    No  \n",
       "28032   SINGAPORE       0.32                  0.09   48    No  \n",
       "37207   SINGAPORE       0.32                  0.09   48    No  \n",
       "38536   SINGAPORE       0.32                  0.09   48    No  \n",
       "42584   SINGAPORE       0.32                  0.09   48    No  \n",
       "42717   SINGAPORE       0.32                  0.09   48    No  "
      ]
     },
     "execution_count": 18,
     "metadata": {},
     "output_type": "execute_result"
    }
   ],
   "source": [
    "# Duration > 4000\n",
    "df[df['Duration'] > 4000]"
   ]
  },
  {
   "cell_type": "code",
   "execution_count": 19,
   "metadata": {},
   "outputs": [
    {
     "data": {
      "text/html": [
       "<div>\n",
       "<style scoped>\n",
       "    .dataframe tbody tr th:only-of-type {\n",
       "        vertical-align: middle;\n",
       "    }\n",
       "\n",
       "    .dataframe tbody tr th {\n",
       "        vertical-align: top;\n",
       "    }\n",
       "\n",
       "    .dataframe thead th {\n",
       "        text-align: right;\n",
       "    }\n",
       "</style>\n",
       "<table border=\"1\" class=\"dataframe\">\n",
       "  <thead>\n",
       "    <tr style=\"text-align: right;\">\n",
       "      <th></th>\n",
       "      <th>Duration</th>\n",
       "    </tr>\n",
       "    <tr>\n",
       "      <th>Agency Type</th>\n",
       "      <th></th>\n",
       "    </tr>\n",
       "  </thead>\n",
       "  <tbody>\n",
       "    <tr>\n",
       "      <th>Airlines</th>\n",
       "      <td>68.739016</td>\n",
       "    </tr>\n",
       "    <tr>\n",
       "      <th>Travel Agency</th>\n",
       "      <td>41.583231</td>\n",
       "    </tr>\n",
       "  </tbody>\n",
       "</table>\n",
       "</div>"
      ],
      "text/plain": [
       "                Duration\n",
       "Agency Type             \n",
       "Airlines       68.739016\n",
       "Travel Agency  41.583231"
      ]
     },
     "execution_count": 19,
     "metadata": {},
     "output_type": "execute_result"
    }
   ],
   "source": [
    "# Rata-rata Duration berdasarkan Agency Type\n",
    "df.groupby('Agency Type')[['Duration']].mean()"
   ]
  },
  {
   "cell_type": "markdown",
   "metadata": {},
   "source": [
    "Outliers `Duration`<br>\n",
    "Extreme outliers pada kolom `Duration` ini sangat jauh bahkan dari rata-rata berdasarkan `Agency Type`, maka itu data ini akan dihapus agar modeling machine learning pesebaran datanya tidak ada anomali yang sangat jauh dari kumpulan data lainnya."
   ]
  },
  {
   "cell_type": "code",
   "execution_count": 20,
   "metadata": {},
   "outputs": [],
   "source": [
    "# Hapus data extreme outliers kolom Duration\n",
    "df.drop(df[df['Duration'] > 4000].index, inplace=True)"
   ]
  },
  {
   "cell_type": "markdown",
   "metadata": {},
   "source": [
    "Outliers `Net Sales` and `Commision (in value)`"
   ]
  },
  {
   "cell_type": "code",
   "execution_count": 21,
   "metadata": {},
   "outputs": [
    {
     "data": {
      "text/html": [
       "<div>\n",
       "<style scoped>\n",
       "    .dataframe tbody tr th:only-of-type {\n",
       "        vertical-align: middle;\n",
       "    }\n",
       "\n",
       "    .dataframe tbody tr th {\n",
       "        vertical-align: top;\n",
       "    }\n",
       "\n",
       "    .dataframe thead th {\n",
       "        text-align: right;\n",
       "    }\n",
       "</style>\n",
       "<table border=\"1\" class=\"dataframe\">\n",
       "  <thead>\n",
       "    <tr style=\"text-align: right;\">\n",
       "      <th></th>\n",
       "      <th>Agency</th>\n",
       "      <th>Agency Type</th>\n",
       "      <th>Distribution Channel</th>\n",
       "      <th>Product Name</th>\n",
       "      <th>Duration</th>\n",
       "      <th>Destination</th>\n",
       "      <th>Net Sales</th>\n",
       "      <th>Commision (in value)</th>\n",
       "      <th>Age</th>\n",
       "      <th>Claim</th>\n",
       "    </tr>\n",
       "  </thead>\n",
       "  <tbody>\n",
       "    <tr>\n",
       "      <th>2810</th>\n",
       "      <td>C2B</td>\n",
       "      <td>Airlines</td>\n",
       "      <td>Online</td>\n",
       "      <td>Annual Gold Plan</td>\n",
       "      <td>364</td>\n",
       "      <td>SINGAPORE</td>\n",
       "      <td>666.0</td>\n",
       "      <td>166.5</td>\n",
       "      <td>31</td>\n",
       "      <td>No</td>\n",
       "    </tr>\n",
       "    <tr>\n",
       "      <th>16075</th>\n",
       "      <td>C2B</td>\n",
       "      <td>Airlines</td>\n",
       "      <td>Online</td>\n",
       "      <td>Bronze Plan</td>\n",
       "      <td>179</td>\n",
       "      <td>SINGAPORE</td>\n",
       "      <td>682.0</td>\n",
       "      <td>170.5</td>\n",
       "      <td>25</td>\n",
       "      <td>No</td>\n",
       "    </tr>\n",
       "    <tr>\n",
       "      <th>42971</th>\n",
       "      <td>JZI</td>\n",
       "      <td>Airlines</td>\n",
       "      <td>Online</td>\n",
       "      <td>Value Plan</td>\n",
       "      <td>139</td>\n",
       "      <td>UNITED STATES</td>\n",
       "      <td>810.0</td>\n",
       "      <td>283.5</td>\n",
       "      <td>118</td>\n",
       "      <td>No</td>\n",
       "    </tr>\n",
       "  </tbody>\n",
       "</table>\n",
       "</div>"
      ],
      "text/plain": [
       "      Agency Agency Type Distribution Channel      Product Name  Duration  \\\n",
       "2810     C2B    Airlines               Online  Annual Gold Plan       364   \n",
       "16075    C2B    Airlines               Online       Bronze Plan       179   \n",
       "42971    JZI    Airlines               Online        Value Plan       139   \n",
       "\n",
       "         Destination  Net Sales  Commision (in value)  Age Claim  \n",
       "2810       SINGAPORE      666.0                 166.5   31    No  \n",
       "16075      SINGAPORE      682.0                 170.5   25    No  \n",
       "42971  UNITED STATES      810.0                 283.5  118    No  "
      ]
     },
     "execution_count": 21,
     "metadata": {},
     "output_type": "execute_result"
    }
   ],
   "source": [
    "# Net Sales > 650\n",
    "df[df['Net Sales'] > 650]"
   ]
  },
  {
   "cell_type": "code",
   "execution_count": 22,
   "metadata": {},
   "outputs": [
    {
     "data": {
      "text/html": [
       "<div>\n",
       "<style scoped>\n",
       "    .dataframe tbody tr th:only-of-type {\n",
       "        vertical-align: middle;\n",
       "    }\n",
       "\n",
       "    .dataframe tbody tr th {\n",
       "        vertical-align: top;\n",
       "    }\n",
       "\n",
       "    .dataframe thead th {\n",
       "        text-align: right;\n",
       "    }\n",
       "</style>\n",
       "<table border=\"1\" class=\"dataframe\">\n",
       "  <thead>\n",
       "    <tr style=\"text-align: right;\">\n",
       "      <th></th>\n",
       "      <th>Agency</th>\n",
       "      <th>Agency Type</th>\n",
       "      <th>Distribution Channel</th>\n",
       "      <th>Product Name</th>\n",
       "      <th>Duration</th>\n",
       "      <th>Destination</th>\n",
       "      <th>Net Sales</th>\n",
       "      <th>Commision (in value)</th>\n",
       "      <th>Age</th>\n",
       "      <th>Claim</th>\n",
       "    </tr>\n",
       "  </thead>\n",
       "  <tbody>\n",
       "    <tr>\n",
       "      <th>10325</th>\n",
       "      <td>LWC</td>\n",
       "      <td>Travel Agency</td>\n",
       "      <td>Online</td>\n",
       "      <td>Annual Travel Protect Platinum</td>\n",
       "      <td>365</td>\n",
       "      <td>UNITED STATES</td>\n",
       "      <td>404.25</td>\n",
       "      <td>262.76</td>\n",
       "      <td>58</td>\n",
       "      <td>No</td>\n",
       "    </tr>\n",
       "    <tr>\n",
       "      <th>14556</th>\n",
       "      <td>LWC</td>\n",
       "      <td>Travel Agency</td>\n",
       "      <td>Online</td>\n",
       "      <td>Annual Travel Protect Platinum</td>\n",
       "      <td>378</td>\n",
       "      <td>UNITED STATES</td>\n",
       "      <td>404.25</td>\n",
       "      <td>262.76</td>\n",
       "      <td>45</td>\n",
       "      <td>No</td>\n",
       "    </tr>\n",
       "    <tr>\n",
       "      <th>16613</th>\n",
       "      <td>LWC</td>\n",
       "      <td>Travel Agency</td>\n",
       "      <td>Online</td>\n",
       "      <td>Annual Travel Protect Platinum</td>\n",
       "      <td>365</td>\n",
       "      <td>UNITED STATES</td>\n",
       "      <td>404.25</td>\n",
       "      <td>262.76</td>\n",
       "      <td>42</td>\n",
       "      <td>No</td>\n",
       "    </tr>\n",
       "    <tr>\n",
       "      <th>23083</th>\n",
       "      <td>LWC</td>\n",
       "      <td>Travel Agency</td>\n",
       "      <td>Online</td>\n",
       "      <td>Annual Travel Protect Platinum</td>\n",
       "      <td>364</td>\n",
       "      <td>UNITED STATES</td>\n",
       "      <td>404.25</td>\n",
       "      <td>262.76</td>\n",
       "      <td>44</td>\n",
       "      <td>No</td>\n",
       "    </tr>\n",
       "    <tr>\n",
       "      <th>26407</th>\n",
       "      <td>LWC</td>\n",
       "      <td>Travel Agency</td>\n",
       "      <td>Online</td>\n",
       "      <td>Annual Travel Protect Platinum</td>\n",
       "      <td>371</td>\n",
       "      <td>UNITED STATES</td>\n",
       "      <td>404.25</td>\n",
       "      <td>262.76</td>\n",
       "      <td>38</td>\n",
       "      <td>No</td>\n",
       "    </tr>\n",
       "    <tr>\n",
       "      <th>39830</th>\n",
       "      <td>LWC</td>\n",
       "      <td>Travel Agency</td>\n",
       "      <td>Online</td>\n",
       "      <td>Annual Travel Protect Platinum</td>\n",
       "      <td>369</td>\n",
       "      <td>UNITED STATES</td>\n",
       "      <td>404.25</td>\n",
       "      <td>262.76</td>\n",
       "      <td>51</td>\n",
       "      <td>No</td>\n",
       "    </tr>\n",
       "    <tr>\n",
       "      <th>42971</th>\n",
       "      <td>JZI</td>\n",
       "      <td>Airlines</td>\n",
       "      <td>Online</td>\n",
       "      <td>Value Plan</td>\n",
       "      <td>139</td>\n",
       "      <td>UNITED STATES</td>\n",
       "      <td>810.00</td>\n",
       "      <td>283.50</td>\n",
       "      <td>118</td>\n",
       "      <td>No</td>\n",
       "    </tr>\n",
       "  </tbody>\n",
       "</table>\n",
       "</div>"
      ],
      "text/plain": [
       "      Agency    Agency Type Distribution Channel  \\\n",
       "10325    LWC  Travel Agency               Online   \n",
       "14556    LWC  Travel Agency               Online   \n",
       "16613    LWC  Travel Agency               Online   \n",
       "23083    LWC  Travel Agency               Online   \n",
       "26407    LWC  Travel Agency               Online   \n",
       "39830    LWC  Travel Agency               Online   \n",
       "42971    JZI       Airlines               Online   \n",
       "\n",
       "                         Product Name  Duration    Destination  Net Sales  \\\n",
       "10325  Annual Travel Protect Platinum       365  UNITED STATES     404.25   \n",
       "14556  Annual Travel Protect Platinum       378  UNITED STATES     404.25   \n",
       "16613  Annual Travel Protect Platinum       365  UNITED STATES     404.25   \n",
       "23083  Annual Travel Protect Platinum       364  UNITED STATES     404.25   \n",
       "26407  Annual Travel Protect Platinum       371  UNITED STATES     404.25   \n",
       "39830  Annual Travel Protect Platinum       369  UNITED STATES     404.25   \n",
       "42971                      Value Plan       139  UNITED STATES     810.00   \n",
       "\n",
       "       Commision (in value)  Age Claim  \n",
       "10325                262.76   58    No  \n",
       "14556                262.76   45    No  \n",
       "16613                262.76   42    No  \n",
       "23083                262.76   44    No  \n",
       "26407                262.76   38    No  \n",
       "39830                262.76   51    No  \n",
       "42971                283.50  118    No  "
      ]
     },
     "execution_count": 22,
     "metadata": {},
     "output_type": "execute_result"
    }
   ],
   "source": [
    "# Commision (in value) > 250\n",
    "df[df['Commision (in value)'] > 250]"
   ]
  },
  {
   "cell_type": "markdown",
   "metadata": {},
   "source": [
    "Action due to outliers `Net Sales` and `Commision (in value)`<br>\n",
    "Karena extreme outliers ini sangat jauh dari kumpulan data lainnya, maka data tersebut akan dihapus"
   ]
  },
  {
   "cell_type": "code",
   "execution_count": 23,
   "metadata": {},
   "outputs": [],
   "source": [
    "# Menghapus extreme outliers pada kolom Net Sales dan Commision (in value)\n",
    "df.drop(df[(df['Net Sales'] > 650) | (df['Commision (in value)'] > 250)].index, inplace=True)"
   ]
  },
  {
   "cell_type": "markdown",
   "metadata": {},
   "source": [
    "Outliers `Age`"
   ]
  },
  {
   "cell_type": "code",
   "execution_count": 24,
   "metadata": {},
   "outputs": [
    {
     "data": {
      "text/html": [
       "<div>\n",
       "<style scoped>\n",
       "    .dataframe tbody tr th:only-of-type {\n",
       "        vertical-align: middle;\n",
       "    }\n",
       "\n",
       "    .dataframe tbody tr th {\n",
       "        vertical-align: top;\n",
       "    }\n",
       "\n",
       "    .dataframe thead th {\n",
       "        text-align: right;\n",
       "    }\n",
       "</style>\n",
       "<table border=\"1\" class=\"dataframe\">\n",
       "  <thead>\n",
       "    <tr style=\"text-align: right;\">\n",
       "      <th></th>\n",
       "      <th>Claim Status (Age &gt; 100)</th>\n",
       "    </tr>\n",
       "  </thead>\n",
       "  <tbody>\n",
       "    <tr>\n",
       "      <th>No</th>\n",
       "      <td>657</td>\n",
       "    </tr>\n",
       "    <tr>\n",
       "      <th>Yes</th>\n",
       "      <td>7</td>\n",
       "    </tr>\n",
       "  </tbody>\n",
       "</table>\n",
       "</div>"
      ],
      "text/plain": [
       "     Claim Status (Age > 100)\n",
       "No                        657\n",
       "Yes                         7"
      ]
     },
     "execution_count": 24,
     "metadata": {},
     "output_type": "execute_result"
    }
   ],
   "source": [
    "claim_100 = pd.DataFrame(df[(df['Age'] > 100)]['Claim'].value_counts()).rename(columns={'Claim' : 'Claim Status (Age > 100)'})\n",
    "claim_100"
   ]
  },
  {
   "cell_type": "markdown",
   "metadata": {},
   "source": [
    "Summary outliers `Age`<br>\n",
    "Terlihat dari usia customer di atas 100 tahun terdapat yang mengajukan `Claim` sebanyak 7, sekarang mari kita lihat bagaimana persentase customer usia di atas 100 tahun yang mengajukan klaim dan tidak terhadap keseluruhan data"
   ]
  },
  {
   "cell_type": "code",
   "execution_count": 25,
   "metadata": {},
   "outputs": [
    {
     "data": {
      "text/html": [
       "<div>\n",
       "<style scoped>\n",
       "    .dataframe tbody tr th:only-of-type {\n",
       "        vertical-align: middle;\n",
       "    }\n",
       "\n",
       "    .dataframe tbody tr th {\n",
       "        vertical-align: top;\n",
       "    }\n",
       "\n",
       "    .dataframe thead th {\n",
       "        text-align: right;\n",
       "    }\n",
       "</style>\n",
       "<table border=\"1\" class=\"dataframe\">\n",
       "  <thead>\n",
       "    <tr style=\"text-align: right;\">\n",
       "      <th></th>\n",
       "      <th>Claim Status (Age &gt; 100)</th>\n",
       "      <th>Total Claim Status</th>\n",
       "      <th>percentage</th>\n",
       "    </tr>\n",
       "  </thead>\n",
       "  <tbody>\n",
       "    <tr>\n",
       "      <th>No</th>\n",
       "      <td>657</td>\n",
       "      <td>43144</td>\n",
       "      <td>1.52</td>\n",
       "    </tr>\n",
       "    <tr>\n",
       "      <th>Yes</th>\n",
       "      <td>7</td>\n",
       "      <td>677</td>\n",
       "      <td>1.03</td>\n",
       "    </tr>\n",
       "  </tbody>\n",
       "</table>\n",
       "</div>"
      ],
      "text/plain": [
       "     Claim Status (Age > 100)  Total Claim Status  percentage\n",
       "No                        657               43144        1.52\n",
       "Yes                         7                 677        1.03"
      ]
     },
     "execution_count": 25,
     "metadata": {},
     "output_type": "execute_result"
    }
   ],
   "source": [
    "total_claim = pd.DataFrame(df['Claim'].value_counts()).rename(columns={'Claim' : 'Total Claim Status'})\n",
    "claim_percentage = pd.concat([claim_100, total_claim], axis=1)\n",
    "claim_percentage['percentage'] = ((claim_percentage['Claim Status (Age > 100)'] / claim_percentage['Total Claim Status'])*100).round(2)\n",
    "claim_percentage"
   ]
  },
  {
   "cell_type": "markdown",
   "metadata": {},
   "source": [
    "Action due to outliers `Age`<br>\n",
    "Dari dataframe `claim_percentage` yang mendeskripsikan bagaimana persentase status klaim customer yang berusia di atas 100 tahun. Hanya sekitar **1%** dari total data, maka data tersebut akan dihapus agar pada proses modeling machine learning tidak terjadi bias / sebaran data tidak terlalu jauh pada kolom `Age`"
   ]
  },
  {
   "cell_type": "code",
   "execution_count": 26,
   "metadata": {},
   "outputs": [],
   "source": [
    "# Menghapus kolom Age > 100\n",
    "df.drop(df[(df['Age'] > 100)].index, inplace=True)"
   ]
  },
  {
   "cell_type": "markdown",
   "metadata": {},
   "source": [
    "## `Destination`\n",
    "Pada kolom `Destination` terlalu banyak *unique value*, yaitu 138 negara. Saat proses Encoding (Binary Encoder) data maka akan sulit diintrepetasi karena akan membuat kolom menjadi sangat banyak. Oleh karena itu akan disederhanakan menggunakan `converter` menjadi `Continent` dan akan diurutkan berdasarkan banyak data per `Destination`.\n",
    "Berikut adalah tahapan convert negara menjadi benua."
   ]
  },
  {
   "cell_type": "code",
   "execution_count": 27,
   "metadata": {},
   "outputs": [
    {
     "data": {
      "image/png": "[encoded data removed]",
      "text/plain": [
       "<Figure size 1872x720 with 1 Axes>"
      ]
     },
     "metadata": {
      "needs_background": "light"
     },
     "output_type": "display_data"
    }
   ],
   "source": [
    "plt.figure(figsize=(26,10))\n",
    "sns.countplot(data=df, x='Destination', order=df['Destination'].value_counts().index)\n",
    "plt.xticks(rotation=90);"
   ]
  },
  {
   "cell_type": "code",
   "execution_count": 28,
   "metadata": {},
   "outputs": [],
   "source": [
    "# Function Converter\n",
    "cc = coco.CountryConverter()\n",
    "\n",
    "# Mengubah value negara 'TIBET' menjadi 'CHINA', karena Tibet tidak ada dalam module converter\n",
    "df.loc[df[\"Destination\"] == \"TIBET\", \"Destination\"] = 'CHINA'\n",
    "\n",
    "# Convert Negara menjadi Continent\n",
    "continent_list = [cc.convert(names=name, to='Continent') for name in df['Destination']]"
   ]
  },
  {
   "cell_type": "code",
   "execution_count": 29,
   "metadata": {},
   "outputs": [
    {
     "data": {
      "text/html": [
       "<div>\n",
       "<style scoped>\n",
       "    .dataframe tbody tr th:only-of-type {\n",
       "        vertical-align: middle;\n",
       "    }\n",
       "\n",
       "    .dataframe tbody tr th {\n",
       "        vertical-align: top;\n",
       "    }\n",
       "\n",
       "    .dataframe thead th {\n",
       "        text-align: right;\n",
       "    }\n",
       "</style>\n",
       "<table border=\"1\" class=\"dataframe\">\n",
       "  <thead>\n",
       "    <tr style=\"text-align: right;\">\n",
       "      <th></th>\n",
       "      <th>Agency</th>\n",
       "      <th>Agency Type</th>\n",
       "      <th>Distribution Channel</th>\n",
       "      <th>Product Name</th>\n",
       "      <th>Duration</th>\n",
       "      <th>Destination</th>\n",
       "      <th>Continent</th>\n",
       "      <th>Net Sales</th>\n",
       "      <th>Commision (in value)</th>\n",
       "      <th>Age</th>\n",
       "      <th>Claim</th>\n",
       "    </tr>\n",
       "  </thead>\n",
       "  <tbody>\n",
       "    <tr>\n",
       "      <th>0</th>\n",
       "      <td>C2B</td>\n",
       "      <td>Airlines</td>\n",
       "      <td>Online</td>\n",
       "      <td>Annual Silver Plan</td>\n",
       "      <td>365</td>\n",
       "      <td>SINGAPORE</td>\n",
       "      <td>Asia</td>\n",
       "      <td>216.0</td>\n",
       "      <td>54.00</td>\n",
       "      <td>57</td>\n",
       "      <td>No</td>\n",
       "    </tr>\n",
       "    <tr>\n",
       "      <th>1</th>\n",
       "      <td>EPX</td>\n",
       "      <td>Travel Agency</td>\n",
       "      <td>Online</td>\n",
       "      <td>Cancellation Plan</td>\n",
       "      <td>4</td>\n",
       "      <td>MALAYSIA</td>\n",
       "      <td>Asia</td>\n",
       "      <td>10.0</td>\n",
       "      <td>0.00</td>\n",
       "      <td>33</td>\n",
       "      <td>No</td>\n",
       "    </tr>\n",
       "    <tr>\n",
       "      <th>2</th>\n",
       "      <td>JZI</td>\n",
       "      <td>Airlines</td>\n",
       "      <td>Online</td>\n",
       "      <td>Basic Plan</td>\n",
       "      <td>19</td>\n",
       "      <td>INDIA</td>\n",
       "      <td>Asia</td>\n",
       "      <td>22.0</td>\n",
       "      <td>7.70</td>\n",
       "      <td>26</td>\n",
       "      <td>No</td>\n",
       "    </tr>\n",
       "    <tr>\n",
       "      <th>3</th>\n",
       "      <td>EPX</td>\n",
       "      <td>Travel Agency</td>\n",
       "      <td>Online</td>\n",
       "      <td>2 way Comprehensive Plan</td>\n",
       "      <td>20</td>\n",
       "      <td>UNITED STATES</td>\n",
       "      <td>America</td>\n",
       "      <td>112.0</td>\n",
       "      <td>0.00</td>\n",
       "      <td>59</td>\n",
       "      <td>No</td>\n",
       "    </tr>\n",
       "    <tr>\n",
       "      <th>4</th>\n",
       "      <td>C2B</td>\n",
       "      <td>Airlines</td>\n",
       "      <td>Online</td>\n",
       "      <td>Bronze Plan</td>\n",
       "      <td>8</td>\n",
       "      <td>SINGAPORE</td>\n",
       "      <td>Asia</td>\n",
       "      <td>16.0</td>\n",
       "      <td>4.00</td>\n",
       "      <td>28</td>\n",
       "      <td>No</td>\n",
       "    </tr>\n",
       "    <tr>\n",
       "      <th>...</th>\n",
       "      <td>...</td>\n",
       "      <td>...</td>\n",
       "      <td>...</td>\n",
       "      <td>...</td>\n",
       "      <td>...</td>\n",
       "      <td>...</td>\n",
       "      <td>...</td>\n",
       "      <td>...</td>\n",
       "      <td>...</td>\n",
       "      <td>...</td>\n",
       "      <td>...</td>\n",
       "    </tr>\n",
       "    <tr>\n",
       "      <th>44323</th>\n",
       "      <td>EPX</td>\n",
       "      <td>Travel Agency</td>\n",
       "      <td>Online</td>\n",
       "      <td>2 way Comprehensive Plan</td>\n",
       "      <td>14</td>\n",
       "      <td>CHINA</td>\n",
       "      <td>Asia</td>\n",
       "      <td>30.0</td>\n",
       "      <td>0.00</td>\n",
       "      <td>36</td>\n",
       "      <td>Yes</td>\n",
       "    </tr>\n",
       "    <tr>\n",
       "      <th>44324</th>\n",
       "      <td>CWT</td>\n",
       "      <td>Travel Agency</td>\n",
       "      <td>Online</td>\n",
       "      <td>Rental Vehicle Excess Insurance</td>\n",
       "      <td>17</td>\n",
       "      <td>AUSTRALIA</td>\n",
       "      <td>Oceania</td>\n",
       "      <td>79.2</td>\n",
       "      <td>47.52</td>\n",
       "      <td>47</td>\n",
       "      <td>No</td>\n",
       "    </tr>\n",
       "    <tr>\n",
       "      <th>44325</th>\n",
       "      <td>TST</td>\n",
       "      <td>Travel Agency</td>\n",
       "      <td>Offline</td>\n",
       "      <td>Travel Cruise Protect</td>\n",
       "      <td>64</td>\n",
       "      <td>THAILAND</td>\n",
       "      <td>Asia</td>\n",
       "      <td>30.0</td>\n",
       "      <td>10.50</td>\n",
       "      <td>50</td>\n",
       "      <td>No</td>\n",
       "    </tr>\n",
       "    <tr>\n",
       "      <th>44326</th>\n",
       "      <td>EPX</td>\n",
       "      <td>Travel Agency</td>\n",
       "      <td>Online</td>\n",
       "      <td>2 way Comprehensive Plan</td>\n",
       "      <td>51</td>\n",
       "      <td>CHINA</td>\n",
       "      <td>Asia</td>\n",
       "      <td>36.0</td>\n",
       "      <td>0.00</td>\n",
       "      <td>36</td>\n",
       "      <td>No</td>\n",
       "    </tr>\n",
       "    <tr>\n",
       "      <th>44327</th>\n",
       "      <td>CWT</td>\n",
       "      <td>Travel Agency</td>\n",
       "      <td>Online</td>\n",
       "      <td>Rental Vehicle Excess Insurance</td>\n",
       "      <td>172</td>\n",
       "      <td>SINGAPORE</td>\n",
       "      <td>Asia</td>\n",
       "      <td>0.0</td>\n",
       "      <td>17.82</td>\n",
       "      <td>31</td>\n",
       "      <td>No</td>\n",
       "    </tr>\n",
       "  </tbody>\n",
       "</table>\n",
       "<p>43157 rows × 11 columns</p>\n",
       "</div>"
      ],
      "text/plain": [
       "      Agency    Agency Type Distribution Channel  \\\n",
       "0        C2B       Airlines               Online   \n",
       "1        EPX  Travel Agency               Online   \n",
       "2        JZI       Airlines               Online   \n",
       "3        EPX  Travel Agency               Online   \n",
       "4        C2B       Airlines               Online   \n",
       "...      ...            ...                  ...   \n",
       "44323    EPX  Travel Agency               Online   \n",
       "44324    CWT  Travel Agency               Online   \n",
       "44325    TST  Travel Agency              Offline   \n",
       "44326    EPX  Travel Agency               Online   \n",
       "44327    CWT  Travel Agency               Online   \n",
       "\n",
       "                          Product Name  Duration    Destination Continent  \\\n",
       "0                   Annual Silver Plan       365      SINGAPORE      Asia   \n",
       "1                    Cancellation Plan         4       MALAYSIA      Asia   \n",
       "2                           Basic Plan        19          INDIA      Asia   \n",
       "3             2 way Comprehensive Plan        20  UNITED STATES   America   \n",
       "4                          Bronze Plan         8      SINGAPORE      Asia   \n",
       "...                                ...       ...            ...       ...   \n",
       "44323         2 way Comprehensive Plan        14          CHINA      Asia   \n",
       "44324  Rental Vehicle Excess Insurance        17      AUSTRALIA   Oceania   \n",
       "44325            Travel Cruise Protect        64       THAILAND      Asia   \n",
       "44326         2 way Comprehensive Plan        51          CHINA      Asia   \n",
       "44327  Rental Vehicle Excess Insurance       172      SINGAPORE      Asia   \n",
       "\n",
       "       Net Sales  Commision (in value)  Age Claim  \n",
       "0          216.0                 54.00   57    No  \n",
       "1           10.0                  0.00   33    No  \n",
       "2           22.0                  7.70   26    No  \n",
       "3          112.0                  0.00   59    No  \n",
       "4           16.0                  4.00   28    No  \n",
       "...          ...                   ...  ...   ...  \n",
       "44323       30.0                  0.00   36   Yes  \n",
       "44324       79.2                 47.52   47    No  \n",
       "44325       30.0                 10.50   50    No  \n",
       "44326       36.0                  0.00   36    No  \n",
       "44327        0.0                 17.82   31    No  \n",
       "\n",
       "[43157 rows x 11 columns]"
      ]
     },
     "execution_count": 29,
     "metadata": {},
     "output_type": "execute_result"
    }
   ],
   "source": [
    "# Insert value Continent ke df\n",
    "df.insert(6, 'Continent', continent_list)\n",
    "df"
   ]
  },
  {
   "cell_type": "code",
   "execution_count": 30,
   "metadata": {},
   "outputs": [
    {
     "data": {
      "text/html": [
       "<div>\n",
       "<style scoped>\n",
       "    .dataframe tbody tr th:only-of-type {\n",
       "        vertical-align: middle;\n",
       "    }\n",
       "\n",
       "    .dataframe tbody tr th {\n",
       "        vertical-align: top;\n",
       "    }\n",
       "\n",
       "    .dataframe thead th {\n",
       "        text-align: right;\n",
       "    }\n",
       "</style>\n",
       "<table border=\"1\" class=\"dataframe\">\n",
       "  <thead>\n",
       "    <tr style=\"text-align: right;\">\n",
       "      <th></th>\n",
       "      <th>Continent</th>\n",
       "      <th>Destination</th>\n",
       "      <th>Count</th>\n",
       "      <th>Cummulative Percentage</th>\n",
       "    </tr>\n",
       "  </thead>\n",
       "  <tbody>\n",
       "    <tr>\n",
       "      <th>0</th>\n",
       "      <td>Asia</td>\n",
       "      <td>SINGAPORE</td>\n",
       "      <td>9190</td>\n",
       "      <td>21.29</td>\n",
       "    </tr>\n",
       "    <tr>\n",
       "      <th>1</th>\n",
       "      <td>Asia</td>\n",
       "      <td>MALAYSIA</td>\n",
       "      <td>4082</td>\n",
       "      <td>30.75</td>\n",
       "    </tr>\n",
       "    <tr>\n",
       "      <th>2</th>\n",
       "      <td>Asia</td>\n",
       "      <td>THAILAND</td>\n",
       "      <td>4066</td>\n",
       "      <td>40.17</td>\n",
       "    </tr>\n",
       "    <tr>\n",
       "      <th>3</th>\n",
       "      <td>Asia</td>\n",
       "      <td>CHINA</td>\n",
       "      <td>3358</td>\n",
       "      <td>47.96</td>\n",
       "    </tr>\n",
       "    <tr>\n",
       "      <th>4</th>\n",
       "      <td>Oceania</td>\n",
       "      <td>AUSTRALIA</td>\n",
       "      <td>2494</td>\n",
       "      <td>53.73</td>\n",
       "    </tr>\n",
       "    <tr>\n",
       "      <th>5</th>\n",
       "      <td>Asia</td>\n",
       "      <td>INDONESIA</td>\n",
       "      <td>2365</td>\n",
       "      <td>59.21</td>\n",
       "    </tr>\n",
       "    <tr>\n",
       "      <th>6</th>\n",
       "      <td>Asia</td>\n",
       "      <td>PHILIPPINES</td>\n",
       "      <td>1738</td>\n",
       "      <td>63.24</td>\n",
       "    </tr>\n",
       "    <tr>\n",
       "      <th>7</th>\n",
       "      <td>Asia</td>\n",
       "      <td>HONG KONG</td>\n",
       "      <td>1728</td>\n",
       "      <td>67.25</td>\n",
       "    </tr>\n",
       "    <tr>\n",
       "      <th>8</th>\n",
       "      <td>America</td>\n",
       "      <td>UNITED STATES</td>\n",
       "      <td>1701</td>\n",
       "      <td>71.19</td>\n",
       "    </tr>\n",
       "    <tr>\n",
       "      <th>9</th>\n",
       "      <td>Asia</td>\n",
       "      <td>JAPAN</td>\n",
       "      <td>1429</td>\n",
       "      <td>74.50</td>\n",
       "    </tr>\n",
       "    <tr>\n",
       "      <th>10</th>\n",
       "      <td>Asia</td>\n",
       "      <td>VIET NAM</td>\n",
       "      <td>1191</td>\n",
       "      <td>77.26</td>\n",
       "    </tr>\n",
       "    <tr>\n",
       "      <th>11</th>\n",
       "      <td>Asia</td>\n",
       "      <td>INDIA</td>\n",
       "      <td>1043</td>\n",
       "      <td>79.67</td>\n",
       "    </tr>\n",
       "    <tr>\n",
       "      <th>12</th>\n",
       "      <td>Asia</td>\n",
       "      <td>KOREA, REPUBLIC OF</td>\n",
       "      <td>1019</td>\n",
       "      <td>82.04</td>\n",
       "    </tr>\n",
       "    <tr>\n",
       "      <th>13</th>\n",
       "      <td>Europe</td>\n",
       "      <td>UNITED KINGDOM</td>\n",
       "      <td>880</td>\n",
       "      <td>84.07</td>\n",
       "    </tr>\n",
       "    <tr>\n",
       "      <th>14</th>\n",
       "      <td>Asia</td>\n",
       "      <td>TAIWAN, PROVINCE OF CHINA</td>\n",
       "      <td>748</td>\n",
       "      <td>85.81</td>\n",
       "    </tr>\n",
       "    <tr>\n",
       "      <th>15</th>\n",
       "      <td>Asia</td>\n",
       "      <td>MYANMAR</td>\n",
       "      <td>580</td>\n",
       "      <td>87.15</td>\n",
       "    </tr>\n",
       "    <tr>\n",
       "      <th>16</th>\n",
       "      <td>Asia</td>\n",
       "      <td>BRUNEI DARUSSALAM</td>\n",
       "      <td>548</td>\n",
       "      <td>88.42</td>\n",
       "    </tr>\n",
       "    <tr>\n",
       "      <th>17</th>\n",
       "      <td>Oceania</td>\n",
       "      <td>NEW ZEALAND</td>\n",
       "      <td>363</td>\n",
       "      <td>89.26</td>\n",
       "    </tr>\n",
       "    <tr>\n",
       "      <th>18</th>\n",
       "      <td>America</td>\n",
       "      <td>CANADA</td>\n",
       "      <td>356</td>\n",
       "      <td>90.09</td>\n",
       "    </tr>\n",
       "    <tr>\n",
       "      <th>19</th>\n",
       "      <td>Asia</td>\n",
       "      <td>CAMBODIA</td>\n",
       "      <td>341</td>\n",
       "      <td>90.88</td>\n",
       "    </tr>\n",
       "  </tbody>\n",
       "</table>\n",
       "</div>"
      ],
      "text/plain": [
       "   Continent                Destination  Count  Cummulative Percentage\n",
       "0       Asia                  SINGAPORE   9190                   21.29\n",
       "1       Asia                   MALAYSIA   4082                   30.75\n",
       "2       Asia                   THAILAND   4066                   40.17\n",
       "3       Asia                      CHINA   3358                   47.96\n",
       "4    Oceania                  AUSTRALIA   2494                   53.73\n",
       "5       Asia                  INDONESIA   2365                   59.21\n",
       "6       Asia                PHILIPPINES   1738                   63.24\n",
       "7       Asia                  HONG KONG   1728                   67.25\n",
       "8    America              UNITED STATES   1701                   71.19\n",
       "9       Asia                      JAPAN   1429                   74.50\n",
       "10      Asia                   VIET NAM   1191                   77.26\n",
       "11      Asia                      INDIA   1043                   79.67\n",
       "12      Asia         KOREA, REPUBLIC OF   1019                   82.04\n",
       "13    Europe             UNITED KINGDOM    880                   84.07\n",
       "14      Asia  TAIWAN, PROVINCE OF CHINA    748                   85.81\n",
       "15      Asia                    MYANMAR    580                   87.15\n",
       "16      Asia          BRUNEI DARUSSALAM    548                   88.42\n",
       "17   Oceania                NEW ZEALAND    363                   89.26\n",
       "18   America                     CANADA    356                   90.09\n",
       "19      Asia                   CAMBODIA    341                   90.88"
      ]
     },
     "execution_count": 30,
     "metadata": {},
     "output_type": "execute_result"
    }
   ],
   "source": [
    "# Mengurutkan rank jumlah Destination \n",
    "count_destination = df.groupby(['Continent','Destination']).count()[['Agency']].sort_values('Agency', ascending=False).reset_index()\n",
    "\n",
    "# Menambahkan kolom Cummulative Percentage\n",
    "count_destination['Cummulative Percentage'] = ((count_destination['Agency'] / len(df)) * 100).cumsum(axis = 0).round(2)\n",
    "\n",
    "# Menampilkan data yang sudah diurutkan\n",
    "count_destination.rename(columns={'Agency' : 'Count'}).head(20)"
   ]
  },
  {
   "cell_type": "markdown",
   "metadata": {},
   "source": [
    "Dari dataframe akan disimpulkan untuk mengambil data berdasarkan `Cummulative Percentage` sebanyak **85%**, yaitu data sampai ke 14 (TAIWAN). Artinya, sekitar 15% data `Destination`-nya diubah menjadi `OTHER`."
   ]
  },
  {
   "cell_type": "code",
   "execution_count": 31,
   "metadata": {},
   "outputs": [
    {
     "data": {
      "text/html": [
       "<div>\n",
       "<style scoped>\n",
       "    .dataframe tbody tr th:only-of-type {\n",
       "        vertical-align: middle;\n",
       "    }\n",
       "\n",
       "    .dataframe tbody tr th {\n",
       "        vertical-align: top;\n",
       "    }\n",
       "\n",
       "    .dataframe thead th {\n",
       "        text-align: right;\n",
       "    }\n",
       "</style>\n",
       "<table border=\"1\" class=\"dataframe\">\n",
       "  <thead>\n",
       "    <tr style=\"text-align: right;\">\n",
       "      <th></th>\n",
       "      <th>Agency</th>\n",
       "      <th>Agency Type</th>\n",
       "      <th>Distribution Channel</th>\n",
       "      <th>Product Name</th>\n",
       "      <th>Duration</th>\n",
       "      <th>Destination</th>\n",
       "      <th>Continent</th>\n",
       "      <th>Net Sales</th>\n",
       "      <th>Commision (in value)</th>\n",
       "      <th>Age</th>\n",
       "      <th>Claim</th>\n",
       "    </tr>\n",
       "  </thead>\n",
       "  <tbody>\n",
       "    <tr>\n",
       "      <th>0</th>\n",
       "      <td>C2B</td>\n",
       "      <td>Airlines</td>\n",
       "      <td>Online</td>\n",
       "      <td>Annual Silver Plan</td>\n",
       "      <td>365</td>\n",
       "      <td>SINGAPORE</td>\n",
       "      <td>Asia</td>\n",
       "      <td>216.0</td>\n",
       "      <td>54.00</td>\n",
       "      <td>57</td>\n",
       "      <td>No</td>\n",
       "    </tr>\n",
       "    <tr>\n",
       "      <th>1</th>\n",
       "      <td>EPX</td>\n",
       "      <td>Travel Agency</td>\n",
       "      <td>Online</td>\n",
       "      <td>Cancellation Plan</td>\n",
       "      <td>4</td>\n",
       "      <td>MALAYSIA</td>\n",
       "      <td>Asia</td>\n",
       "      <td>10.0</td>\n",
       "      <td>0.00</td>\n",
       "      <td>33</td>\n",
       "      <td>No</td>\n",
       "    </tr>\n",
       "    <tr>\n",
       "      <th>2</th>\n",
       "      <td>JZI</td>\n",
       "      <td>Airlines</td>\n",
       "      <td>Online</td>\n",
       "      <td>Basic Plan</td>\n",
       "      <td>19</td>\n",
       "      <td>INDIA</td>\n",
       "      <td>Asia</td>\n",
       "      <td>22.0</td>\n",
       "      <td>7.70</td>\n",
       "      <td>26</td>\n",
       "      <td>No</td>\n",
       "    </tr>\n",
       "    <tr>\n",
       "      <th>3</th>\n",
       "      <td>EPX</td>\n",
       "      <td>Travel Agency</td>\n",
       "      <td>Online</td>\n",
       "      <td>2 way Comprehensive Plan</td>\n",
       "      <td>20</td>\n",
       "      <td>UNITED STATES</td>\n",
       "      <td>America</td>\n",
       "      <td>112.0</td>\n",
       "      <td>0.00</td>\n",
       "      <td>59</td>\n",
       "      <td>No</td>\n",
       "    </tr>\n",
       "    <tr>\n",
       "      <th>4</th>\n",
       "      <td>C2B</td>\n",
       "      <td>Airlines</td>\n",
       "      <td>Online</td>\n",
       "      <td>Bronze Plan</td>\n",
       "      <td>8</td>\n",
       "      <td>SINGAPORE</td>\n",
       "      <td>Asia</td>\n",
       "      <td>16.0</td>\n",
       "      <td>4.00</td>\n",
       "      <td>28</td>\n",
       "      <td>No</td>\n",
       "    </tr>\n",
       "    <tr>\n",
       "      <th>...</th>\n",
       "      <td>...</td>\n",
       "      <td>...</td>\n",
       "      <td>...</td>\n",
       "      <td>...</td>\n",
       "      <td>...</td>\n",
       "      <td>...</td>\n",
       "      <td>...</td>\n",
       "      <td>...</td>\n",
       "      <td>...</td>\n",
       "      <td>...</td>\n",
       "      <td>...</td>\n",
       "    </tr>\n",
       "    <tr>\n",
       "      <th>44323</th>\n",
       "      <td>EPX</td>\n",
       "      <td>Travel Agency</td>\n",
       "      <td>Online</td>\n",
       "      <td>2 way Comprehensive Plan</td>\n",
       "      <td>14</td>\n",
       "      <td>CHINA</td>\n",
       "      <td>Asia</td>\n",
       "      <td>30.0</td>\n",
       "      <td>0.00</td>\n",
       "      <td>36</td>\n",
       "      <td>Yes</td>\n",
       "    </tr>\n",
       "    <tr>\n",
       "      <th>44324</th>\n",
       "      <td>CWT</td>\n",
       "      <td>Travel Agency</td>\n",
       "      <td>Online</td>\n",
       "      <td>Rental Vehicle Excess Insurance</td>\n",
       "      <td>17</td>\n",
       "      <td>AUSTRALIA</td>\n",
       "      <td>Oceania</td>\n",
       "      <td>79.2</td>\n",
       "      <td>47.52</td>\n",
       "      <td>47</td>\n",
       "      <td>No</td>\n",
       "    </tr>\n",
       "    <tr>\n",
       "      <th>44325</th>\n",
       "      <td>TST</td>\n",
       "      <td>Travel Agency</td>\n",
       "      <td>Offline</td>\n",
       "      <td>Travel Cruise Protect</td>\n",
       "      <td>64</td>\n",
       "      <td>THAILAND</td>\n",
       "      <td>Asia</td>\n",
       "      <td>30.0</td>\n",
       "      <td>10.50</td>\n",
       "      <td>50</td>\n",
       "      <td>No</td>\n",
       "    </tr>\n",
       "    <tr>\n",
       "      <th>44326</th>\n",
       "      <td>EPX</td>\n",
       "      <td>Travel Agency</td>\n",
       "      <td>Online</td>\n",
       "      <td>2 way Comprehensive Plan</td>\n",
       "      <td>51</td>\n",
       "      <td>CHINA</td>\n",
       "      <td>Asia</td>\n",
       "      <td>36.0</td>\n",
       "      <td>0.00</td>\n",
       "      <td>36</td>\n",
       "      <td>No</td>\n",
       "    </tr>\n",
       "    <tr>\n",
       "      <th>44327</th>\n",
       "      <td>CWT</td>\n",
       "      <td>Travel Agency</td>\n",
       "      <td>Online</td>\n",
       "      <td>Rental Vehicle Excess Insurance</td>\n",
       "      <td>172</td>\n",
       "      <td>SINGAPORE</td>\n",
       "      <td>Asia</td>\n",
       "      <td>0.0</td>\n",
       "      <td>17.82</td>\n",
       "      <td>31</td>\n",
       "      <td>No</td>\n",
       "    </tr>\n",
       "  </tbody>\n",
       "</table>\n",
       "<p>43157 rows × 11 columns</p>\n",
       "</div>"
      ],
      "text/plain": [
       "      Agency    Agency Type Distribution Channel  \\\n",
       "0        C2B       Airlines               Online   \n",
       "1        EPX  Travel Agency               Online   \n",
       "2        JZI       Airlines               Online   \n",
       "3        EPX  Travel Agency               Online   \n",
       "4        C2B       Airlines               Online   \n",
       "...      ...            ...                  ...   \n",
       "44323    EPX  Travel Agency               Online   \n",
       "44324    CWT  Travel Agency               Online   \n",
       "44325    TST  Travel Agency              Offline   \n",
       "44326    EPX  Travel Agency               Online   \n",
       "44327    CWT  Travel Agency               Online   \n",
       "\n",
       "                          Product Name  Duration    Destination Continent  \\\n",
       "0                   Annual Silver Plan       365      SINGAPORE      Asia   \n",
       "1                    Cancellation Plan         4       MALAYSIA      Asia   \n",
       "2                           Basic Plan        19          INDIA      Asia   \n",
       "3             2 way Comprehensive Plan        20  UNITED STATES   America   \n",
       "4                          Bronze Plan         8      SINGAPORE      Asia   \n",
       "...                                ...       ...            ...       ...   \n",
       "44323         2 way Comprehensive Plan        14          CHINA      Asia   \n",
       "44324  Rental Vehicle Excess Insurance        17      AUSTRALIA   Oceania   \n",
       "44325            Travel Cruise Protect        64       THAILAND      Asia   \n",
       "44326         2 way Comprehensive Plan        51          CHINA      Asia   \n",
       "44327  Rental Vehicle Excess Insurance       172      SINGAPORE      Asia   \n",
       "\n",
       "       Net Sales  Commision (in value)  Age Claim  \n",
       "0          216.0                 54.00   57    No  \n",
       "1           10.0                  0.00   33    No  \n",
       "2           22.0                  7.70   26    No  \n",
       "3          112.0                  0.00   59    No  \n",
       "4           16.0                  4.00   28    No  \n",
       "...          ...                   ...  ...   ...  \n",
       "44323       30.0                  0.00   36   Yes  \n",
       "44324       79.2                 47.52   47    No  \n",
       "44325       30.0                 10.50   50    No  \n",
       "44326       36.0                  0.00   36    No  \n",
       "44327        0.0                 17.82   31    No  \n",
       "\n",
       "[43157 rows x 11 columns]"
      ]
     },
     "execution_count": 31,
     "metadata": {},
     "output_type": "execute_result"
    }
   ],
   "source": [
    "# Membuat list yang berisi Destination rank di atas 14\n",
    "list_other = (count_destination.iloc[15:]['Destination']).to_list()\n",
    "\n",
    "# Mengubah Destination di list_other menjadi OTHER\n",
    "df['Destination'] = df['Destination'].replace(list_other, 'OTHER')\n",
    "df"
   ]
  },
  {
   "cell_type": "markdown",
   "metadata": {},
   "source": [
    "Setelah disedernakan dengan cara mengubah Destination rank di bawah 14 menjadi OTHER, berikut hasil dari operasi di atas"
   ]
  },
  {
   "cell_type": "code",
   "execution_count": 32,
   "metadata": {},
   "outputs": [
    {
     "data": {
      "text/html": [
       "<div>\n",
       "<style scoped>\n",
       "    .dataframe tbody tr th:only-of-type {\n",
       "        vertical-align: middle;\n",
       "    }\n",
       "\n",
       "    .dataframe tbody tr th {\n",
       "        vertical-align: top;\n",
       "    }\n",
       "\n",
       "    .dataframe thead th {\n",
       "        text-align: right;\n",
       "    }\n",
       "</style>\n",
       "<table border=\"1\" class=\"dataframe\">\n",
       "  <thead>\n",
       "    <tr style=\"text-align: right;\">\n",
       "      <th></th>\n",
       "      <th>Continent</th>\n",
       "      <th>Destination</th>\n",
       "      <th>Count</th>\n",
       "      <th>Cummulative Percentage</th>\n",
       "    </tr>\n",
       "  </thead>\n",
       "  <tbody>\n",
       "    <tr>\n",
       "      <th>0</th>\n",
       "      <td>Asia</td>\n",
       "      <td>SINGAPORE</td>\n",
       "      <td>9190</td>\n",
       "      <td>21.29</td>\n",
       "    </tr>\n",
       "    <tr>\n",
       "      <th>1</th>\n",
       "      <td>Asia</td>\n",
       "      <td>MALAYSIA</td>\n",
       "      <td>4082</td>\n",
       "      <td>30.75</td>\n",
       "    </tr>\n",
       "    <tr>\n",
       "      <th>2</th>\n",
       "      <td>Asia</td>\n",
       "      <td>THAILAND</td>\n",
       "      <td>4066</td>\n",
       "      <td>40.17</td>\n",
       "    </tr>\n",
       "    <tr>\n",
       "      <th>3</th>\n",
       "      <td>Asia</td>\n",
       "      <td>CHINA</td>\n",
       "      <td>3358</td>\n",
       "      <td>47.96</td>\n",
       "    </tr>\n",
       "    <tr>\n",
       "      <th>4</th>\n",
       "      <td>Europe</td>\n",
       "      <td>OTHER</td>\n",
       "      <td>2537</td>\n",
       "      <td>53.83</td>\n",
       "    </tr>\n",
       "    <tr>\n",
       "      <th>5</th>\n",
       "      <td>Oceania</td>\n",
       "      <td>AUSTRALIA</td>\n",
       "      <td>2494</td>\n",
       "      <td>59.61</td>\n",
       "    </tr>\n",
       "    <tr>\n",
       "      <th>6</th>\n",
       "      <td>Asia</td>\n",
       "      <td>OTHER</td>\n",
       "      <td>2468</td>\n",
       "      <td>65.33</td>\n",
       "    </tr>\n",
       "    <tr>\n",
       "      <th>7</th>\n",
       "      <td>Asia</td>\n",
       "      <td>INDONESIA</td>\n",
       "      <td>2365</td>\n",
       "      <td>70.81</td>\n",
       "    </tr>\n",
       "    <tr>\n",
       "      <th>8</th>\n",
       "      <td>Asia</td>\n",
       "      <td>PHILIPPINES</td>\n",
       "      <td>1738</td>\n",
       "      <td>74.84</td>\n",
       "    </tr>\n",
       "    <tr>\n",
       "      <th>9</th>\n",
       "      <td>Asia</td>\n",
       "      <td>HONG KONG</td>\n",
       "      <td>1728</td>\n",
       "      <td>78.84</td>\n",
       "    </tr>\n",
       "    <tr>\n",
       "      <th>10</th>\n",
       "      <td>America</td>\n",
       "      <td>UNITED STATES</td>\n",
       "      <td>1701</td>\n",
       "      <td>82.78</td>\n",
       "    </tr>\n",
       "    <tr>\n",
       "      <th>11</th>\n",
       "      <td>Asia</td>\n",
       "      <td>JAPAN</td>\n",
       "      <td>1429</td>\n",
       "      <td>86.09</td>\n",
       "    </tr>\n",
       "    <tr>\n",
       "      <th>12</th>\n",
       "      <td>Asia</td>\n",
       "      <td>VIET NAM</td>\n",
       "      <td>1191</td>\n",
       "      <td>88.85</td>\n",
       "    </tr>\n",
       "    <tr>\n",
       "      <th>13</th>\n",
       "      <td>Asia</td>\n",
       "      <td>INDIA</td>\n",
       "      <td>1043</td>\n",
       "      <td>91.27</td>\n",
       "    </tr>\n",
       "    <tr>\n",
       "      <th>14</th>\n",
       "      <td>Asia</td>\n",
       "      <td>KOREA, REPUBLIC OF</td>\n",
       "      <td>1019</td>\n",
       "      <td>93.63</td>\n",
       "    </tr>\n",
       "    <tr>\n",
       "      <th>15</th>\n",
       "      <td>Europe</td>\n",
       "      <td>UNITED KINGDOM</td>\n",
       "      <td>880</td>\n",
       "      <td>95.67</td>\n",
       "    </tr>\n",
       "    <tr>\n",
       "      <th>16</th>\n",
       "      <td>Asia</td>\n",
       "      <td>TAIWAN, PROVINCE OF CHINA</td>\n",
       "      <td>748</td>\n",
       "      <td>97.40</td>\n",
       "    </tr>\n",
       "    <tr>\n",
       "      <th>17</th>\n",
       "      <td>America</td>\n",
       "      <td>OTHER</td>\n",
       "      <td>528</td>\n",
       "      <td>98.63</td>\n",
       "    </tr>\n",
       "    <tr>\n",
       "      <th>18</th>\n",
       "      <td>Oceania</td>\n",
       "      <td>OTHER</td>\n",
       "      <td>392</td>\n",
       "      <td>99.54</td>\n",
       "    </tr>\n",
       "    <tr>\n",
       "      <th>19</th>\n",
       "      <td>Africa</td>\n",
       "      <td>OTHER</td>\n",
       "      <td>200</td>\n",
       "      <td>100.00</td>\n",
       "    </tr>\n",
       "  </tbody>\n",
       "</table>\n",
       "</div>"
      ],
      "text/plain": [
       "   Continent                Destination  Count  Cummulative Percentage\n",
       "0       Asia                  SINGAPORE   9190                   21.29\n",
       "1       Asia                   MALAYSIA   4082                   30.75\n",
       "2       Asia                   THAILAND   4066                   40.17\n",
       "3       Asia                      CHINA   3358                   47.96\n",
       "4     Europe                      OTHER   2537                   53.83\n",
       "5    Oceania                  AUSTRALIA   2494                   59.61\n",
       "6       Asia                      OTHER   2468                   65.33\n",
       "7       Asia                  INDONESIA   2365                   70.81\n",
       "8       Asia                PHILIPPINES   1738                   74.84\n",
       "9       Asia                  HONG KONG   1728                   78.84\n",
       "10   America              UNITED STATES   1701                   82.78\n",
       "11      Asia                      JAPAN   1429                   86.09\n",
       "12      Asia                   VIET NAM   1191                   88.85\n",
       "13      Asia                      INDIA   1043                   91.27\n",
       "14      Asia         KOREA, REPUBLIC OF   1019                   93.63\n",
       "15    Europe             UNITED KINGDOM    880                   95.67\n",
       "16      Asia  TAIWAN, PROVINCE OF CHINA    748                   97.40\n",
       "17   America                      OTHER    528                   98.63\n",
       "18   Oceania                      OTHER    392                   99.54\n",
       "19    Africa                      OTHER    200                  100.00"
      ]
     },
     "execution_count": 32,
     "metadata": {},
     "output_type": "execute_result"
    }
   ],
   "source": [
    "# Mengurutkan rank jumlah Destination \n",
    "count_destination = df.groupby(['Continent','Destination']).count()[['Agency']].sort_values('Agency', ascending=False).reset_index()\n",
    "\n",
    "# Menambahkan kolom Cummulative Percentage\n",
    "count_destination['Cummulative Percentage'] = ((count_destination['Agency'] / len(df)) * 100).cumsum(axis = 0).round(2)\n",
    "\n",
    "# Menampilkan data yang sudah diurutkan\n",
    "count_destination.rename(columns={'Agency' : 'Count'})"
   ]
  },
  {
   "cell_type": "code",
   "execution_count": 33,
   "metadata": {},
   "outputs": [
    {
     "data": {
      "image/png": "[encoded data removed]",
      "text/plain": [
       "<Figure size 1872x720 with 1 Axes>"
      ]
     },
     "metadata": {
      "needs_background": "light"
     },
     "output_type": "display_data"
    }
   ],
   "source": [
    "plt.figure(figsize=(26,10))\n",
    "ax = sns.countplot(data=df, x='Destination', order=df['Destination'].value_counts().index)\n",
    "\n",
    "for p in ax.patches:\n",
    "   ax.annotate('{:.0f}'.format(p.get_height()), (p.get_x()+0.18, p.get_height()+0.1), fontsize=15)\n",
    "\n",
    "plt.title('Count Destination', fontsize=18)\n",
    "plt.xticks(fontsize= 15)\n",
    "plt.yticks(fontsize= 15)\n",
    "\n",
    "plt.xticks(rotation=90);"
   ]
  },
  {
   "cell_type": "markdown",
   "metadata": {},
   "source": [
    "## `Claim`\n",
    "Mengubah value dari `Claim`\n",
    "- 0 : No\n",
    "- 1 : Yes"
   ]
  },
  {
   "cell_type": "code",
   "execution_count": 34,
   "metadata": {},
   "outputs": [],
   "source": [
    "df['Claim'] = np.where(df['Claim'] == 'Yes', 1, 0)"
   ]
  },
  {
   "cell_type": "markdown",
   "metadata": {},
   "source": [
    "Berikut ini adalah presentase data customer yang mengajukan klaim asuransi perjalanan."
   ]
  },
  {
   "cell_type": "code",
   "execution_count": 35,
   "metadata": {},
   "outputs": [
    {
     "data": {
      "text/html": [
       "<div>\n",
       "<style scoped>\n",
       "    .dataframe tbody tr th:only-of-type {\n",
       "        vertical-align: middle;\n",
       "    }\n",
       "\n",
       "    .dataframe tbody tr th {\n",
       "        vertical-align: top;\n",
       "    }\n",
       "\n",
       "    .dataframe thead th {\n",
       "        text-align: right;\n",
       "    }\n",
       "</style>\n",
       "<table border=\"1\" class=\"dataframe\">\n",
       "  <thead>\n",
       "    <tr style=\"text-align: right;\">\n",
       "      <th></th>\n",
       "      <th>Claim</th>\n",
       "    </tr>\n",
       "  </thead>\n",
       "  <tbody>\n",
       "    <tr>\n",
       "      <th>0</th>\n",
       "      <td>42487</td>\n",
       "    </tr>\n",
       "    <tr>\n",
       "      <th>1</th>\n",
       "      <td>670</td>\n",
       "    </tr>\n",
       "  </tbody>\n",
       "</table>\n",
       "</div>"
      ],
      "text/plain": [
       "   Claim\n",
       "0  42487\n",
       "1    670"
      ]
     },
     "execution_count": 35,
     "metadata": {},
     "output_type": "execute_result"
    }
   ],
   "source": [
    "df_claim = pd.DataFrame(df['Claim'].value_counts())\n",
    "df_claim"
   ]
  },
  {
   "cell_type": "code",
   "execution_count": 36,
   "metadata": {},
   "outputs": [
    {
     "data": {
      "image/png": "[encoded data removed]",
      "text/plain": [
       "<Figure size 360x360 with 1 Axes>"
      ]
     },
     "metadata": {},
     "output_type": "display_data"
    }
   ],
   "source": [
    "plt.figure(figsize=(5,5))\n",
    "plt.pie(\n",
    "    x = df_claim['Claim'],\n",
    "    labels = df_claim.index,\n",
    "    autopct = f'%.2f',\n",
    "    explode = (0.2,0),\n",
    "    shadow=True,\n",
    "    colors=('cyan', 'red')\n",
    ")\n",
    "\n",
    "plt.title('Percentage of Claim')\n",
    "\n",
    "plt.show()"
   ]
  },
  {
   "cell_type": "markdown",
   "metadata": {},
   "source": [
    "Terlihat dari pie chart di atas, merupakan persentase yang **moderate imbalance (1% - 20%)**. Karena itu perlu dilakukan *imbalance treatment* pada saat preprocessing atau modeling machine learning."
   ]
  },
  {
   "cell_type": "markdown",
   "metadata": {},
   "source": [
    "## `Summary Data Cleaning`\n",
    "Setelah selesai proses data cleaning, berikut adalah ringkasan dari data akhir yang akan selanjutnya ke proses machine learning"
   ]
  },
  {
   "cell_type": "code",
   "execution_count": 37,
   "metadata": {},
   "outputs": [
    {
     "name": "stdout",
     "output_type": "stream",
     "text": [
      "(43157, 11)\n"
     ]
    },
    {
     "data": {
      "text/html": [
       "<div>\n",
       "<style scoped>\n",
       "    .dataframe tbody tr th:only-of-type {\n",
       "        vertical-align: middle;\n",
       "    }\n",
       "\n",
       "    .dataframe tbody tr th {\n",
       "        vertical-align: top;\n",
       "    }\n",
       "\n",
       "    .dataframe thead th {\n",
       "        text-align: right;\n",
       "    }\n",
       "</style>\n",
       "<table border=\"1\" class=\"dataframe\">\n",
       "  <thead>\n",
       "    <tr style=\"text-align: right;\">\n",
       "      <th></th>\n",
       "      <th>dataFeatures</th>\n",
       "      <th>dataType</th>\n",
       "      <th>null</th>\n",
       "      <th>unique</th>\n",
       "      <th>uniqueSample</th>\n",
       "    </tr>\n",
       "  </thead>\n",
       "  <tbody>\n",
       "    <tr>\n",
       "      <th>0</th>\n",
       "      <td>Agency</td>\n",
       "      <td>object</td>\n",
       "      <td>0</td>\n",
       "      <td>15</td>\n",
       "      <td>[CSR, SSI]</td>\n",
       "    </tr>\n",
       "    <tr>\n",
       "      <th>1</th>\n",
       "      <td>Agency Type</td>\n",
       "      <td>object</td>\n",
       "      <td>0</td>\n",
       "      <td>2</td>\n",
       "      <td>[Travel Agency, Airlines]</td>\n",
       "    </tr>\n",
       "    <tr>\n",
       "      <th>2</th>\n",
       "      <td>Distribution Channel</td>\n",
       "      <td>object</td>\n",
       "      <td>0</td>\n",
       "      <td>2</td>\n",
       "      <td>[Online, Offline]</td>\n",
       "    </tr>\n",
       "    <tr>\n",
       "      <th>3</th>\n",
       "      <td>Product Name</td>\n",
       "      <td>object</td>\n",
       "      <td>0</td>\n",
       "      <td>26</td>\n",
       "      <td>[Annual Travel Protect Silver, Cancellation Plan]</td>\n",
       "    </tr>\n",
       "    <tr>\n",
       "      <th>4</th>\n",
       "      <td>Duration</td>\n",
       "      <td>int64</td>\n",
       "      <td>0</td>\n",
       "      <td>422</td>\n",
       "      <td>[190, 13]</td>\n",
       "    </tr>\n",
       "    <tr>\n",
       "      <th>5</th>\n",
       "      <td>Destination</td>\n",
       "      <td>object</td>\n",
       "      <td>0</td>\n",
       "      <td>16</td>\n",
       "      <td>[THAILAND, INDONESIA]</td>\n",
       "    </tr>\n",
       "    <tr>\n",
       "      <th>6</th>\n",
       "      <td>Continent</td>\n",
       "      <td>object</td>\n",
       "      <td>0</td>\n",
       "      <td>5</td>\n",
       "      <td>[Africa, Oceania]</td>\n",
       "    </tr>\n",
       "    <tr>\n",
       "      <th>7</th>\n",
       "      <td>Net Sales</td>\n",
       "      <td>float64</td>\n",
       "      <td>0</td>\n",
       "      <td>866</td>\n",
       "      <td>[44.5, 4.68]</td>\n",
       "    </tr>\n",
       "    <tr>\n",
       "      <th>8</th>\n",
       "      <td>Commision (in value)</td>\n",
       "      <td>float64</td>\n",
       "      <td>0</td>\n",
       "      <td>880</td>\n",
       "      <td>[6.85, 21.5]</td>\n",
       "    </tr>\n",
       "    <tr>\n",
       "      <th>9</th>\n",
       "      <td>Age</td>\n",
       "      <td>int64</td>\n",
       "      <td>0</td>\n",
       "      <td>88</td>\n",
       "      <td>[47, 40]</td>\n",
       "    </tr>\n",
       "    <tr>\n",
       "      <th>10</th>\n",
       "      <td>Claim</td>\n",
       "      <td>int32</td>\n",
       "      <td>0</td>\n",
       "      <td>2</td>\n",
       "      <td>[1, 0]</td>\n",
       "    </tr>\n",
       "  </tbody>\n",
       "</table>\n",
       "</div>"
      ],
      "text/plain": [
       "            dataFeatures dataType  null  unique  \\\n",
       "0                 Agency   object     0      15   \n",
       "1            Agency Type   object     0       2   \n",
       "2   Distribution Channel   object     0       2   \n",
       "3           Product Name   object     0      26   \n",
       "4               Duration    int64     0     422   \n",
       "5            Destination   object     0      16   \n",
       "6              Continent   object     0       5   \n",
       "7              Net Sales  float64     0     866   \n",
       "8   Commision (in value)  float64     0     880   \n",
       "9                    Age    int64     0      88   \n",
       "10                 Claim    int32     0       2   \n",
       "\n",
       "                                         uniqueSample  \n",
       "0                                          [CSR, SSI]  \n",
       "1                           [Travel Agency, Airlines]  \n",
       "2                                   [Online, Offline]  \n",
       "3   [Annual Travel Protect Silver, Cancellation Plan]  \n",
       "4                                           [190, 13]  \n",
       "5                               [THAILAND, INDONESIA]  \n",
       "6                                   [Africa, Oceania]  \n",
       "7                                        [44.5, 4.68]  \n",
       "8                                        [6.85, 21.5]  \n",
       "9                                            [47, 40]  \n",
       "10                                             [1, 0]  "
      ]
     },
     "execution_count": 37,
     "metadata": {},
     "output_type": "execute_result"
    }
   ],
   "source": [
    "# Menampilkan ringkasan data cleaning\n",
    "listItem = []\n",
    "for col in df.columns :\n",
    "    listItem.append([col, df[col].dtype, df[col].isna().sum(),\n",
    "                    df[col].nunique(), list(df[col].drop_duplicates().sample(2).values)]);\n",
    "\n",
    "dfDesc = pd.DataFrame(columns=['dataFeatures', 'dataType', 'null', 'unique', 'uniqueSample'],\n",
    "                     data=listItem)\n",
    "print(df.shape)\n",
    "dfDesc"
   ]
  },
  {
   "cell_type": "markdown",
   "metadata": {},
   "source": [
    "# `EDA`"
   ]
  },
  {
   "cell_type": "code",
   "execution_count": 38,
   "metadata": {},
   "outputs": [
    {
     "data": {
      "image/png": "[encoded data removed]",
      "text/plain": [
       "<Figure size 1440x288 with 3 Axes>"
      ]
     },
     "metadata": {
      "needs_background": "light"
     },
     "output_type": "display_data"
    }
   ],
   "source": [
    "# Jumlah customer untuk tiap categorical variables berdasarkan Claim\n",
    "features = ['Agency Type', 'Distribution Channel', 'Continent']\n",
    "plt.figure(figsize=(20, 4))\n",
    "sns.set(palette='Set1')\n",
    "plotnumber = 1\n",
    "\n",
    "for feature in features:\n",
    "    ax = plt.subplot(1, len(features), plotnumber)\n",
    "    sns.countplot(x=feature, hue='Claim', data=df)\n",
    "    plt.xlabel(feature)\n",
    "    plt.title(feature)\n",
    "    plotnumber += 1\n",
    "    plt.tight_layout();"
   ]
  },
  {
   "cell_type": "code",
   "execution_count": 39,
   "metadata": {},
   "outputs": [
    {
     "data": {
      "image/png": "[encoded data removed]",
      "text/plain": [
       "<Figure size 1440x288 with 4 Axes>"
      ]
     },
     "metadata": {},
     "output_type": "display_data"
    }
   ],
   "source": [
    "# Rata-rata customer untuk tiap numerikal variables berdasarkan Claim\n",
    "\n",
    "plt.figure(figsize=(20, 4))\n",
    "plotnumber = 1\n",
    "\n",
    "for feat in num_features:\n",
    "    ax = plt.subplot(1, len(num_features), plotnumber)\n",
    "    sns.barplot(x='Claim', y=feat, data=df)\n",
    "    plt.xlabel(feat)\n",
    "    plt.title(feat)\n",
    "    plotnumber += 1\n",
    "    plt.tight_layout();"
   ]
  },
  {
   "cell_type": "markdown",
   "metadata": {},
   "source": [
    "# `DATA SPLITTING`"
   ]
  },
  {
   "cell_type": "markdown",
   "metadata": {},
   "source": [
    "## `Define X y`"
   ]
  },
  {
   "cell_type": "code",
   "execution_count": 40,
   "metadata": {},
   "outputs": [],
   "source": [
    "X = df.drop(columns='Claim')\n",
    "y = df['Claim']"
   ]
  },
  {
   "cell_type": "markdown",
   "metadata": {},
   "source": [
    "## `Splitting`"
   ]
  },
  {
   "cell_type": "code",
   "execution_count": 41,
   "metadata": {},
   "outputs": [],
   "source": [
    "X_train, X_test, y_train, y_test = train_test_split(X, y, test_size=0.2, stratify=y, random_state=0)"
   ]
  },
  {
   "cell_type": "code",
   "execution_count": 42,
   "metadata": {},
   "outputs": [
    {
     "data": {
      "text/plain": [
       "['Agency',\n",
       " 'Agency Type',\n",
       " 'Distribution Channel',\n",
       " 'Product Name',\n",
       " 'Destination',\n",
       " 'Continent']"
      ]
     },
     "execution_count": 42,
     "metadata": {},
     "output_type": "execute_result"
    }
   ],
   "source": [
    "# Kolom kategorikal\n",
    "cat_features = [feature for feature in X_train.columns if (X_train[feature].dtypes == 'O')]\n",
    "cat_features"
   ]
  },
  {
   "cell_type": "code",
   "execution_count": 43,
   "metadata": {},
   "outputs": [
    {
     "name": "stdout",
     "output_type": "stream",
     "text": [
      "(34525, 10)\n"
     ]
    },
    {
     "data": {
      "text/html": [
       "<div>\n",
       "<style scoped>\n",
       "    .dataframe tbody tr th:only-of-type {\n",
       "        vertical-align: middle;\n",
       "    }\n",
       "\n",
       "    .dataframe tbody tr th {\n",
       "        vertical-align: top;\n",
       "    }\n",
       "\n",
       "    .dataframe thead th {\n",
       "        text-align: right;\n",
       "    }\n",
       "</style>\n",
       "<table border=\"1\" class=\"dataframe\">\n",
       "  <thead>\n",
       "    <tr style=\"text-align: right;\">\n",
       "      <th></th>\n",
       "      <th>dataFeatures</th>\n",
       "      <th>X_train</th>\n",
       "      <th>X_test</th>\n",
       "    </tr>\n",
       "  </thead>\n",
       "  <tbody>\n",
       "    <tr>\n",
       "      <th>0</th>\n",
       "      <td>Agency</td>\n",
       "      <td>15</td>\n",
       "      <td>15</td>\n",
       "    </tr>\n",
       "    <tr>\n",
       "      <th>1</th>\n",
       "      <td>Agency Type</td>\n",
       "      <td>2</td>\n",
       "      <td>2</td>\n",
       "    </tr>\n",
       "    <tr>\n",
       "      <th>2</th>\n",
       "      <td>Distribution Channel</td>\n",
       "      <td>2</td>\n",
       "      <td>2</td>\n",
       "    </tr>\n",
       "    <tr>\n",
       "      <th>3</th>\n",
       "      <td>Product Name</td>\n",
       "      <td>26</td>\n",
       "      <td>24</td>\n",
       "    </tr>\n",
       "    <tr>\n",
       "      <th>4</th>\n",
       "      <td>Destination</td>\n",
       "      <td>16</td>\n",
       "      <td>16</td>\n",
       "    </tr>\n",
       "    <tr>\n",
       "      <th>5</th>\n",
       "      <td>Continent</td>\n",
       "      <td>5</td>\n",
       "      <td>5</td>\n",
       "    </tr>\n",
       "  </tbody>\n",
       "</table>\n",
       "</div>"
      ],
      "text/plain": [
       "           dataFeatures  X_train  X_test\n",
       "0                Agency       15      15\n",
       "1           Agency Type        2       2\n",
       "2  Distribution Channel        2       2\n",
       "3          Product Name       26      24\n",
       "4           Destination       16      16\n",
       "5             Continent        5       5"
      ]
     },
     "execution_count": 43,
     "metadata": {},
     "output_type": "execute_result"
    }
   ],
   "source": [
    "# Menampilkan jumlah unique value pada tiap kolom kategorikal \n",
    "listItem = []\n",
    "for col in cat_features:\n",
    "    listItem.append([col, X_train[col].nunique(),  X_test[col].nunique()])\n",
    "\n",
    "X_uniqueDesc = pd.DataFrame(columns=['dataFeatures', 'X_train', 'X_test'], data=listItem)\n",
    "print(X_train.shape)\n",
    "X_uniqueDesc"
   ]
  },
  {
   "cell_type": "markdown",
   "metadata": {},
   "source": [
    "Dengan menggunakan random_state = 0, maka dapat terlihat pada kolom `Product Name` X_train ada 26 sedangkan pada kolom X_test ada 24. Ini karena pada saat proses splitting tidak merata pada kolom `Product Name`, X_train mempelajari lebih banyak unique value daripada X_test. Ini menyebabkan selisih unique value yang dipelajari tidak akan dibuktikan pada proses test.\n",
    "Karena ini kita akan mencoba mengganti parameter random_state agar menjadi seimbang"
   ]
  },
  {
   "cell_type": "code",
   "execution_count": 44,
   "metadata": {},
   "outputs": [],
   "source": [
    "X_train, X_test, y_train, y_test = train_test_split(X, y, test_size=0.2, stratify=y, random_state=1)"
   ]
  },
  {
   "cell_type": "code",
   "execution_count": 45,
   "metadata": {},
   "outputs": [
    {
     "name": "stdout",
     "output_type": "stream",
     "text": [
      "(34525, 10)\n"
     ]
    },
    {
     "data": {
      "text/html": [
       "<div>\n",
       "<style scoped>\n",
       "    .dataframe tbody tr th:only-of-type {\n",
       "        vertical-align: middle;\n",
       "    }\n",
       "\n",
       "    .dataframe tbody tr th {\n",
       "        vertical-align: top;\n",
       "    }\n",
       "\n",
       "    .dataframe thead th {\n",
       "        text-align: right;\n",
       "    }\n",
       "</style>\n",
       "<table border=\"1\" class=\"dataframe\">\n",
       "  <thead>\n",
       "    <tr style=\"text-align: right;\">\n",
       "      <th></th>\n",
       "      <th>dataFeatures</th>\n",
       "      <th>X_train</th>\n",
       "      <th>X_test</th>\n",
       "    </tr>\n",
       "  </thead>\n",
       "  <tbody>\n",
       "    <tr>\n",
       "      <th>0</th>\n",
       "      <td>Agency</td>\n",
       "      <td>15</td>\n",
       "      <td>15</td>\n",
       "    </tr>\n",
       "    <tr>\n",
       "      <th>1</th>\n",
       "      <td>Agency Type</td>\n",
       "      <td>2</td>\n",
       "      <td>2</td>\n",
       "    </tr>\n",
       "    <tr>\n",
       "      <th>2</th>\n",
       "      <td>Distribution Channel</td>\n",
       "      <td>2</td>\n",
       "      <td>2</td>\n",
       "    </tr>\n",
       "    <tr>\n",
       "      <th>3</th>\n",
       "      <td>Product Name</td>\n",
       "      <td>25</td>\n",
       "      <td>25</td>\n",
       "    </tr>\n",
       "    <tr>\n",
       "      <th>4</th>\n",
       "      <td>Destination</td>\n",
       "      <td>16</td>\n",
       "      <td>16</td>\n",
       "    </tr>\n",
       "    <tr>\n",
       "      <th>5</th>\n",
       "      <td>Continent</td>\n",
       "      <td>5</td>\n",
       "      <td>5</td>\n",
       "    </tr>\n",
       "  </tbody>\n",
       "</table>\n",
       "</div>"
      ],
      "text/plain": [
       "           dataFeatures  X_train  X_test\n",
       "0                Agency       15      15\n",
       "1           Agency Type        2       2\n",
       "2  Distribution Channel        2       2\n",
       "3          Product Name       25      25\n",
       "4           Destination       16      16\n",
       "5             Continent        5       5"
      ]
     },
     "execution_count": 45,
     "metadata": {},
     "output_type": "execute_result"
    }
   ],
   "source": [
    "# Menampilkan jumlah unique value pada tiap kolom kategorikal \n",
    "listItem = []\n",
    "for col in cat_features:\n",
    "    listItem.append([col, X_train[col].nunique(),  X_test[col].nunique()])\n",
    "\n",
    "X_uniqueDesc = pd.DataFrame(columns=['dataFeatures', 'X_train', 'X_test'], data=listItem)\n",
    "print(X_train.shape)\n",
    "X_uniqueDesc"
   ]
  },
  {
   "cell_type": "markdown",
   "metadata": {},
   "source": [
    "Menggunakan random_state = 1, maka unique value pada tiap kolom kategorikal menjadi seimbang"
   ]
  },
  {
   "cell_type": "markdown",
   "metadata": {},
   "source": [
    "# **`PREPROCESSING`**"
   ]
  },
  {
   "cell_type": "markdown",
   "metadata": {},
   "source": [
    "Pertama-tama akan membuat encoding dan scaling pada tiap kolom.\n",
    "- Encoding:\n",
    "    - One Hot Encoder:\n",
    "    Kolom kategorikal pada dataset ini menggunakan One Hot Encoder karena data bukan berupa urutan (ordinal) dan jumlah unique value tergolong sedikit,meskipun `Product Name` dan `Agency` cukup banyak namun masih bisa diinterpretasikan menggunakan One Hot Encoder\n",
    "        - `Agency`\n",
    "        - `Agency Type`\n",
    "        - `Distribution Channel`\n",
    "        - `Product Name`\n",
    "        - `Destination`\n",
    "        - `Continent`\n",
    "\n",
    "- Scaling:\n",
    "    - Robust Scaler:\n",
    "    Kolom numerikal pada dataset ini menggunakan Robust Scaler karena mayoritas data tidak terdistribusi normal, Robust Scaler digunakan cocok untuk data yang memiliki outliers agar semua median dijadikan 0.\n",
    "        - `Duration`\n",
    "        - `Net Sales`\n",
    "        - `Commision (in value)`\n",
    "        - `Age`\n"
   ]
  },
  {
   "cell_type": "code",
   "execution_count": 46,
   "metadata": {},
   "outputs": [
    {
     "name": "stdout",
     "output_type": "stream",
     "text": [
      "Travel Cruise Protect Family\n"
     ]
    }
   ],
   "source": [
    "# Product Name yang tidak ada pada data train_set namun ada pada data test_set\n",
    "for product_name in X_test['Product Name'].unique():\n",
    "    if product_name not in X_train['Product Name'].unique():\n",
    "        print(product_name)\n",
    "\n",
    "# Untuk mengatasi bias ini maka dalam transform encoding diberikan parameter `handle_unknown`. Hasil target dari test ini akan dianggap 0"
   ]
  },
  {
   "cell_type": "code",
   "execution_count": 47,
   "metadata": {},
   "outputs": [
    {
     "data": {
      "text/plain": [
       "Index(['Agency', 'Agency Type', 'Distribution Channel', 'Product Name',\n",
       "       'Duration', 'Destination', 'Continent', 'Net Sales',\n",
       "       'Commision (in value)', 'Age', 'Claim'],\n",
       "      dtype='object')"
      ]
     },
     "execution_count": 47,
     "metadata": {},
     "output_type": "execute_result"
    }
   ],
   "source": [
    "df.columns"
   ]
  },
  {
   "cell_type": "code",
   "execution_count": 234,
   "metadata": {},
   "outputs": [],
   "source": [
    "# Transformer\n",
    "transformer_no_poly = ColumnTransformer([\n",
    "    ('scaling', RobustScaler(), ['Age', 'Duration', 'Net Sales', 'Commision (in value)']),\n",
    "    ('onehot', OneHotEncoder(drop='first', sparse=False, handle_unknown='ignore'), ['Agency', 'Agency Type', 'Distribution Channel', 'Product Name', 'Destination', 'Continent'])\n",
    "],  remainder='passthrough')"
   ]
  },
  {
   "cell_type": "code",
   "execution_count": 266,
   "metadata": {},
   "outputs": [],
   "source": [
    "# Pipeline\n",
    "pipe_poly = Pipeline([\n",
    "    ('scaling', RobustScaler() ),\n",
    "    ('poly', PolynomialFeatures(degree=2))\n",
    "])\n",
    "\n",
    "# Transformer\n",
    "transformer_poly = ColumnTransformer([\n",
    "    ('pipe_poly', pipe_poly, ['Age','Duration', 'Net Sales', 'Commision (in value)']),\n",
    "    ('onehot', OneHotEncoder(drop='first', sparse=False, handle_unknown='ignore'), ['Agency', 'Agency Type', 'Distribution Channel', 'Product Name', 'Destination', 'Continent'])\n",
    "],  remainder='passthrough')"
   ]
  },
  {
   "cell_type": "code",
   "execution_count": 267,
   "metadata": {},
   "outputs": [
    {
     "data": {
      "text/html": [
       "<div>\n",
       "<style scoped>\n",
       "    .dataframe tbody tr th:only-of-type {\n",
       "        vertical-align: middle;\n",
       "    }\n",
       "\n",
       "    .dataframe tbody tr th {\n",
       "        vertical-align: top;\n",
       "    }\n",
       "\n",
       "    .dataframe thead th {\n",
       "        text-align: right;\n",
       "    }\n",
       "</style>\n",
       "<table border=\"1\" class=\"dataframe\">\n",
       "  <thead>\n",
       "    <tr style=\"text-align: right;\">\n",
       "      <th></th>\n",
       "      <th>pipe_poly__1</th>\n",
       "      <th>pipe_poly__Age</th>\n",
       "      <th>pipe_poly__Duration</th>\n",
       "      <th>pipe_poly__Net Sales</th>\n",
       "      <th>pipe_poly__Commision (in value)</th>\n",
       "      <th>pipe_poly__Age^2</th>\n",
       "      <th>pipe_poly__Age Duration</th>\n",
       "      <th>pipe_poly__Age Net Sales</th>\n",
       "      <th>pipe_poly__Age Commision (in value)</th>\n",
       "      <th>pipe_poly__Duration^2</th>\n",
       "      <th>...</th>\n",
       "      <th>onehot__Destination_SINGAPORE</th>\n",
       "      <th>onehot__Destination_TAIWAN, PROVINCE OF CHINA</th>\n",
       "      <th>onehot__Destination_THAILAND</th>\n",
       "      <th>onehot__Destination_UNITED KINGDOM</th>\n",
       "      <th>onehot__Destination_UNITED STATES</th>\n",
       "      <th>onehot__Destination_VIET NAM</th>\n",
       "      <th>onehot__Continent_America</th>\n",
       "      <th>onehot__Continent_Asia</th>\n",
       "      <th>onehot__Continent_Europe</th>\n",
       "      <th>onehot__Continent_Oceania</th>\n",
       "    </tr>\n",
       "  </thead>\n",
       "  <tbody>\n",
       "    <tr>\n",
       "      <th>0</th>\n",
       "      <td>1.0</td>\n",
       "      <td>1.714286</td>\n",
       "      <td>0.860465</td>\n",
       "      <td>-0.562333</td>\n",
       "      <td>0.243810</td>\n",
       "      <td>2.938776</td>\n",
       "      <td>1.475083</td>\n",
       "      <td>-0.96400</td>\n",
       "      <td>0.417959</td>\n",
       "      <td>0.740400</td>\n",
       "      <td>...</td>\n",
       "      <td>1.0</td>\n",
       "      <td>0.0</td>\n",
       "      <td>0.0</td>\n",
       "      <td>0.0</td>\n",
       "      <td>0.0</td>\n",
       "      <td>0.0</td>\n",
       "      <td>0.0</td>\n",
       "      <td>1.0</td>\n",
       "      <td>0.0</td>\n",
       "      <td>0.0</td>\n",
       "    </tr>\n",
       "    <tr>\n",
       "      <th>1</th>\n",
       "      <td>1.0</td>\n",
       "      <td>0.000000</td>\n",
       "      <td>0.279070</td>\n",
       "      <td>1.300000</td>\n",
       "      <td>0.000000</td>\n",
       "      <td>0.000000</td>\n",
       "      <td>0.000000</td>\n",
       "      <td>0.00000</td>\n",
       "      <td>0.000000</td>\n",
       "      <td>0.077880</td>\n",
       "      <td>...</td>\n",
       "      <td>0.0</td>\n",
       "      <td>0.0</td>\n",
       "      <td>0.0</td>\n",
       "      <td>0.0</td>\n",
       "      <td>0.0</td>\n",
       "      <td>0.0</td>\n",
       "      <td>0.0</td>\n",
       "      <td>0.0</td>\n",
       "      <td>1.0</td>\n",
       "      <td>0.0</td>\n",
       "    </tr>\n",
       "    <tr>\n",
       "      <th>2</th>\n",
       "      <td>1.0</td>\n",
       "      <td>0.000000</td>\n",
       "      <td>-0.325581</td>\n",
       "      <td>-0.366667</td>\n",
       "      <td>0.000000</td>\n",
       "      <td>0.000000</td>\n",
       "      <td>-0.000000</td>\n",
       "      <td>-0.00000</td>\n",
       "      <td>0.000000</td>\n",
       "      <td>0.106003</td>\n",
       "      <td>...</td>\n",
       "      <td>0.0</td>\n",
       "      <td>0.0</td>\n",
       "      <td>0.0</td>\n",
       "      <td>0.0</td>\n",
       "      <td>0.0</td>\n",
       "      <td>1.0</td>\n",
       "      <td>0.0</td>\n",
       "      <td>1.0</td>\n",
       "      <td>0.0</td>\n",
       "      <td>0.0</td>\n",
       "    </tr>\n",
       "    <tr>\n",
       "      <th>3</th>\n",
       "      <td>1.0</td>\n",
       "      <td>-0.142857</td>\n",
       "      <td>0.232558</td>\n",
       "      <td>-0.866667</td>\n",
       "      <td>4.525714</td>\n",
       "      <td>0.020408</td>\n",
       "      <td>-0.033223</td>\n",
       "      <td>0.12381</td>\n",
       "      <td>-0.646531</td>\n",
       "      <td>0.054083</td>\n",
       "      <td>...</td>\n",
       "      <td>0.0</td>\n",
       "      <td>0.0</td>\n",
       "      <td>0.0</td>\n",
       "      <td>0.0</td>\n",
       "      <td>0.0</td>\n",
       "      <td>0.0</td>\n",
       "      <td>0.0</td>\n",
       "      <td>0.0</td>\n",
       "      <td>1.0</td>\n",
       "      <td>0.0</td>\n",
       "    </tr>\n",
       "    <tr>\n",
       "      <th>4</th>\n",
       "      <td>1.0</td>\n",
       "      <td>0.000000</td>\n",
       "      <td>-0.209302</td>\n",
       "      <td>0.066667</td>\n",
       "      <td>0.000000</td>\n",
       "      <td>0.000000</td>\n",
       "      <td>-0.000000</td>\n",
       "      <td>0.00000</td>\n",
       "      <td>0.000000</td>\n",
       "      <td>0.043807</td>\n",
       "      <td>...</td>\n",
       "      <td>0.0</td>\n",
       "      <td>0.0</td>\n",
       "      <td>0.0</td>\n",
       "      <td>0.0</td>\n",
       "      <td>0.0</td>\n",
       "      <td>0.0</td>\n",
       "      <td>0.0</td>\n",
       "      <td>1.0</td>\n",
       "      <td>0.0</td>\n",
       "      <td>0.0</td>\n",
       "    </tr>\n",
       "  </tbody>\n",
       "</table>\n",
       "<p>5 rows × 74 columns</p>\n",
       "</div>"
      ],
      "text/plain": [
       "   pipe_poly__1  pipe_poly__Age  pipe_poly__Duration  pipe_poly__Net Sales  \\\n",
       "0           1.0        1.714286             0.860465             -0.562333   \n",
       "1           1.0        0.000000             0.279070              1.300000   \n",
       "2           1.0        0.000000            -0.325581             -0.366667   \n",
       "3           1.0       -0.142857             0.232558             -0.866667   \n",
       "4           1.0        0.000000            -0.209302              0.066667   \n",
       "\n",
       "   pipe_poly__Commision (in value)  pipe_poly__Age^2  pipe_poly__Age Duration  \\\n",
       "0                         0.243810          2.938776                 1.475083   \n",
       "1                         0.000000          0.000000                 0.000000   \n",
       "2                         0.000000          0.000000                -0.000000   \n",
       "3                         4.525714          0.020408                -0.033223   \n",
       "4                         0.000000          0.000000                -0.000000   \n",
       "\n",
       "   pipe_poly__Age Net Sales  pipe_poly__Age Commision (in value)  \\\n",
       "0                  -0.96400                             0.417959   \n",
       "1                   0.00000                             0.000000   \n",
       "2                  -0.00000                             0.000000   \n",
       "3                   0.12381                            -0.646531   \n",
       "4                   0.00000                             0.000000   \n",
       "\n",
       "   pipe_poly__Duration^2  ...  onehot__Destination_SINGAPORE  \\\n",
       "0               0.740400  ...                            1.0   \n",
       "1               0.077880  ...                            0.0   \n",
       "2               0.106003  ...                            0.0   \n",
       "3               0.054083  ...                            0.0   \n",
       "4               0.043807  ...                            0.0   \n",
       "\n",
       "   onehot__Destination_TAIWAN, PROVINCE OF CHINA  \\\n",
       "0                                            0.0   \n",
       "1                                            0.0   \n",
       "2                                            0.0   \n",
       "3                                            0.0   \n",
       "4                                            0.0   \n",
       "\n",
       "   onehot__Destination_THAILAND  onehot__Destination_UNITED KINGDOM  \\\n",
       "0                           0.0                                 0.0   \n",
       "1                           0.0                                 0.0   \n",
       "2                           0.0                                 0.0   \n",
       "3                           0.0                                 0.0   \n",
       "4                           0.0                                 0.0   \n",
       "\n",
       "   onehot__Destination_UNITED STATES  onehot__Destination_VIET NAM  \\\n",
       "0                                0.0                           0.0   \n",
       "1                                0.0                           0.0   \n",
       "2                                0.0                           1.0   \n",
       "3                                0.0                           0.0   \n",
       "4                                0.0                           0.0   \n",
       "\n",
       "   onehot__Continent_America  onehot__Continent_Asia  \\\n",
       "0                        0.0                     1.0   \n",
       "1                        0.0                     0.0   \n",
       "2                        0.0                     1.0   \n",
       "3                        0.0                     0.0   \n",
       "4                        0.0                     1.0   \n",
       "\n",
       "   onehot__Continent_Europe  onehot__Continent_Oceania  \n",
       "0                       0.0                        0.0  \n",
       "1                       1.0                        0.0  \n",
       "2                       0.0                        0.0  \n",
       "3                       1.0                        0.0  \n",
       "4                       0.0                        0.0  \n",
       "\n",
       "[5 rows x 74 columns]"
      ]
     },
     "execution_count": 267,
     "metadata": {},
     "output_type": "execute_result"
    }
   ],
   "source": [
    "# Hasil transformer dalam bentuk DataFrame\n",
    "hasil_transformer = pd.DataFrame(transformer_poly.fit_transform(X_train),columns=transformer_poly.get_feature_names_out())\n",
    "hasil_transformer.head()"
   ]
  },
  {
   "cell_type": "markdown",
   "metadata": {},
   "source": [
    "# **`MODELING & EVALUATION`**"
   ]
  },
  {
   "cell_type": "code",
   "execution_count": 51,
   "metadata": {},
   "outputs": [],
   "source": [
    "f2_score = make_scorer(fbeta_score, beta=2)"
   ]
  },
  {
   "cell_type": "code",
   "execution_count": 52,
   "metadata": {},
   "outputs": [],
   "source": [
    "# 3 base model (Basic ML algorithm)\n",
    "logreg = LogisticRegression(random_state=0)\n",
    "knn = KNeighborsClassifier()\n",
    "tree = DecisionTreeClassifier(random_state=0, max_depth=5)\n",
    "\n",
    "# Ensemble Similar Type\n",
    "rf = RandomForestClassifier(random_state=0)\n",
    "adaboost = AdaBoostClassifier(random_state=0)\n",
    "gboost = GradientBoostingClassifier(random_state=0)\n",
    "\n",
    "# Ensemble Various Type\n",
    "voting_clf = VotingClassifier([\n",
    "    ('clf1', logreg),\n",
    "    ('clf2', knn),\n",
    "    ('clf3', tree)\n",
    "])\n",
    "\n",
    "# Ensemble \n",
    "stacking_clf = StackingClassifier([\n",
    "    ('clf1', logreg),\n",
    "    ('clf2', knn),\n",
    "    ('clf3', tree)\n",
    "])"
   ]
  },
  {
   "cell_type": "markdown",
   "metadata": {},
   "source": [
    "## `Model Benchmark (Without Balancing)`"
   ]
  },
  {
   "cell_type": "code",
   "execution_count": 541,
   "metadata": {},
   "outputs": [],
   "source": [
    "# cross validation\n",
    "\n",
    "list_model = [logreg, knn, tree, rf, adaboost, gboost, voting_clf, stacking_clf]\n",
    "list_all = []\n",
    "list_mean = []\n",
    "list_std = []\n",
    "\n",
    "for model in list_model:\n",
    "\n",
    "    pipe_model = Pipeline([\n",
    "        ('prep', transformer_no_poly),\n",
    "        ('model', model)\n",
    "    ])\n",
    "    skfold = StratifiedKFold(n_splits=5)\n",
    "\n",
    "\n",
    "    model_cv = cross_val_score(\n",
    "        estimator= pipe_model,\n",
    "        X= X_train,\n",
    "        y= y_train,\n",
    "        scoring=f2_score,\n",
    "        cv= skfold,\n",
    "        n_jobs=-1\n",
    "    )\n",
    "\n",
    "    list_all.append(model_cv.round(4))\n",
    "    list_mean.append(model_cv.mean())\n",
    "    list_std.append(model_cv.std())\n",
    "\n",
    "\n",
    "\n",
    "# Running time : 4 minutes"
   ]
  },
  {
   "cell_type": "code",
   "execution_count": 542,
   "metadata": {},
   "outputs": [
    {
     "data": {
      "text/html": [
       "<div>\n",
       "<style scoped>\n",
       "    .dataframe tbody tr th:only-of-type {\n",
       "        vertical-align: middle;\n",
       "    }\n",
       "\n",
       "    .dataframe tbody tr th {\n",
       "        vertical-align: top;\n",
       "    }\n",
       "\n",
       "    .dataframe thead th {\n",
       "        text-align: right;\n",
       "    }\n",
       "</style>\n",
       "<table border=\"1\" class=\"dataframe\">\n",
       "  <thead>\n",
       "    <tr style=\"text-align: right;\">\n",
       "      <th></th>\n",
       "      <th>algo</th>\n",
       "      <th>mean</th>\n",
       "      <th>std</th>\n",
       "      <th>all_score</th>\n",
       "    </tr>\n",
       "  </thead>\n",
       "  <tbody>\n",
       "    <tr>\n",
       "      <th>0</th>\n",
       "      <td>LogisticRegression(random_state=0)</td>\n",
       "      <td>0.000000</td>\n",
       "      <td>0.000000</td>\n",
       "      <td>[0.0, 0.0, 0.0, 0.0, 0.0]</td>\n",
       "    </tr>\n",
       "    <tr>\n",
       "      <th>1</th>\n",
       "      <td>KNeighborsClassifier()</td>\n",
       "      <td>0.000000</td>\n",
       "      <td>0.000000</td>\n",
       "      <td>[0.0, 0.0, 0.0, 0.0, 0.0]</td>\n",
       "    </tr>\n",
       "    <tr>\n",
       "      <th>2</th>\n",
       "      <td>DecisionTreeClassifier(max_depth=5, random_sta...</td>\n",
       "      <td>0.002299</td>\n",
       "      <td>0.004598</td>\n",
       "      <td>[0.0, 0.0115, 0.0, 0.0, 0.0]</td>\n",
       "    </tr>\n",
       "    <tr>\n",
       "      <th>3</th>\n",
       "      <td>RandomForestClassifier(random_state=0)</td>\n",
       "      <td>0.031032</td>\n",
       "      <td>0.025457</td>\n",
       "      <td>[0.0, 0.011, 0.0556, 0.0228, 0.0658]</td>\n",
       "    </tr>\n",
       "    <tr>\n",
       "      <th>4</th>\n",
       "      <td>AdaBoostClassifier(random_state=0)</td>\n",
       "      <td>0.000000</td>\n",
       "      <td>0.000000</td>\n",
       "      <td>[0.0, 0.0, 0.0, 0.0, 0.0]</td>\n",
       "    </tr>\n",
       "    <tr>\n",
       "      <th>5</th>\n",
       "      <td>GradientBoostingClassifier(random_state=0)</td>\n",
       "      <td>0.000000</td>\n",
       "      <td>0.000000</td>\n",
       "      <td>[0.0, 0.0, 0.0, 0.0, 0.0]</td>\n",
       "    </tr>\n",
       "    <tr>\n",
       "      <th>6</th>\n",
       "      <td>VotingClassifier(estimators=[('clf1', Logistic...</td>\n",
       "      <td>0.000000</td>\n",
       "      <td>0.000000</td>\n",
       "      <td>[0.0, 0.0, 0.0, 0.0, 0.0]</td>\n",
       "    </tr>\n",
       "    <tr>\n",
       "      <th>7</th>\n",
       "      <td>StackingClassifier(estimators=[('clf1', Logist...</td>\n",
       "      <td>0.004619</td>\n",
       "      <td>0.005657</td>\n",
       "      <td>[0.0, 0.0115, 0.0116, 0.0, 0.0]</td>\n",
       "    </tr>\n",
       "  </tbody>\n",
       "</table>\n",
       "</div>"
      ],
      "text/plain": [
       "                                                algo      mean       std  \\\n",
       "0                 LogisticRegression(random_state=0)  0.000000  0.000000   \n",
       "1                             KNeighborsClassifier()  0.000000  0.000000   \n",
       "2  DecisionTreeClassifier(max_depth=5, random_sta...  0.002299  0.004598   \n",
       "3             RandomForestClassifier(random_state=0)  0.031032  0.025457   \n",
       "4                 AdaBoostClassifier(random_state=0)  0.000000  0.000000   \n",
       "5         GradientBoostingClassifier(random_state=0)  0.000000  0.000000   \n",
       "6  VotingClassifier(estimators=[('clf1', Logistic...  0.000000  0.000000   \n",
       "7  StackingClassifier(estimators=[('clf1', Logist...  0.004619  0.005657   \n",
       "\n",
       "                              all_score  \n",
       "0             [0.0, 0.0, 0.0, 0.0, 0.0]  \n",
       "1             [0.0, 0.0, 0.0, 0.0, 0.0]  \n",
       "2          [0.0, 0.0115, 0.0, 0.0, 0.0]  \n",
       "3  [0.0, 0.011, 0.0556, 0.0228, 0.0658]  \n",
       "4             [0.0, 0.0, 0.0, 0.0, 0.0]  \n",
       "5             [0.0, 0.0, 0.0, 0.0, 0.0]  \n",
       "6             [0.0, 0.0, 0.0, 0.0, 0.0]  \n",
       "7       [0.0, 0.0115, 0.0116, 0.0, 0.0]  "
      ]
     },
     "execution_count": 542,
     "metadata": {},
     "output_type": "execute_result"
    }
   ],
   "source": [
    "df_score = pd.DataFrame({\n",
    "    'algo': list_model,\n",
    "    'mean': list_mean,\n",
    "    'std': list_std,\n",
    "    'all_score': list_all\n",
    "})\n",
    "\n",
    "df_score"
   ]
  },
  {
   "cell_type": "markdown",
   "metadata": {},
   "source": [
    "Hasil dari cross_validation masih sangat rendah prediksinya, ini disebabkan oleh imbalance dataset yang ada. Oleh karena itu diperlukan imbalance treatment untuk mengatasi kasus ini."
   ]
  },
  {
   "cell_type": "markdown",
   "metadata": {},
   "source": [
    "## `Model Benchmark (With Balancing Treatment)`"
   ]
  },
  {
   "cell_type": "code",
   "execution_count": 55,
   "metadata": {},
   "outputs": [],
   "source": [
    "# Balancing Treatment\n",
    "smote = SMOTE(random_state=0)\n",
    "nearmiss = NearMiss()\n",
    "ros = RandomOverSampler(random_state=0)\n",
    "rus = RandomUnderSampler(random_state=0)"
   ]
  },
  {
   "cell_type": "markdown",
   "metadata": {},
   "source": [
    "### `Without Polynomial Features`"
   ]
  },
  {
   "cell_type": "code",
   "execution_count": 235,
   "metadata": {},
   "outputs": [],
   "source": [
    "# cross validation\n",
    "\n",
    "list_model = [logreg, knn, tree, rf, adaboost, gboost, voting_clf, stacking_clf]\n",
    "list_balancing = [smote, nearmiss, ros, rus]\n",
    "list_all = []\n",
    "list_mean = []\n",
    "list_std = []\n",
    "\n",
    "for model in list_model:\n",
    "\n",
    "    skfold = StratifiedKFold(n_splits=5)\n",
    "    \n",
    "    for balancing in list_balancing:\n",
    "        pipe_model = Pipeline([\n",
    "            ('prep', transformer_no_poly),\n",
    "            ('balancing', balancing),\n",
    "            ('model', model)\n",
    "        ])\n",
    "\n",
    "        model_cv = cross_val_score(\n",
    "            estimator= pipe_model,\n",
    "            X= X_train,\n",
    "            y= y_train,\n",
    "            scoring=f2_score,\n",
    "            cv= skfold,\n",
    "            n_jobs=-1\n",
    "        )\n",
    "\n",
    "        list_all.append(model_cv.round(4))\n",
    "        list_mean.append(model_cv.mean())\n",
    "        list_std.append(model_cv.std())\n",
    "\n",
    "\n",
    "\n",
    "# Running time : 15 minutes"
   ]
  },
  {
   "cell_type": "code",
   "execution_count": 236,
   "metadata": {},
   "outputs": [
    {
     "data": {
      "text/html": [
       "<div>\n",
       "<style scoped>\n",
       "    .dataframe tbody tr th:only-of-type {\n",
       "        vertical-align: middle;\n",
       "    }\n",
       "\n",
       "    .dataframe tbody tr th {\n",
       "        vertical-align: top;\n",
       "    }\n",
       "\n",
       "    .dataframe thead th {\n",
       "        text-align: right;\n",
       "    }\n",
       "</style>\n",
       "<table border=\"1\" class=\"dataframe\">\n",
       "  <thead>\n",
       "    <tr style=\"text-align: right;\">\n",
       "      <th></th>\n",
       "      <th>algo</th>\n",
       "      <th>balancing</th>\n",
       "      <th>mean</th>\n",
       "      <th>std</th>\n",
       "      <th>all_score</th>\n",
       "    </tr>\n",
       "  </thead>\n",
       "  <tbody>\n",
       "    <tr>\n",
       "      <th>26</th>\n",
       "      <td>VotingClassifier(estimators=[('clf1', Logistic...</td>\n",
       "      <td>RandomOverSampler(random_state=0)</td>\n",
       "      <td>0.246803</td>\n",
       "      <td>0.010931</td>\n",
       "      <td>[0.2608, 0.2431, 0.2513, 0.2507, 0.228]</td>\n",
       "    </tr>\n",
       "    <tr>\n",
       "      <th>20</th>\n",
       "      <td>GradientBoostingClassifier(random_state=0)</td>\n",
       "      <td>SMOTE(random_state=0)</td>\n",
       "      <td>0.243106</td>\n",
       "      <td>0.016208</td>\n",
       "      <td>[0.2637, 0.2313, 0.2594, 0.2397, 0.2214]</td>\n",
       "    </tr>\n",
       "    <tr>\n",
       "      <th>10</th>\n",
       "      <td>DecisionTreeClassifier(max_depth=5, random_sta...</td>\n",
       "      <td>RandomOverSampler(random_state=0)</td>\n",
       "      <td>0.235871</td>\n",
       "      <td>0.010500</td>\n",
       "      <td>[0.2397, 0.2353, 0.2361, 0.2504, 0.2178]</td>\n",
       "    </tr>\n",
       "    <tr>\n",
       "      <th>24</th>\n",
       "      <td>VotingClassifier(estimators=[('clf1', Logistic...</td>\n",
       "      <td>SMOTE(random_state=0)</td>\n",
       "      <td>0.227340</td>\n",
       "      <td>0.024845</td>\n",
       "      <td>[0.2044, 0.2249, 0.27, 0.2359, 0.2016]</td>\n",
       "    </tr>\n",
       "    <tr>\n",
       "      <th>16</th>\n",
       "      <td>AdaBoostClassifier(random_state=0)</td>\n",
       "      <td>SMOTE(random_state=0)</td>\n",
       "      <td>0.224770</td>\n",
       "      <td>0.014143</td>\n",
       "      <td>[0.2366, 0.2273, 0.2185, 0.2405, 0.201]</td>\n",
       "    </tr>\n",
       "  </tbody>\n",
       "</table>\n",
       "</div>"
      ],
      "text/plain": [
       "                                                 algo  \\\n",
       "26  VotingClassifier(estimators=[('clf1', Logistic...   \n",
       "20         GradientBoostingClassifier(random_state=0)   \n",
       "10  DecisionTreeClassifier(max_depth=5, random_sta...   \n",
       "24  VotingClassifier(estimators=[('clf1', Logistic...   \n",
       "16                 AdaBoostClassifier(random_state=0)   \n",
       "\n",
       "                            balancing      mean       std  \\\n",
       "26  RandomOverSampler(random_state=0)  0.246803  0.010931   \n",
       "20              SMOTE(random_state=0)  0.243106  0.016208   \n",
       "10  RandomOverSampler(random_state=0)  0.235871  0.010500   \n",
       "24              SMOTE(random_state=0)  0.227340  0.024845   \n",
       "16              SMOTE(random_state=0)  0.224770  0.014143   \n",
       "\n",
       "                                   all_score  \n",
       "26   [0.2608, 0.2431, 0.2513, 0.2507, 0.228]  \n",
       "20  [0.2637, 0.2313, 0.2594, 0.2397, 0.2214]  \n",
       "10  [0.2397, 0.2353, 0.2361, 0.2504, 0.2178]  \n",
       "24    [0.2044, 0.2249, 0.27, 0.2359, 0.2016]  \n",
       "16   [0.2366, 0.2273, 0.2185, 0.2405, 0.201]  "
      ]
     },
     "execution_count": 236,
     "metadata": {},
     "output_type": "execute_result"
    }
   ],
   "source": [
    "list_model_name = []\n",
    "list_balancing_name = []\n",
    "for model in list_model:\n",
    "    for balancing in list_balancing:\n",
    "        \n",
    "        list_model_name.append(model)\n",
    "        list_balancing_name.append(balancing)\n",
    "\n",
    "        \n",
    "df_score_balancing_no_poly = pd.DataFrame({\n",
    "    'algo': list_model_name,\n",
    "    'balancing' : list_balancing_name,\n",
    "    'mean': list_mean,\n",
    "    'std': list_std,\n",
    "    'all_score': list_all\n",
    "})\n",
    "\n",
    "df_score_balancing_no_poly.sort_values('mean', ascending=False).head(5)"
   ]
  },
  {
   "cell_type": "markdown",
   "metadata": {},
   "source": [
    "### `With Polynomial Features`"
   ]
  },
  {
   "cell_type": "code",
   "execution_count": 56,
   "metadata": {},
   "outputs": [],
   "source": [
    "# cross validation\n",
    "\n",
    "list_model = [logreg, knn, tree, rf, adaboost, gboost, voting_clf, stacking_clf]\n",
    "list_balancing = [smote, nearmiss, ros, rus]\n",
    "list_all = []\n",
    "list_mean = []\n",
    "list_std = []\n",
    "\n",
    "for model in list_model:\n",
    "\n",
    "    skfold = StratifiedKFold(n_splits=5)\n",
    "    \n",
    "    for balancing in list_balancing:\n",
    "        pipe_model = Pipeline([\n",
    "            ('prep', transformer_poly),\n",
    "            ('balancing', balancing),\n",
    "            ('model', model)\n",
    "        ])\n",
    "\n",
    "        model_cv = cross_val_score(\n",
    "            estimator= pipe_model,\n",
    "            X= X_train,\n",
    "            y= y_train,\n",
    "            scoring=f2_score,\n",
    "            cv= skfold,\n",
    "            n_jobs=-1\n",
    "        )\n",
    "\n",
    "        list_all.append(model_cv.round(4))\n",
    "        list_mean.append(model_cv.mean())\n",
    "        list_std.append(model_cv.std())\n",
    "\n",
    "\n",
    "\n",
    "# Running time : 23 minutes"
   ]
  },
  {
   "cell_type": "code",
   "execution_count": 57,
   "metadata": {},
   "outputs": [
    {
     "data": {
      "text/html": [
       "<div>\n",
       "<style scoped>\n",
       "    .dataframe tbody tr th:only-of-type {\n",
       "        vertical-align: middle;\n",
       "    }\n",
       "\n",
       "    .dataframe tbody tr th {\n",
       "        vertical-align: top;\n",
       "    }\n",
       "\n",
       "    .dataframe thead th {\n",
       "        text-align: right;\n",
       "    }\n",
       "</style>\n",
       "<table border=\"1\" class=\"dataframe\">\n",
       "  <thead>\n",
       "    <tr style=\"text-align: right;\">\n",
       "      <th></th>\n",
       "      <th>algo</th>\n",
       "      <th>balancing</th>\n",
       "      <th>mean</th>\n",
       "      <th>std</th>\n",
       "      <th>all_score</th>\n",
       "    </tr>\n",
       "  </thead>\n",
       "  <tbody>\n",
       "    <tr>\n",
       "      <th>20</th>\n",
       "      <td>GradientBoostingClassifier(random_state=0)</td>\n",
       "      <td>SMOTE(random_state=0)</td>\n",
       "      <td>0.256669</td>\n",
       "      <td>0.017711</td>\n",
       "      <td>[0.2651, 0.2405, 0.269, 0.2775, 0.2312]</td>\n",
       "    </tr>\n",
       "    <tr>\n",
       "      <th>16</th>\n",
       "      <td>AdaBoostClassifier(random_state=0)</td>\n",
       "      <td>SMOTE(random_state=0)</td>\n",
       "      <td>0.246023</td>\n",
       "      <td>0.016163</td>\n",
       "      <td>[0.2568, 0.2209, 0.254, 0.2646, 0.2339]</td>\n",
       "    </tr>\n",
       "    <tr>\n",
       "      <th>26</th>\n",
       "      <td>VotingClassifier(estimators=[('clf1', Logistic...</td>\n",
       "      <td>RandomOverSampler(random_state=0)</td>\n",
       "      <td>0.238471</td>\n",
       "      <td>0.011727</td>\n",
       "      <td>[0.2557, 0.2437, 0.2335, 0.2393, 0.2201]</td>\n",
       "    </tr>\n",
       "    <tr>\n",
       "      <th>24</th>\n",
       "      <td>VotingClassifier(estimators=[('clf1', Logistic...</td>\n",
       "      <td>SMOTE(random_state=0)</td>\n",
       "      <td>0.229943</td>\n",
       "      <td>0.018052</td>\n",
       "      <td>[0.2248, 0.2309, 0.2475, 0.2478, 0.1987]</td>\n",
       "    </tr>\n",
       "    <tr>\n",
       "      <th>22</th>\n",
       "      <td>GradientBoostingClassifier(random_state=0)</td>\n",
       "      <td>RandomOverSampler(random_state=0)</td>\n",
       "      <td>0.229633</td>\n",
       "      <td>0.007182</td>\n",
       "      <td>[0.2269, 0.2347, 0.2332, 0.2365, 0.2168]</td>\n",
       "    </tr>\n",
       "  </tbody>\n",
       "</table>\n",
       "</div>"
      ],
      "text/plain": [
       "                                                 algo  \\\n",
       "20         GradientBoostingClassifier(random_state=0)   \n",
       "16                 AdaBoostClassifier(random_state=0)   \n",
       "26  VotingClassifier(estimators=[('clf1', Logistic...   \n",
       "24  VotingClassifier(estimators=[('clf1', Logistic...   \n",
       "22         GradientBoostingClassifier(random_state=0)   \n",
       "\n",
       "                            balancing      mean       std  \\\n",
       "20              SMOTE(random_state=0)  0.256669  0.017711   \n",
       "16              SMOTE(random_state=0)  0.246023  0.016163   \n",
       "26  RandomOverSampler(random_state=0)  0.238471  0.011727   \n",
       "24              SMOTE(random_state=0)  0.229943  0.018052   \n",
       "22  RandomOverSampler(random_state=0)  0.229633  0.007182   \n",
       "\n",
       "                                   all_score  \n",
       "20   [0.2651, 0.2405, 0.269, 0.2775, 0.2312]  \n",
       "16   [0.2568, 0.2209, 0.254, 0.2646, 0.2339]  \n",
       "26  [0.2557, 0.2437, 0.2335, 0.2393, 0.2201]  \n",
       "24  [0.2248, 0.2309, 0.2475, 0.2478, 0.1987]  \n",
       "22  [0.2269, 0.2347, 0.2332, 0.2365, 0.2168]  "
      ]
     },
     "execution_count": 57,
     "metadata": {},
     "output_type": "execute_result"
    }
   ],
   "source": [
    "list_model_name = []\n",
    "list_balancing_name = []\n",
    "for model in list_model:\n",
    "    for balancing in list_balancing:\n",
    "        \n",
    "        list_model_name.append(model)\n",
    "        list_balancing_name.append(balancing)\n",
    "\n",
    "        \n",
    "df_score_balancing = pd.DataFrame({\n",
    "    'algo': list_model_name,\n",
    "    'balancing' : list_balancing_name,\n",
    "    'mean': list_mean,\n",
    "    'std': list_std,\n",
    "    'all_score': list_all\n",
    "})\n",
    "\n",
    "df_score_balancing.sort_values('mean', ascending=False).head(5)"
   ]
  },
  {
   "cell_type": "markdown",
   "metadata": {},
   "source": [
    "### Summary Benchmark\n",
    "\n",
    "Dari 2 hasil cross validation di atas (menggunakan dan tidak menggunakan Polynomial Features) tidak berbeda signifikan yaitu hanya sekitar 1%. Dengan mempertimbangkan kemungkinan terjadinya Overfitting (resiko yang diberikan tidak sebanding dengan peningkatan performa), maka pada kasus ini asumsi yang akan dipilih tidak menggunakan Polynomial Features. Namun pada Hyperparameter Tuning di bawah ini akan dilihat mana yang lebih baik.\n",
    "\n",
    "**Algoritma yang digunakan : Voting Classifier <br>\n",
    "Balancing yang digunakan : Random Over Sampler**"
   ]
  },
  {
   "cell_type": "markdown",
   "metadata": {},
   "source": [
    "## `Hyperparameter Tuning`"
   ]
  },
  {
   "cell_type": "code",
   "execution_count": 300,
   "metadata": {},
   "outputs": [],
   "source": [
    "# Create the algorithm chains\n",
    "\n",
    "def hyperparameter_tuning(transformer, metric, hyperparameters, searchCV, n_iter):\n",
    "# model\n",
    "    model = voting_clf\n",
    "    balancing = ros\n",
    "\n",
    "    pipe_model = Pipeline([\n",
    "    ('prep', transformer),\n",
    "    ('balancing', balancing),\n",
    "    ('model', model)\n",
    "    ])\n",
    "\n",
    "# Stratified cross validation\n",
    "    skf = StratifiedKFold(n_splits = 5)\n",
    "\n",
    "    if searchCV == 'random_search' :\n",
    "\n",
    "    # Hyperparameter tuning\n",
    "        random_search = RandomizedSearchCV(\n",
    "        estimator = pipe_model,\n",
    "        param_distributions= hyperparameters,\n",
    "        cv = skf, \n",
    "        scoring = metric, \n",
    "        n_jobs = -1,\n",
    "        random_state=0,\n",
    "        n_iter=n_iter\n",
    "        )\n",
    "\n",
    "        fit = random_search.fit(X_train, y_train)\n",
    "        best_score = random_search.best_score_\n",
    "        best_estimator = random_search.best_estimator_\n",
    "        best_params = random_search.best_params_\n",
    "\n",
    "        return fit, best_score, best_estimator, best_params\n",
    "         \n",
    "\n",
    "    elif searchCV == 'grid_search' :\n",
    "\n",
    "    # Hyperparameter tuning\n",
    "        grid_search = GridSearchCV(\n",
    "            estimator = pipe_model,\n",
    "            param_grid = hyperparameters, \n",
    "            cv = skf, \n",
    "            scoring = metric, \n",
    "            n_jobs = -1,\n",
    "        )\n",
    "        \n",
    "        fit = grid_search.fit(X_train, y_train)\n",
    "        best_score = grid_search.best_score_\n",
    "        best_estimator = grid_search.best_estimator_\n",
    "        best_params = grid_search.best_params_\n",
    "\n",
    "        return fit, best_score, best_estimator, best_params\n",
    "        \n"
   ]
  },
  {
   "cell_type": "markdown",
   "metadata": {},
   "source": [
    "### `Without Polynomial Features`"
   ]
  },
  {
   "cell_type": "code",
   "execution_count": 257,
   "metadata": {},
   "outputs": [],
   "source": [
    "# Hyperparameter space\n",
    "hyperparam_space_no_poly = {\n",
    "    'prep__scaling': [MinMaxScaler(), StandardScaler(), RobustScaler()],\n",
    "    'model__clf1__C': [100,10,1,0.01,0.001],       \n",
    "    'model__clf1__solver' : ['liblinear', 'sag'], \n",
    "    'model__clf2__n_neighbors': range(2,30,2),\n",
    "    'model__clf2__metric' : ['manhattan', 'minkowski'],      \n",
    "    'model__clf3__max_depth': range(2,30,2),        \n",
    "    'model__clf3__min_samples_leaf': range(2,30,2)\n",
    "}"
   ]
  },
  {
   "cell_type": "markdown",
   "metadata": {},
   "source": [
    "#### `Randomized Search`"
   ]
  },
  {
   "cell_type": "code",
   "execution_count": 258,
   "metadata": {},
   "outputs": [],
   "source": [
    "# def hyperparameter_tuning(transformer, metric, hyperparameters, searchCV, n_iter)\n",
    "# return fit, best_score, best_estimator, best_params\n",
    "\n",
    "random_search_f2_no_poly = hyperparameter_tuning(transformer_no_poly, f2_score, hyperparam_space_no_poly, 'random_search', 100)\n",
    "\n",
    "# Running time : 85 minutes"
   ]
  },
  {
   "cell_type": "markdown",
   "metadata": {},
   "source": [
    "#### `Grid Search`"
   ]
  },
  {
   "cell_type": "code",
   "execution_count": 261,
   "metadata": {},
   "outputs": [
    {
     "data": {
      "text/plain": [
       "{'prep__scaling': MinMaxScaler(),\n",
       " 'model__clf3__min_samples_leaf': 28,\n",
       " 'model__clf3__max_depth': 4,\n",
       " 'model__clf2__n_neighbors': 2,\n",
       " 'model__clf2__metric': 'minkowski',\n",
       " 'model__clf1__solver': 'sag',\n",
       " 'model__clf1__C': 100}"
      ]
     },
     "execution_count": 261,
     "metadata": {},
     "output_type": "execute_result"
    }
   ],
   "source": [
    "random_search_f2_no_poly[-1]"
   ]
  },
  {
   "cell_type": "code",
   "execution_count": 262,
   "metadata": {},
   "outputs": [],
   "source": [
    "# Hyperparameter space\n",
    "hyperparam_space_no_poly = {\n",
    "    'prep__scaling': [MinMaxScaler()],\n",
    "    'model__clf1__C': [100,10],       \n",
    "    'model__clf1__solver' : ['sag'], \n",
    "    'model__clf2__n_neighbors': range(2,7,2),\n",
    "    'model__clf2__metric' : ['minkowski'],      \n",
    "    'model__clf3__max_depth': range(2,7,2),        \n",
    "    'model__clf3__min_samples_leaf': range(24,30,2)\n",
    "}\n",
    "\n",
    "# def hyperparameter_tuning(transformer, metric, hyperparameters, searchCV, n_iter)\n",
    "# return fit, best_score, best_estimator, best_params\n",
    "\n",
    "grid_search_f2_no_poly = hyperparameter_tuning(transformer_no_poly, f2_score, hyperparam_space_no_poly, 'grid_search', 0)\n",
    "\n",
    "# Running time : 32 minutes"
   ]
  },
  {
   "cell_type": "markdown",
   "metadata": {},
   "source": [
    "### `With Polynomial Features`"
   ]
  },
  {
   "cell_type": "markdown",
   "metadata": {},
   "source": [
    "#### `Randomized Search`"
   ]
  },
  {
   "cell_type": "code",
   "execution_count": 301,
   "metadata": {},
   "outputs": [],
   "source": [
    "# Hyperparameter space\n",
    "hyperparam_space_poly = {\n",
    "    'prep__scaling': [MinMaxScaler(), StandardScaler(), RobustScaler()],\n",
    "    'model__clf1__C': [100,10,1,0.01,0.001],       \n",
    "    'model__clf1__solver' : ['liblinear', 'sag'], \n",
    "    'model__clf2__n_neighbors': range(2,30,2),\n",
    "    'model__clf2__metric' : ['manhattan', 'minkowski'],      \n",
    "    'model__clf3__max_depth': range(2,30,2),        \n",
    "    'model__clf3__min_samples_leaf': range(2,30,2)\n",
    "}"
   ]
  },
  {
   "cell_type": "code",
   "execution_count": 269,
   "metadata": {},
   "outputs": [],
   "source": [
    "# def hyperparameter_tuning(transformer, metric, hyperparameters, searchCV, n_iter)\n",
    "# return fit, best_score, best_estimator, best_params\n",
    "\n",
    "random_search_f2_poly = hyperparameter_tuning(transformer_poly, f2_score, hyperparam_space_poly, 'random_search', 100)\n",
    "\n",
    "# Running time : 102 minutes"
   ]
  },
  {
   "cell_type": "markdown",
   "metadata": {},
   "source": [
    "#### `Grid Search`"
   ]
  },
  {
   "cell_type": "code",
   "execution_count": 273,
   "metadata": {},
   "outputs": [
    {
     "data": {
      "text/plain": [
       "{'prep__pipe_poly__scaling': StandardScaler(),\n",
       " 'model__clf3__min_samples_leaf': 26,\n",
       " 'model__clf3__max_depth': 2,\n",
       " 'model__clf2__n_neighbors': 4,\n",
       " 'model__clf2__metric': 'manhattan',\n",
       " 'model__clf1__solver': 'sag',\n",
       " 'model__clf1__C': 100}"
      ]
     },
     "execution_count": 273,
     "metadata": {},
     "output_type": "execute_result"
    }
   ],
   "source": [
    "random_search_f2_poly[3]"
   ]
  },
  {
   "cell_type": "code",
   "execution_count": 275,
   "metadata": {},
   "outputs": [],
   "source": [
    "# Hyperparameter space\n",
    "hyperparam_space_poly = {\n",
    "    'prep__pipe_poly__scaling': [StandardScaler()],\n",
    "    'model__clf1__C': [100,10],       \n",
    "    'model__clf1__solver' : ['sag'], \n",
    "    'model__clf2__n_neighbors': range(2,7,2),\n",
    "    'model__clf2__metric' : ['manhattan'],      \n",
    "    'model__clf3__max_depth': range(2,7,2),        \n",
    "    'model__clf3__min_samples_leaf': range(24,30,2)\n",
    "}\n",
    "\n",
    "# def hyperparameter_tuning(transformer, metric, hyperparameters, searchCV, n_iter)\n",
    "# return fit, best_score, best_estimator, best_params\n",
    "\n",
    "grid_search_f2_poly = hyperparameter_tuning(transformer_poly, f2_score, hyperparam_space_poly, 'grid_search', 0)\n",
    "\n",
    "# Running time : 87 minutes"
   ]
  },
  {
   "cell_type": "markdown",
   "metadata": {},
   "source": [
    "### `Summary Hyperparameter Tuning`"
   ]
  },
  {
   "cell_type": "code",
   "execution_count": 299,
   "metadata": {},
   "outputs": [
    {
     "data": {
      "text/html": [
       "<div>\n",
       "<style scoped>\n",
       "    .dataframe tbody tr th:only-of-type {\n",
       "        vertical-align: middle;\n",
       "    }\n",
       "\n",
       "    .dataframe tbody tr th {\n",
       "        vertical-align: top;\n",
       "    }\n",
       "\n",
       "    .dataframe thead th {\n",
       "        text-align: right;\n",
       "    }\n",
       "</style>\n",
       "<table border=\"1\" class=\"dataframe\">\n",
       "  <thead>\n",
       "    <tr style=\"text-align: right;\">\n",
       "      <th></th>\n",
       "      <th>Polynomial</th>\n",
       "      <th>f2_score</th>\n",
       "      <th>Scaling</th>\n",
       "      <th>LogReg_C</th>\n",
       "      <th>LogReg_solver</th>\n",
       "      <th>KNN_metric</th>\n",
       "      <th>KNN_n_neighbors</th>\n",
       "      <th>Tree_max_depth</th>\n",
       "      <th>Tree_min_samples_leaf</th>\n",
       "    </tr>\n",
       "  </thead>\n",
       "  <tbody>\n",
       "    <tr>\n",
       "      <th>0</th>\n",
       "      <td>No Polynomial</td>\n",
       "      <td>0.251917</td>\n",
       "      <td>MinMaxScaler()</td>\n",
       "      <td>10</td>\n",
       "      <td>sag</td>\n",
       "      <td>minkowski</td>\n",
       "      <td>2</td>\n",
       "      <td>4</td>\n",
       "      <td>24</td>\n",
       "    </tr>\n",
       "    <tr>\n",
       "      <th>1</th>\n",
       "      <td>With Polynomial</td>\n",
       "      <td>0.250411</td>\n",
       "      <td>StandardScaler()</td>\n",
       "      <td>100</td>\n",
       "      <td>sag</td>\n",
       "      <td>manhattan</td>\n",
       "      <td>2</td>\n",
       "      <td>2</td>\n",
       "      <td>24</td>\n",
       "    </tr>\n",
       "  </tbody>\n",
       "</table>\n",
       "</div>"
      ],
      "text/plain": [
       "        Polynomial  f2_score           Scaling  LogReg_C LogReg_solver  \\\n",
       "0    No Polynomial  0.251917    MinMaxScaler()        10           sag   \n",
       "1  With Polynomial  0.250411  StandardScaler()       100           sag   \n",
       "\n",
       "  KNN_metric  KNN_n_neighbors  Tree_max_depth  Tree_min_samples_leaf  \n",
       "0  minkowski                2               4                     24  \n",
       "1  manhattan                2               2                     24  "
      ]
     },
     "execution_count": 299,
     "metadata": {},
     "output_type": "execute_result"
    }
   ],
   "source": [
    "tuning_summary = pd.DataFrame({\n",
    "    'Polynomial' : ['No Polynomial', 'With Polynomial'],\n",
    "    'f2_score' : [grid_search_f2_no_poly[1], grid_search_f2_poly[1]],\n",
    "    'Scaling' : [grid_search_f2_no_poly[-1]['prep__scaling'] , grid_search_f2_poly[-1]['prep__pipe_poly__scaling']],\n",
    "    'LogReg_C' : [grid_search_f2_no_poly[-1]['model__clf1__C'] , grid_search_f2_poly[-1]['model__clf1__C']],\n",
    "    'LogReg_solver' : [grid_search_f2_no_poly[-1]['model__clf1__solver'] , grid_search_f2_poly[-1]['model__clf1__solver']],\n",
    "\n",
    "    'KNN_metric' : [grid_search_f2_no_poly[-1]['model__clf2__metric'] , grid_search_f2_poly[-1]['model__clf2__metric']],\n",
    "    'KNN_n_neighbors' : [grid_search_f2_no_poly[-1]['model__clf2__n_neighbors'] , grid_search_f2_poly[-1]['model__clf2__n_neighbors']],\n",
    "\n",
    "    'Tree_max_depth' : [grid_search_f2_no_poly[-1]['model__clf3__max_depth'] , grid_search_f2_poly[-1]['model__clf3__max_depth']],\n",
    "    'Tree_min_samples_leaf' : [grid_search_f2_no_poly[-1]['model__clf3__min_samples_leaf'] , grid_search_f2_poly[-1]['model__clf3__min_samples_leaf']]\n",
    "})\n",
    "tuning_summary"
   ]
  },
  {
   "cell_type": "markdown",
   "metadata": {},
   "source": [
    "## `Hyperparameter Tuning for Other Metrics`"
   ]
  },
  {
   "cell_type": "markdown",
   "metadata": {},
   "source": [
    "#### `f1_score`"
   ]
  },
  {
   "cell_type": "code",
   "execution_count": 312,
   "metadata": {},
   "outputs": [],
   "source": [
    "# Hyperparameter space for RandomizedSearch\n",
    "hyperparam_space_random = {\n",
    "    'prep__scaling': [MinMaxScaler(), StandardScaler(), RobustScaler()],\n",
    "    'model__clf1__C': [100,10,1,0.01,0.001],       \n",
    "    'model__clf1__solver' : ['liblinear', 'sag'], \n",
    "    'model__clf2__n_neighbors': range(2,30,2),\n",
    "    'model__clf2__metric' : ['manhattan', 'minkowski'],      \n",
    "    'model__clf3__max_depth': range(2,30,2),        \n",
    "    'model__clf3__min_samples_leaf': range(2,30,2)\n",
    "}"
   ]
  },
  {
   "cell_type": "code",
   "execution_count": 315,
   "metadata": {},
   "outputs": [],
   "source": [
    "# def hyperparameter_tuning(transformer, metric, hyperparameters, searchCV, n_iter)\n",
    "# return fit, best_score, best_estimator, best_params\n",
    "\n",
    "random_search_f1 = hyperparameter_tuning(transformer_no_poly, 'f1', hyperparam_space_random, 'random_search', 50)\n",
    "\n",
    "# Running time : 48 minutes"
   ]
  },
  {
   "cell_type": "code",
   "execution_count": 320,
   "metadata": {},
   "outputs": [
    {
     "data": {
      "text/plain": [
       "{'prep__scaling': StandardScaler(),\n",
       " 'model__clf3__min_samples_leaf': 10,\n",
       " 'model__clf3__max_depth': 4,\n",
       " 'model__clf2__n_neighbors': 6,\n",
       " 'model__clf2__metric': 'manhattan',\n",
       " 'model__clf1__solver': 'liblinear',\n",
       " 'model__clf1__C': 0.001}"
      ]
     },
     "execution_count": 320,
     "metadata": {},
     "output_type": "execute_result"
    }
   ],
   "source": [
    "random_search_f1[-1]"
   ]
  },
  {
   "cell_type": "code",
   "execution_count": 323,
   "metadata": {},
   "outputs": [],
   "source": [
    "# Hyperparameter space for GridSearch\n",
    "hyperparam_space_grid_f1 = {\n",
    "    'prep__scaling': [StandardScaler()],\n",
    "    'model__clf1__C': [0.01,0.001],       \n",
    "    'model__clf1__solver' : ['liblinear'], \n",
    "    'model__clf2__n_neighbors': range(4,9,2),\n",
    "    'model__clf2__metric' : ['manhattan'],      \n",
    "    'model__clf3__max_depth': range(2,7,2),        \n",
    "    'model__clf3__min_samples_leaf': range(8,13,2)\n",
    "}\n",
    "\n",
    "# def hyperparameter_tuning(transformer, metric, hyperparameters, searchCV, n_iter)\n",
    "# return fit, best_score, best_estimator, best_params\n",
    "\n",
    "grid_search_f1 = hyperparameter_tuning(transformer_no_poly, 'f1', hyperparam_space_grid_f1, 'grid_search', 0)\n",
    "\n",
    "# Running time : 70 minutes"
   ]
  },
  {
   "cell_type": "markdown",
   "metadata": {},
   "source": [
    "### `recall_score`"
   ]
  },
  {
   "cell_type": "code",
   "execution_count": 317,
   "metadata": {},
   "outputs": [],
   "source": [
    "# def hyperparameter_tuning(transformer, metric, hyperparameters, searchCV, n_iter)\n",
    "# return fit, best_score, best_estimator, best_params\n",
    "\n",
    "random_search_recall = hyperparameter_tuning(transformer_no_poly, 'recall', hyperparam_space_random, 'random_search', 50)\n",
    "\n",
    "# Running time : 48 minutes"
   ]
  },
  {
   "cell_type": "code",
   "execution_count": 321,
   "metadata": {},
   "outputs": [
    {
     "data": {
      "text/plain": [
       "{'prep__scaling': StandardScaler(),\n",
       " 'model__clf3__min_samples_leaf': 22,\n",
       " 'model__clf3__max_depth': 2,\n",
       " 'model__clf2__n_neighbors': 26,\n",
       " 'model__clf2__metric': 'minkowski',\n",
       " 'model__clf1__solver': 'sag',\n",
       " 'model__clf1__C': 1}"
      ]
     },
     "execution_count": 321,
     "metadata": {},
     "output_type": "execute_result"
    }
   ],
   "source": [
    "random_search_recall[-1]"
   ]
  },
  {
   "cell_type": "code",
   "execution_count": 324,
   "metadata": {},
   "outputs": [],
   "source": [
    "# Hyperparameter space for GridSearch\n",
    "hyperparam_space_grid_recall = {\n",
    "    'prep__scaling': [StandardScaler()],\n",
    "    'model__clf1__C': [1,0.01],       \n",
    "    'model__clf1__solver' : ['sag'], \n",
    "    'model__clf2__n_neighbors': range(24,29,2),\n",
    "    'model__clf2__metric' : ['minkowski'],      \n",
    "    'model__clf3__max_depth': range(2,7,2),        \n",
    "    'model__clf3__min_samples_leaf': range(20,25,2)\n",
    "}\n",
    "\n",
    "# def hyperparameter_tuning(transformer, metric, hyperparameters, searchCV, n_iter)\n",
    "# return fit, best_score, best_estimator, best_params\n",
    "\n",
    "grid_search_recall = hyperparameter_tuning(transformer_no_poly, 'recall', hyperparam_space_grid_recall, 'grid_search', 0)\n",
    "\n",
    "# Running time : 31 minutes"
   ]
  },
  {
   "cell_type": "markdown",
   "metadata": {},
   "source": [
    "### `precision_score`"
   ]
  },
  {
   "cell_type": "code",
   "execution_count": 319,
   "metadata": {},
   "outputs": [],
   "source": [
    "# def hyperparameter_tuning(transformer, metric, hyperparameters, searchCV, n_iter)\n",
    "# return fit, best_score, best_estimator, best_params\n",
    "\n",
    "random_search_precision = hyperparameter_tuning(transformer_no_poly, 'precision', hyperparam_space_random, 'random_search', 50)\n",
    "\n",
    "# Running time : 49 minutes"
   ]
  },
  {
   "cell_type": "code",
   "execution_count": 322,
   "metadata": {},
   "outputs": [
    {
     "data": {
      "text/plain": [
       "{'prep__scaling': MinMaxScaler(),\n",
       " 'model__clf3__min_samples_leaf': 14,\n",
       " 'model__clf3__max_depth': 24,\n",
       " 'model__clf2__n_neighbors': 6,\n",
       " 'model__clf2__metric': 'minkowski',\n",
       " 'model__clf1__solver': 'liblinear',\n",
       " 'model__clf1__C': 0.01}"
      ]
     },
     "execution_count": 322,
     "metadata": {},
     "output_type": "execute_result"
    }
   ],
   "source": [
    "random_search_precision[-1]"
   ]
  },
  {
   "cell_type": "code",
   "execution_count": 325,
   "metadata": {},
   "outputs": [],
   "source": [
    "# Hyperparameter space for GridSearch\n",
    "hyperparam_space_grid_precision = {\n",
    "    'prep__scaling': [MinMaxScaler()],\n",
    "    'model__clf1__C': [0.01,0.001],       \n",
    "    'model__clf1__solver' : ['liblinear'], \n",
    "    'model__clf2__n_neighbors': range(4,9,2),\n",
    "    'model__clf2__metric' : ['minkowski'],      \n",
    "    'model__clf3__max_depth': range(22,27,2),        \n",
    "    'model__clf3__min_samples_leaf': range(12,17,2)\n",
    "}\n",
    "\n",
    "# def hyperparameter_tuning(transformer, metric, hyperparameters, searchCV, n_iter)\n",
    "# return fit, best_score, best_estimator, best_params\n",
    "\n",
    "grid_search_precision = hyperparameter_tuning(transformer_no_poly, 'precision', hyperparam_space_grid_precision, 'grid_search', 0)\n",
    "\n",
    "# Running time : 26 minutes"
   ]
  },
  {
   "cell_type": "markdown",
   "metadata": {},
   "source": [
    "### `Summary`"
   ]
  },
  {
   "cell_type": "code",
   "execution_count": 335,
   "metadata": {},
   "outputs": [
    {
     "data": {
      "text/html": [
       "<div>\n",
       "<style scoped>\n",
       "    .dataframe tbody tr th:only-of-type {\n",
       "        vertical-align: middle;\n",
       "    }\n",
       "\n",
       "    .dataframe tbody tr th {\n",
       "        vertical-align: top;\n",
       "    }\n",
       "\n",
       "    .dataframe thead th {\n",
       "        text-align: right;\n",
       "    }\n",
       "</style>\n",
       "<table border=\"1\" class=\"dataframe\">\n",
       "  <thead>\n",
       "    <tr style=\"text-align: right;\">\n",
       "      <th></th>\n",
       "      <th>Metric</th>\n",
       "      <th>train_best_score</th>\n",
       "    </tr>\n",
       "  </thead>\n",
       "  <tbody>\n",
       "    <tr>\n",
       "      <th>0</th>\n",
       "      <td>f1_score</td>\n",
       "      <td>0.131456</td>\n",
       "    </tr>\n",
       "    <tr>\n",
       "      <th>1</th>\n",
       "      <td>recall_score</td>\n",
       "      <td>0.682918</td>\n",
       "    </tr>\n",
       "    <tr>\n",
       "      <th>2</th>\n",
       "      <td>precision_score</td>\n",
       "      <td>0.085186</td>\n",
       "    </tr>\n",
       "  </tbody>\n",
       "</table>\n",
       "</div>"
      ],
      "text/plain": [
       "            Metric  train_best_score\n",
       "0         f1_score          0.131456\n",
       "1     recall_score          0.682918\n",
       "2  precision_score          0.085186"
      ]
     },
     "execution_count": 335,
     "metadata": {},
     "output_type": "execute_result"
    }
   ],
   "source": [
    "metric_tuning_summary = pd.DataFrame({\n",
    "    'Metric' : ['f1_score', 'recall_score', 'precision_score'],\n",
    "    'train_best_score' : [grid_search_f1[1], grid_search_recall[1], grid_search_precision[1]],\n",
    "})\n",
    "metric_tuning_summary"
   ]
  },
  {
   "cell_type": "markdown",
   "metadata": {},
   "source": [
    "## `Predict to Test Set`"
   ]
  },
  {
   "cell_type": "markdown",
   "metadata": {},
   "source": [
    "### `Metric Utama (f2_score)`"
   ]
  },
  {
   "cell_type": "markdown",
   "metadata": {},
   "source": [
    "#### `Without Polynomial Features`"
   ]
  },
  {
   "cell_type": "markdown",
   "metadata": {},
   "source": [
    "##### `Before Tuning`"
   ]
  },
  {
   "cell_type": "code",
   "execution_count": 328,
   "metadata": {},
   "outputs": [
    {
     "data": {
      "text/plain": [
       "0.2097018696311268"
      ]
     },
     "execution_count": 328,
     "metadata": {},
     "output_type": "execute_result"
    }
   ],
   "source": [
    "# define model\n",
    "model = voting_clf\n",
    "balancing = ros\n",
    "pipe_model = Pipeline([\n",
    "    ('prep',transformer_no_poly),\n",
    "    ('balancing', balancing),\n",
    "    ('model', model)          \n",
    "])\n",
    "\n",
    "# fitting\n",
    "pipe_model.fit(X_train, y_train)\n",
    "\n",
    "# predict\n",
    "y_pred_benchmark_f2 = pipe_model.predict(X_test)\n",
    "fbeta_score(y_test, y_pred_benchmark_f2, beta=2)\n"
   ]
  },
  {
   "cell_type": "markdown",
   "metadata": {},
   "source": [
    "##### `After Tuning`"
   ]
  },
  {
   "cell_type": "code",
   "execution_count": 329,
   "metadata": {},
   "outputs": [
    {
     "data": {
      "text/plain": [
       "0.22605591909577633"
      ]
     },
     "execution_count": 329,
     "metadata": {},
     "output_type": "execute_result"
    }
   ],
   "source": [
    "# menggunakan model terbaik hasil grid_search\n",
    "model = grid_search_f2_no_poly[2]\n",
    "model.fit(X_train, y_train)\n",
    "\n",
    "y_pred_gridsearch_f2 = model.predict(X_test)\n",
    "fbeta_score(y_test, y_pred_gridsearch_f2, beta=2)"
   ]
  },
  {
   "cell_type": "code",
   "execution_count": 330,
   "metadata": {},
   "outputs": [
    {
     "name": "stdout",
     "output_type": "stream",
     "text": [
      "              precision    recall  f1-score   support\n",
      "\n",
      "           0       0.99      0.87      0.93      8498\n",
      "           1       0.07      0.57      0.12       134\n",
      "\n",
      "    accuracy                           0.87      8632\n",
      "   macro avg       0.53      0.72      0.52      8632\n",
      "weighted avg       0.98      0.87      0.92      8632\n",
      "\n"
     ]
    }
   ],
   "source": [
    "print(classification_report(y_test, y_pred_gridsearch_f2))"
   ]
  },
  {
   "cell_type": "code",
   "execution_count": 343,
   "metadata": {},
   "outputs": [
    {
     "data": {
      "text/plain": [
       "array([[7429, 1069],\n",
       "       [  58,   76]], dtype=int64)"
      ]
     },
     "execution_count": 343,
     "metadata": {},
     "output_type": "execute_result"
    }
   ],
   "source": [
    "confusion_matrix(y_test, y_pred_gridsearch_f2)"
   ]
  },
  {
   "cell_type": "markdown",
   "metadata": {},
   "source": [
    "#### `With Polynomial Features`"
   ]
  },
  {
   "cell_type": "markdown",
   "metadata": {},
   "source": [
    "##### `Before Tuning`"
   ]
  },
  {
   "cell_type": "code",
   "execution_count": 344,
   "metadata": {},
   "outputs": [
    {
     "data": {
      "text/plain": [
       "0.20907700152983172"
      ]
     },
     "execution_count": 344,
     "metadata": {},
     "output_type": "execute_result"
    }
   ],
   "source": [
    "# define model\n",
    "model = voting_clf\n",
    "balancing = ros\n",
    "pipe_model = Pipeline([\n",
    "    ('prep',transformer_poly),\n",
    "    ('balancing', balancing),\n",
    "    ('model', model)          \n",
    "])\n",
    "\n",
    "# fitting\n",
    "pipe_model.fit(X_train, y_train)\n",
    "\n",
    "# predict\n",
    "y_pred_benchmark_f2_poly = pipe_model.predict(X_test)\n",
    "fbeta_score(y_test, y_pred_benchmark_f2_poly, beta=2)\n"
   ]
  },
  {
   "cell_type": "markdown",
   "metadata": {},
   "source": [
    "##### `After Tuning`"
   ]
  },
  {
   "cell_type": "code",
   "execution_count": 340,
   "metadata": {},
   "outputs": [
    {
     "data": {
      "text/plain": [
       "0.22401433691756273"
      ]
     },
     "execution_count": 340,
     "metadata": {},
     "output_type": "execute_result"
    }
   ],
   "source": [
    "# menggunakan model terbaik hasil grid_search\n",
    "model = grid_search_f2_poly[2]\n",
    "model.fit(X_train, y_train)\n",
    "\n",
    "y_pred_gridsearch_f2_poly = model.predict(X_test)\n",
    "fbeta_score(y_test, y_pred_gridsearch_f2_poly, beta=2)"
   ]
  },
  {
   "cell_type": "markdown",
   "metadata": {},
   "source": [
    "#### `Comparison Before and After Tuning`\n",
    "\n",
    "Before dan After Tuning dengan menggunakan dan tidak menggunakan Polynomial Features, keduanya berhasil meningkatkan performa setelah dilakukan Hyperparameter Tuning. Namun untuk perbandingan selanjutnya akan melibatkan tanpa menggunakan Polynomial Features karena tidak mempengaruhi secara signifikan jika menggunakan Polynomial Features."
   ]
  },
  {
   "cell_type": "markdown",
   "metadata": {},
   "source": [
    "### `After Tuning with Other Metrics`"
   ]
  },
  {
   "cell_type": "markdown",
   "metadata": {},
   "source": [
    "#### `f1_score`"
   ]
  },
  {
   "cell_type": "code",
   "execution_count": 332,
   "metadata": {},
   "outputs": [
    {
     "data": {
      "text/plain": [
       "0.12273800157356413"
      ]
     },
     "execution_count": 332,
     "metadata": {},
     "output_type": "execute_result"
    }
   ],
   "source": [
    "# menggunakan model terbaik hasil grid_search\n",
    "model = grid_search_f1[2]\n",
    "model.fit(X_train, y_train)\n",
    "\n",
    "y_pred_gridsearch_f1 = model.predict(X_test)\n",
    "f1_score(y_test, y_pred_gridsearch_f1)"
   ]
  },
  {
   "cell_type": "markdown",
   "metadata": {},
   "source": [
    "#### `recall_score`"
   ]
  },
  {
   "cell_type": "code",
   "execution_count": 333,
   "metadata": {},
   "outputs": [
    {
     "data": {
      "text/plain": [
       "0.6119402985074627"
      ]
     },
     "execution_count": 333,
     "metadata": {},
     "output_type": "execute_result"
    }
   ],
   "source": [
    "# menggunakan model terbaik hasil grid_search\n",
    "model = grid_search_recall[2]\n",
    "model.fit(X_train, y_train)\n",
    "\n",
    "y_pred_gridsearch_recall = model.predict(X_test)\n",
    "recall_score(y_test, y_pred_gridsearch_recall)"
   ]
  },
  {
   "cell_type": "markdown",
   "metadata": {},
   "source": [
    "#### `precision_score`"
   ]
  },
  {
   "cell_type": "code",
   "execution_count": 334,
   "metadata": {},
   "outputs": [
    {
     "data": {
      "text/plain": [
       "0.06273764258555133"
      ]
     },
     "execution_count": 334,
     "metadata": {},
     "output_type": "execute_result"
    }
   ],
   "source": [
    "# menggunakan model terbaik hasil grid_search\n",
    "model = grid_search_precision[2]\n",
    "model.fit(X_train, y_train)\n",
    "\n",
    "y_pred_gridsearch_precision = model.predict(X_test)\n",
    "precision_score(y_test, y_pred_gridsearch_precision)"
   ]
  },
  {
   "cell_type": "markdown",
   "metadata": {},
   "source": [
    "### `Score Summary`"
   ]
  },
  {
   "cell_type": "code",
   "execution_count": 345,
   "metadata": {},
   "outputs": [
    {
     "data": {
      "text/html": [
       "<div>\n",
       "<style scoped>\n",
       "    .dataframe tbody tr th:only-of-type {\n",
       "        vertical-align: middle;\n",
       "    }\n",
       "\n",
       "    .dataframe tbody tr th {\n",
       "        vertical-align: top;\n",
       "    }\n",
       "\n",
       "    .dataframe thead th {\n",
       "        text-align: right;\n",
       "    }\n",
       "</style>\n",
       "<table border=\"1\" class=\"dataframe\">\n",
       "  <thead>\n",
       "    <tr style=\"text-align: right;\">\n",
       "      <th></th>\n",
       "      <th>Metric</th>\n",
       "      <th>train_best_score</th>\n",
       "      <th>test_best_score</th>\n",
       "    </tr>\n",
       "  </thead>\n",
       "  <tbody>\n",
       "    <tr>\n",
       "      <th>0</th>\n",
       "      <td>f2_score_no_poly</td>\n",
       "      <td>0.251917</td>\n",
       "      <td>0.226056</td>\n",
       "    </tr>\n",
       "    <tr>\n",
       "      <th>1</th>\n",
       "      <td>f1_score</td>\n",
       "      <td>0.131456</td>\n",
       "      <td>0.122738</td>\n",
       "    </tr>\n",
       "    <tr>\n",
       "      <th>2</th>\n",
       "      <td>recall_score</td>\n",
       "      <td>0.682918</td>\n",
       "      <td>0.611940</td>\n",
       "    </tr>\n",
       "    <tr>\n",
       "      <th>3</th>\n",
       "      <td>precision_score</td>\n",
       "      <td>0.085186</td>\n",
       "      <td>0.062738</td>\n",
       "    </tr>\n",
       "  </tbody>\n",
       "</table>\n",
       "</div>"
      ],
      "text/plain": [
       "             Metric  train_best_score  test_best_score\n",
       "0  f2_score_no_poly          0.251917         0.226056\n",
       "1          f1_score          0.131456         0.122738\n",
       "2      recall_score          0.682918         0.611940\n",
       "3   precision_score          0.085186         0.062738"
      ]
     },
     "execution_count": 345,
     "metadata": {},
     "output_type": "execute_result"
    }
   ],
   "source": [
    "test_score = pd.DataFrame({\n",
    "    'Metric' : ['f2_score_no_poly', 'f1_score', 'recall_score', 'precision_score'],\n",
    "    'train_best_score' : [grid_search_f2_no_poly[1], grid_search_f1[1], grid_search_recall[1], grid_search_precision[1]],\n",
    "    'test_best_score' : [fbeta_score(y_test, y_pred_gridsearch_f2, beta=2), f1_score(y_test, y_pred_gridsearch_f1), recall_score(y_test, y_pred_gridsearch_recall), precision_score(y_test, y_pred_gridsearch_precision)],\n",
    "})\n",
    "test_score"
   ]
  },
  {
   "cell_type": "code",
   "execution_count": 491,
   "metadata": {},
   "outputs": [
    {
     "data": {
      "text/plain": [
       "0.06273764258555133"
      ]
     },
     "execution_count": 491,
     "metadata": {},
     "output_type": "execute_result"
    }
   ],
   "source": [
    "# Metric Final\n",
    "model = grid_search_precision[2]\n",
    "model.fit(X_train, y_train)\n",
    "\n",
    "y_pred_gridsearch_precision = model.predict(X_test)\n",
    "precision_score(y_test, y_pred_gridsearch_precision)"
   ]
  },
  {
   "cell_type": "markdown",
   "metadata": {},
   "source": [
    "### `Confusion Matrix`"
   ]
  },
  {
   "cell_type": "code",
   "execution_count": 369,
   "metadata": {},
   "outputs": [],
   "source": [
    "# Variable confusion matrix tiap metric\n",
    "matrix_f2 = confusion_matrix(y_test, y_pred_gridsearch_f2)\n",
    "matrix_f1 = confusion_matrix(y_test, y_pred_gridsearch_f1)\n",
    "matrix_recall = confusion_matrix(y_test, y_pred_gridsearch_recall)\n",
    "matrix_precision = confusion_matrix(y_test, y_pred_gridsearch_precision)"
   ]
  },
  {
   "cell_type": "code",
   "execution_count": 372,
   "metadata": {},
   "outputs": [
    {
     "data": {
      "image/png": "[encoded data removed]",
      "text/plain": [
       "<Figure size 1152x864 with 8 Axes>"
      ]
     },
     "metadata": {},
     "output_type": "display_data"
    }
   ],
   "source": [
    "# Showing heatmap of confusion matrix\n",
    "\n",
    "list_matrix = [matrix_f2, matrix_f1, matrix_recall, matrix_precision ]\n",
    "list_title = ['f2_score', 'f1_score', 'recall_score', 'precision_score']\n",
    "\n",
    "plt.figure(figsize=(16,12))\n",
    "\n",
    "subplot = 1\n",
    "\n",
    "for matrix in list_matrix:\n",
    "    \n",
    "    plt.subplot(2,2,subplot)\n",
    "    sns.heatmap(matrix, annot=True, fmt='.0f', square=True)\n",
    "    plt.xlabel('y Prediksi')\n",
    "    plt.ylabel('y Aktual')\n",
    "    plt.title(list_title[subplot-1], size=16)\n",
    "\n",
    "    subplot +=1\n"
   ]
  },
  {
   "cell_type": "code",
   "execution_count": 481,
   "metadata": {},
   "outputs": [],
   "source": [
    "# Buat function perhitungan keuntungan \n",
    "def calculation(matrix):\n",
    "    TN = matrix[0][0]\n",
    "    FN = matrix[1][0]\n",
    "    FP = matrix[0][1]\n",
    "    TP = matrix[1][1]\n",
    "\n",
    "    claim = 1000                                            # Hak klaim tiap pemegang polis per tahun\n",
    "    polis = (X_test['Net Sales'].mean() * 12).round(1)      # rata-rata polis asuransi di test_set per tahun\n",
    "    sum_polis = len(X_test)                                 # jumlah pemegang polis pada test_set\n",
    "    sum_claim = y_test.value_counts()[1]                    # jumlah pemegang polis yang klaim asuransi\n",
    "    amount_claim = sum_claim * claim                        # jumlah yang harus dikeluarkan untuk klaim asuransi terhadap pemegang polis\n",
    "    income_asurance = polis * len(y_test)                   # pemasukan dari seluruh polis asuransi dalam 1 tahun\n",
    "    \n",
    "\n",
    "    if matrix == 'NO ML':\n",
    "        \n",
    "        # Pemasukan Perusahaan\n",
    "        total_income = income_asurance\n",
    "\n",
    "        # Pengeluaran Perusahaan\n",
    "        total_expense = amount_claim\n",
    "\n",
    "        # Cashflow\n",
    "        predict_claim_amount = (TN+TP+FN+FP) * claim\n",
    "\n",
    "        extra_cash = total_income - predict_claim_amount                  # extra cash (kebutuhan dana tambahan untuk memenuhi dana klaim)\n",
    "\n",
    "        if extra_cash > 0:\n",
    "            extra_cash = 0\n",
    "        else:\n",
    "            extra_cash = np.abs(extra_cash)\n",
    "\n",
    "        # Keuntungan bersih (net profit)\n",
    "        net_profit = (total_income - total_expense).round()\n",
    "\n",
    "        return net_profit, extra_cash\n",
    "\n",
    "    else:\n",
    "\n",
    "        # Pemasukan Perusahaan\n",
    "        profit_investment_percentage = 0.06                                 # capital gain per tahun\n",
    "        capital_gain = (TN + FN) * polis * profit_investment_percentage     # capital gain per tahun berdasarkan dana polis\n",
    "\n",
    "        total_income = income_asurance + capital_gain                       # Total pemasukan perusahaan    \n",
    "\n",
    "        # Pengeluaran Perusahaan\n",
    "        unexpected_cash = FN * 100                                          # biaya yang dikenakan akibat terjadi dana mendadak (FN)\n",
    "\n",
    "        total_expense = amount_claim + unexpected_cash\n",
    "        \n",
    "        # Cashflow\n",
    "        predict_claim_amount = (FP+TP) * claim                              # dana yang disiapkan untuk klaim asuransi\n",
    "\n",
    "        extra_cash = total_income - predict_claim_amount                 # extra cash (kebutuhan dana tambahan untuk memenuhi dana klaim)\n",
    "\n",
    "        if extra_cash > 0:\n",
    "            extra_cash = 0\n",
    "        else:\n",
    "            extra_cash = np.abs(extra_cash)\n",
    "\n",
    "        # Keuntungan bersih (net profit)\n",
    "        net_profit = (total_income - total_expense).round()\n",
    "\n",
    "        return net_profit, extra_cash\n",
    "        \n",
    "        \n",
    "                "
   ]
  },
  {
   "cell_type": "code",
   "execution_count": 483,
   "metadata": {},
   "outputs": [
    {
     "data": {
      "text/html": [
       "<div>\n",
       "<style scoped>\n",
       "    .dataframe tbody tr th:only-of-type {\n",
       "        vertical-align: middle;\n",
       "    }\n",
       "\n",
       "    .dataframe tbody tr th {\n",
       "        vertical-align: top;\n",
       "    }\n",
       "\n",
       "    .dataframe thead th {\n",
       "        text-align: right;\n",
       "    }\n",
       "</style>\n",
       "<table border=\"1\" class=\"dataframe\">\n",
       "  <thead>\n",
       "    <tr style=\"text-align: right;\">\n",
       "      <th></th>\n",
       "      <th>Metric</th>\n",
       "      <th>Net_Profit</th>\n",
       "    </tr>\n",
       "  </thead>\n",
       "  <tbody>\n",
       "    <tr>\n",
       "      <th>3</th>\n",
       "      <td>precision_score</td>\n",
       "      <td>4396843.0</td>\n",
       "    </tr>\n",
       "    <tr>\n",
       "      <th>1</th>\n",
       "      <td>f1_score</td>\n",
       "      <td>4383087.0</td>\n",
       "    </tr>\n",
       "    <tr>\n",
       "      <th>0</th>\n",
       "      <td>f2_score</td>\n",
       "      <td>4382648.0</td>\n",
       "    </tr>\n",
       "    <tr>\n",
       "      <th>2</th>\n",
       "      <td>recall_score</td>\n",
       "      <td>4378915.0</td>\n",
       "    </tr>\n",
       "  </tbody>\n",
       "</table>\n",
       "</div>"
      ],
      "text/plain": [
       "            Metric  Net_Profit\n",
       "3  precision_score   4396843.0\n",
       "1         f1_score   4383087.0\n",
       "0         f2_score   4382648.0\n",
       "2     recall_score   4378915.0"
      ]
     },
     "execution_count": 483,
     "metadata": {},
     "output_type": "execute_result"
    }
   ],
   "source": [
    "# Menampilkan keuntungan menggunakan Machine Learning pada tiap metric\n",
    "pd.DataFrame({\n",
    "    'Metric' : ['f2_score', 'f1_score', 'recall_score', 'precision_score'],\n",
    "    'Net_Profit' : [calculation(matrix_f2)[0], calculation(matrix_f1)[0], calculation(matrix_recall)[0], calculation(matrix_precision)[0]]\n",
    "}).sort_values('Net_Profit', ascending=False)"
   ]
  },
  {
   "cell_type": "markdown",
   "metadata": {},
   "source": [
    "Terlihat dari perhitungan keuntungan bersih (net profit), metric precision_score merupakan yang terbesar. Karena itu, lebih baik untuk deploy machine learning menggunakan metric precision_score. Setelah itu dapat dihitung berapa peningkatannya jika tidak menggunakan machine learning."
   ]
  },
  {
   "cell_type": "code",
   "execution_count": 469,
   "metadata": {},
   "outputs": [
    {
     "data": {
      "text/plain": [
       "5.6"
      ]
     },
     "execution_count": 469,
     "metadata": {},
     "output_type": "execute_result"
    }
   ],
   "source": [
    "# Persentase peningkatan net profit machine learning metric precision_score terhadap kalkulasi jika tidak menggunakan machine learning\n",
    "((calculation(matrix_precision)[0] - calculation('NO ML')[0]) / calculation('NO ML')[0] *100).round(1)"
   ]
  },
  {
   "cell_type": "code",
   "execution_count": 474,
   "metadata": {},
   "outputs": [
    {
     "data": {
      "text/plain": [
       "array([[8005,  493],\n",
       "       [ 101,   33]], dtype=int64)"
      ]
     },
     "execution_count": 474,
     "metadata": {},
     "output_type": "execute_result"
    }
   ],
   "source": [
    "matrix_precision"
   ]
  },
  {
   "cell_type": "markdown",
   "metadata": {},
   "source": [
    "Selain itu jika tidak menggunakan machine learning, alokasi dana untuk klaim memerlukan dana tambahan karena pemasukan dari polis Net Sales tidak mencukupi.\n",
    "\n",
    "Kebutuhan dana untuk klaim semua pemegang polis : $8,632,000 <br>\n",
    "Pemasukan perusahaan dari dana polis : $4,298,736 <br>\n",
    "\n",
    "**Sehingga dibutuhkan dana tambahan : $4,333,264**\n"
   ]
  },
  {
   "cell_type": "code",
   "execution_count": 478,
   "metadata": {},
   "outputs": [
    {
     "data": {
      "text/plain": [
       "(4164736.0, 4333264.0)"
      ]
     },
     "execution_count": 478,
     "metadata": {},
     "output_type": "execute_result"
    }
   ],
   "source": [
    "calculation('NO ML')"
   ]
  },
  {
   "cell_type": "markdown",
   "metadata": {},
   "source": [
    "# `Conclusion`"
   ]
  },
  {
   "cell_type": "markdown",
   "metadata": {},
   "source": [
    "Tujuan dari project ini adalah menentukan apakah pemegang polis akan melakukan klaim asuransi atau tidak.\n",
    "\n",
    "- FP: prediksi pemegang polis akan klaim asuransi (perusahaan menyimpan cadangan kas untuk pemegang polis klaim asuransi, tidak dialokasikan pada intrumen investasi yang aman seperti Obligasi), padahal aktualnya tidak klaim (dampaknya perusahaan kehilangan potensi *capital gain* investasi 6% per tahun).\n",
    "- FN: prediksi pemegang polis tidak akan klaim asuransi (perusahaan tidak mengalokasikan cadangan kas untuk pemegang polis klaim asuransi), padahal aktualnya klaim (menyediakan cadangan kas $1000 dan kerugian akibat mendadak membutuhkan dana $100)\n",
    "<br>\n",
    "<br>\n",
    "**Pembayaran polis oleh pemegang polis per bulan : $41.5 (rata-rata Net Sales pada test_set) <br>\n",
    "Pembayaran polis oleh pemegang polis per tahun : $498 (Pemasukan perusahaan) <br>\n",
    "Ketentuan hak klaim asuransi perjalanan per pemegang polis : $1000 / tahun <br>**\n",
    "\n",
    "\n",
    "> **Tanpa menggunakan ML**\n",
    "\n",
    "Sebelum menggunakan ML, perusahaan tidak mengetahui siapa saja pemegang polis yg akan klaim asuransi, sehingga harus menyediakan cadangan kas klaim asuransi untuk semua pemegang polis. Perusahaan tidak mau ambil resiko apabila semua pemegang polis mengajukan klaim asuransi.\n",
    "\n",
    "- Pemasukan Perusahaan:\n",
    "    - Pemasukan perusahaan dari pembayaran polis per tahun (TP+FP+TN+FN): $498 x 8632 = $4,298,736 \n",
    "    **- Total Pemasukan : $4,298,736**\n",
    "\n",
    "- Pengeluaran Perusahaan:\n",
    "    - Alokasi dana klaim tepat sasaran pada orang yang klaim asuransi (TP+FN): $1000 x 134 = $134,000 \n",
    "    **- Total Pengeluaran : $134,000**\n",
    "\n",
    "- Cashflow Perusahaan:\n",
    "    - Alokasi dana untuk klaim asuransi (TP+FP+TN+FN): $1000 x 8632 = $8,632,000 (semua diprediksi akan klaim)\n",
    "    - $8,632,000 > $4,298,736 (income policy), income tidak dapat memenuhi prediksi kebutuhan dana untuk klaim sehingga dibutuhkan dana tambahan sebesar **$4,333,264**\n",
    "\n",
    "- Keuntungan bersih (Net Profit) Perusahaan:\n",
    "    - Pemasukan - Pengeluaran : $4,298,736 - $134,000 = $4,164,736\n",
    "\n",
    "> **Dengan menggunakan ML**\n",
    "\n",
    "- Pemasukan Perusahaan:\n",
    "    - Pemasukan perusahaan dari pembayaran polis per tahun (TP+FP+TN+FN): $498 x 8632 = $4,298,736 \n",
    "    - Capital gain 6% (TN+FN) : 8106 * $498 * 6% = $242,207 <br>\n",
    "    **- Total Pemasukan : $4,298,736 + $242,207 = $4,540,943**\n",
    "\n",
    "- Pengeluaran Perusahaan:\n",
    "    - Alokasi dana klaim tepat sasaran pada orang yang klaim asuransi (TP+FN): $1000 x 134 = $134,000 \n",
    "    - Kerugian akibat harus mendadak membutuhkan dana untuk klaim (FN) : $100 x 101 = $10,100 <br>\n",
    "    **- Total Pengeluaran : $134,000 + $10,100 = $144,100**\n",
    "\n",
    "- Cashflow Perusahaan:\n",
    "    - Alokasi dana untuk klaim asuransi (TP+FP): $1000 x 526 = $526,000 \n",
    "    - $526,000 < $4,298,736 (income policy), income dapat mencakup prediksi kebutuhan dana untuk klaim sehingga tidak dibutuhkan dana tambahan.\n",
    "\n",
    "- Keuntungan bersih (Net Profit) Perusahaan:\n",
    "    - Pemasukan - Pengeluaran : $4,540,943 - $144,100 = $4,396,843\n",
    "\n",
    "\n",
    "**Keuntungan bersih meningkat setelah pakai ML**\n",
    "\n",
    "- Keuntungan bersih sebelum pakai ML: $4,164,736\n",
    "- Keuntungan bersih setelah pakai ML: $4,396,843\n",
    "- ML berhasil meningkatkan keuntungan bersih perusahaan sebesar 5.6% --> ($4,396,843 - $4,164,736) / $4,164,736\n",
    "\n",
    "**Cashflow membaik setelah pakai ML**\n",
    "- Kebutuhan dana tambahan sebelum pakai ML: $4,333,264\n",
    "- Kebutuhan dana tambahan setelah pakai ML: -\n",
    "- ML berhasil menghilangkan dana yang tidak liquid sebelum pakai ML, yaitu sebesar $4,333,264\n"
   ]
  },
  {
   "cell_type": "markdown",
   "metadata": {},
   "source": [
    "# `Recommendation`"
   ]
  },
  {
   "cell_type": "markdown",
   "metadata": {},
   "source": [
    "Hal-hal yang bisa dikembangkan pada project dataset Travel Insurance ini:\n",
    "- Menambah lagi data karena *imbalance data*, terutama pada kelas minority yang hampir 1% karena menyebabkan machine learning kurang mempelajari bagaimana karakteristik pemegang polis yang mengajukan klaim.\n",
    "- Menambah fitur-fitur baru untuk dipelajari oleh machine learning agar model dapat lebih mempelajadi perbedaan kelas 1 dan kelas 0, sehingga diharapkan performa model dapat meningkat. Contoh fitur yang mungkin berkaitan: Pekerjaan, Gaji, Agency Type mungkin dapat dirincikan kembali seperti jenis Airlines-nya (agar machine learning dapat mempelajari bagaimana peluang klaim jika menggunakan Airlines tertentu)."
   ]
  },
  {
   "cell_type": "markdown",
   "metadata": {},
   "source": [
    "# `Save Final Model`"
   ]
  },
  {
   "cell_type": "code",
   "execution_count": 511,
   "metadata": {},
   "outputs": [],
   "source": [
    "import pickle"
   ]
  },
  {
   "cell_type": "code",
   "execution_count": 516,
   "metadata": {},
   "outputs": [],
   "source": [
    "# best model\n",
    "model_voting = grid_search_precision[2]\n",
    "model_voting\n",
    "\n",
    "# fit\n",
    "model_voting.fit(X, y)\n",
    "\n",
    "# save with pickle\n",
    "pickle.dump(model_voting, open('model_votingclassifier.sav', 'wb'))"
   ]
  },
  {
   "cell_type": "code",
   "execution_count": 531,
   "metadata": {},
   "outputs": [
    {
     "data": {
      "text/plain": [
       "Pipeline(steps=[('prep',\n",
       "                 ColumnTransformer(remainder='passthrough',\n",
       "                                   transformers=[('scaling', MinMaxScaler(),\n",
       "                                                  ['Age', 'Duration',\n",
       "                                                   'Net Sales',\n",
       "                                                   'Commision (in value)']),\n",
       "                                                 ('onehot',\n",
       "                                                  OneHotEncoder(drop='first',\n",
       "                                                                handle_unknown='ignore',\n",
       "                                                                sparse=False),\n",
       "                                                  ['Agency', 'Agency Type',\n",
       "                                                   'Distribution Channel',\n",
       "                                                   'Product Name',\n",
       "                                                   'Destination',\n",
       "                                                   'Continent'])])),\n",
       "                ('balancing', RandomOverSampler(random_state=0)),\n",
       "                ('model',\n",
       "                 VotingClassifier(estimators=[('clf1',\n",
       "                                               LogisticRegression(C=0.001,\n",
       "                                                                  random_state=0,\n",
       "                                                                  solver='liblinear')),\n",
       "                                              ('clf2',\n",
       "                                               KNeighborsClassifier(n_neighbors=6)),\n",
       "                                              ('clf3',\n",
       "                                               DecisionTreeClassifier(max_depth=26,\n",
       "                                                                      min_samples_leaf=12,\n",
       "                                                                      random_state=0))]))])"
      ]
     },
     "execution_count": 531,
     "metadata": {},
     "output_type": "execute_result"
    }
   ],
   "source": [
    "# load model\n",
    "\n",
    "model_loaded = pickle.load(open('model_votingclassifier.sav', 'rb'))\n",
    "model_loaded"
   ]
  },
  {
   "cell_type": "code",
   "execution_count": 518,
   "metadata": {},
   "outputs": [
    {
     "data": {
      "text/plain": [
       "Index(['Agency', 'Agency Type', 'Distribution Channel', 'Product Name',\n",
       "       'Duration', 'Destination', 'Continent', 'Net Sales',\n",
       "       'Commision (in value)', 'Age'],\n",
       "      dtype='object')"
      ]
     },
     "execution_count": 518,
     "metadata": {},
     "output_type": "execute_result"
    }
   ],
   "source": [
    "X.columns"
   ]
  },
  {
   "cell_type": "code",
   "execution_count": 521,
   "metadata": {},
   "outputs": [
    {
     "data": {
      "text/html": [
       "<div>\n",
       "<style scoped>\n",
       "    .dataframe tbody tr th:only-of-type {\n",
       "        vertical-align: middle;\n",
       "    }\n",
       "\n",
       "    .dataframe tbody tr th {\n",
       "        vertical-align: top;\n",
       "    }\n",
       "\n",
       "    .dataframe thead th {\n",
       "        text-align: right;\n",
       "    }\n",
       "</style>\n",
       "<table border=\"1\" class=\"dataframe\">\n",
       "  <thead>\n",
       "    <tr style=\"text-align: right;\">\n",
       "      <th></th>\n",
       "      <th>Duration</th>\n",
       "      <th>Net Sales</th>\n",
       "      <th>Commision (in value)</th>\n",
       "      <th>Age</th>\n",
       "    </tr>\n",
       "  </thead>\n",
       "  <tbody>\n",
       "    <tr>\n",
       "      <th>count</th>\n",
       "      <td>43157.000000</td>\n",
       "      <td>43157.000000</td>\n",
       "      <td>43157.000000</td>\n",
       "      <td>43157.000000</td>\n",
       "    </tr>\n",
       "    <tr>\n",
       "      <th>mean</th>\n",
       "      <td>47.942281</td>\n",
       "      <td>41.445934</td>\n",
       "      <td>9.358945</td>\n",
       "      <td>38.714948</td>\n",
       "    </tr>\n",
       "    <tr>\n",
       "      <th>std</th>\n",
       "      <td>73.595911</td>\n",
       "      <td>47.062256</td>\n",
       "      <td>19.204414</td>\n",
       "      <td>10.087702</td>\n",
       "    </tr>\n",
       "    <tr>\n",
       "      <th>min</th>\n",
       "      <td>0.000000</td>\n",
       "      <td>0.000000</td>\n",
       "      <td>0.000000</td>\n",
       "      <td>0.000000</td>\n",
       "    </tr>\n",
       "    <tr>\n",
       "      <th>25%</th>\n",
       "      <td>9.000000</td>\n",
       "      <td>18.000000</td>\n",
       "      <td>0.000000</td>\n",
       "      <td>35.000000</td>\n",
       "    </tr>\n",
       "    <tr>\n",
       "      <th>50%</th>\n",
       "      <td>22.000000</td>\n",
       "      <td>26.000000</td>\n",
       "      <td>0.000000</td>\n",
       "      <td>36.000000</td>\n",
       "    </tr>\n",
       "    <tr>\n",
       "      <th>75%</th>\n",
       "      <td>52.000000</td>\n",
       "      <td>48.000000</td>\n",
       "      <td>10.500000</td>\n",
       "      <td>42.000000</td>\n",
       "    </tr>\n",
       "    <tr>\n",
       "      <th>max</th>\n",
       "      <td>740.000000</td>\n",
       "      <td>599.000000</td>\n",
       "      <td>210.210000</td>\n",
       "      <td>88.000000</td>\n",
       "    </tr>\n",
       "  </tbody>\n",
       "</table>\n",
       "</div>"
      ],
      "text/plain": [
       "           Duration     Net Sales  Commision (in value)           Age\n",
       "count  43157.000000  43157.000000          43157.000000  43157.000000\n",
       "mean      47.942281     41.445934              9.358945     38.714948\n",
       "std       73.595911     47.062256             19.204414     10.087702\n",
       "min        0.000000      0.000000              0.000000      0.000000\n",
       "25%        9.000000     18.000000              0.000000     35.000000\n",
       "50%       22.000000     26.000000              0.000000     36.000000\n",
       "75%       52.000000     48.000000             10.500000     42.000000\n",
       "max      740.000000    599.000000            210.210000     88.000000"
      ]
     },
     "execution_count": 521,
     "metadata": {},
     "output_type": "execute_result"
    }
   ],
   "source": [
    "X.describe()"
   ]
  },
  {
   "cell_type": "code",
   "execution_count": 527,
   "metadata": {},
   "outputs": [
    {
     "data": {
      "text/plain": [
       "array(['SINGAPORE', 'MALAYSIA', 'INDIA', 'UNITED STATES',\n",
       "       'KOREA, REPUBLIC OF', 'THAILAND', 'OTHER', 'JAPAN', 'INDONESIA',\n",
       "       'VIET NAM', 'AUSTRALIA', 'UNITED KINGDOM', 'HONG KONG', 'CHINA',\n",
       "       'TAIWAN, PROVINCE OF CHINA', 'PHILIPPINES'], dtype=object)"
      ]
     },
     "execution_count": 527,
     "metadata": {},
     "output_type": "execute_result"
    }
   ],
   "source": [
    "X['Destination'].unique()"
   ]
  },
  {
   "cell_type": "code",
   "execution_count": 529,
   "metadata": {},
   "outputs": [
    {
     "data": {
      "text/html": [
       "<div>\n",
       "<style scoped>\n",
       "    .dataframe tbody tr th:only-of-type {\n",
       "        vertical-align: middle;\n",
       "    }\n",
       "\n",
       "    .dataframe tbody tr th {\n",
       "        vertical-align: top;\n",
       "    }\n",
       "\n",
       "    .dataframe thead th {\n",
       "        text-align: right;\n",
       "    }\n",
       "</style>\n",
       "<table border=\"1\" class=\"dataframe\">\n",
       "  <thead>\n",
       "    <tr style=\"text-align: right;\">\n",
       "      <th></th>\n",
       "      <th>Agency</th>\n",
       "      <th>Agency Type</th>\n",
       "      <th>Distribution Channel</th>\n",
       "      <th>Product Name</th>\n",
       "      <th>Duration</th>\n",
       "      <th>Destination</th>\n",
       "      <th>Continent</th>\n",
       "      <th>Net Sales</th>\n",
       "      <th>Commision (in value)</th>\n",
       "      <th>Age</th>\n",
       "    </tr>\n",
       "  </thead>\n",
       "  <tbody>\n",
       "    <tr>\n",
       "      <th>0</th>\n",
       "      <td>EPX</td>\n",
       "      <td>Airlines</td>\n",
       "      <td>Online</td>\n",
       "      <td>24 Protect</td>\n",
       "      <td>50</td>\n",
       "      <td>MALAYSIA</td>\n",
       "      <td>Asia</td>\n",
       "      <td>43</td>\n",
       "      <td>20</td>\n",
       "      <td>20</td>\n",
       "    </tr>\n",
       "  </tbody>\n",
       "</table>\n",
       "</div>"
      ],
      "text/plain": [
       "  Agency Agency Type Distribution Channel Product Name  Duration Destination  \\\n",
       "0    EPX    Airlines               Online   24 Protect        50    MALAYSIA   \n",
       "\n",
       "  Continent  Net Sales  Commision (in value)  Age  \n",
       "0      Asia         43                    20   20  "
      ]
     },
     "execution_count": 529,
     "metadata": {},
     "output_type": "execute_result"
    }
   ],
   "source": [
    "new_cust = pd.DataFrame({\n",
    "    'Agency':['EPX'],\n",
    "    'Agency Type':['Airlines'],\n",
    "    'Distribution Channel':['Online'],\n",
    "    'Product Name':['24 Protect'],\n",
    "    'Duration':[50],\n",
    "    'Destination':['MALAYSIA'],\n",
    "    'Continent':['Asia'],\n",
    "    'Net Sales':[43],\n",
    "    'Commision (in value)':[20],\n",
    "    'Age':[20]\n",
    "})\n",
    "\n",
    "new_cust"
   ]
  },
  {
   "cell_type": "code",
   "execution_count": 537,
   "metadata": {},
   "outputs": [
    {
     "data": {
      "text/html": [
       "<div>\n",
       "<style scoped>\n",
       "    .dataframe tbody tr th:only-of-type {\n",
       "        vertical-align: middle;\n",
       "    }\n",
       "\n",
       "    .dataframe tbody tr th {\n",
       "        vertical-align: top;\n",
       "    }\n",
       "\n",
       "    .dataframe thead th {\n",
       "        text-align: right;\n",
       "    }\n",
       "</style>\n",
       "<table border=\"1\" class=\"dataframe\">\n",
       "  <thead>\n",
       "    <tr style=\"text-align: right;\">\n",
       "      <th></th>\n",
       "      <th>Agency</th>\n",
       "      <th>Agency Type</th>\n",
       "      <th>Distribution Channel</th>\n",
       "      <th>Product Name</th>\n",
       "      <th>Duration</th>\n",
       "      <th>Destination</th>\n",
       "      <th>Continent</th>\n",
       "      <th>Net Sales</th>\n",
       "      <th>Commision (in value)</th>\n",
       "      <th>Age</th>\n",
       "    </tr>\n",
       "  </thead>\n",
       "  <tbody>\n",
       "    <tr>\n",
       "      <th>70</th>\n",
       "      <td>EPX</td>\n",
       "      <td>Travel Agency</td>\n",
       "      <td>Online</td>\n",
       "      <td>1 way Comprehensive Plan</td>\n",
       "      <td>1</td>\n",
       "      <td>SINGAPORE</td>\n",
       "      <td>Asia</td>\n",
       "      <td>20.0</td>\n",
       "      <td>0.0</td>\n",
       "      <td>36</td>\n",
       "    </tr>\n",
       "  </tbody>\n",
       "</table>\n",
       "</div>"
      ],
      "text/plain": [
       "   Agency    Agency Type Distribution Channel              Product Name  \\\n",
       "70    EPX  Travel Agency               Online  1 way Comprehensive Plan   \n",
       "\n",
       "    Duration Destination Continent  Net Sales  Commision (in value)  Age  \n",
       "70         1   SINGAPORE      Asia       20.0                   0.0   36  "
      ]
     },
     "execution_count": 537,
     "metadata": {},
     "output_type": "execute_result"
    }
   ],
   "source": [
    "X.iloc[[70],:]"
   ]
  },
  {
   "cell_type": "code",
   "execution_count": 532,
   "metadata": {},
   "outputs": [
    {
     "data": {
      "text/plain": [
       "array([0])"
      ]
     },
     "execution_count": 532,
     "metadata": {},
     "output_type": "execute_result"
    }
   ],
   "source": [
    "model_loaded.predict(new_cust)"
   ]
  },
  {
   "cell_type": "code",
   "execution_count": 539,
   "metadata": {},
   "outputs": [
    {
     "data": {
      "text/plain": [
       "0"
      ]
     },
     "execution_count": 539,
     "metadata": {},
     "output_type": "execute_result"
    }
   ],
   "source": [
    "y.iloc[70]"
   ]
  },
  {
   "cell_type": "code",
   "execution_count": 538,
   "metadata": {},
   "outputs": [
    {
     "data": {
      "text/plain": [
       "array([0])"
      ]
     },
     "execution_count": 538,
     "metadata": {},
     "output_type": "execute_result"
    }
   ],
   "source": [
    "model_loaded.predict(X.iloc[[70],:])"
   ]
  }
 ],
 "metadata": {
  "kernelspec": {
   "display_name": "Python 3",
   "language": "python",
   "name": "python3"
  },
  "language_info": {
   "codemirror_mode": {
    "name": "ipython",
    "version": 3
   },
   "file_extension": ".py",
   "mimetype": "text/x-python",
   "name": "python",
   "nbconvert_exporter": "python",
   "pygments_lexer": "ipython3",
   "version": "3.7.9"
  },
  "orig_nbformat": 4,
  "vscode": {
   "interpreter": {
    "hash": "751832247a6d7502c965897e290a90ee100c5011f4bc7658ebd561f5137e5eb0"
   }
  }
 },
 "nbformat": 4,
 "nbformat_minor": 2
}
